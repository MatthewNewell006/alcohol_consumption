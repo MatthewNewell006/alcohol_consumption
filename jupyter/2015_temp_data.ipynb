{
 "cells": [
  {
   "cell_type": "markdown",
   "metadata": {},
   "source": [
    "### Checking Temperature in Areas Contrasted with Alcohol Consumption"
   ]
  },
  {
   "cell_type": "code",
   "execution_count": 130,
   "metadata": {},
   "outputs": [],
   "source": [
    "import pandas as pd\n",
    "import numpy as np\n",
    "import matplotlib.pyplot as plt\n",
    "import scipy.stats as stats"
   ]
  },
  {
   "cell_type": "code",
   "execution_count": 131,
   "metadata": {},
   "outputs": [
    {
     "name": "stderr",
     "output_type": "stream",
     "text": [
      "/Applications/anaconda3/lib/python3.7/site-packages/ipykernel_launcher.py:24: SettingWithCopyWarning: \n",
      "A value is trying to be set on a copy of a slice from a DataFrame.\n",
      "Try using .loc[row_indexer,col_indexer] = value instead\n",
      "\n",
      "See the caveats in the documentation: https://pandas.pydata.org/pandas-docs/stable/user_guide/indexing.html#returning-a-view-versus-a-copy\n"
     ]
    },
    {
     "data": {
      "text/plain": [
       "str"
      ]
     },
     "execution_count": 131,
     "metadata": {},
     "output_type": "execute_result"
    }
   ],
   "source": [
    "ac_df = pd.read_csv('../data/modified/2015_states_sorted.csv')\n",
    "ac_df = ac_df.drop(columns=['Unnamed: 0','year'])\n",
    "\n",
    "ac_df = np.round(ac_df, decimals = 2)\n",
    "\n",
    "us_state_abbrev = {\n",
    "'alabama': 'AL', 'alaska': 'AK', 'arizona': 'AZ', 'arkansas': 'AR', 'california': 'CA', 'colorado': 'CO',\n",
    "'connecticut': 'CT', 'delaware': 'DE', 'florida': 'FL', 'georgia': 'GA', 'hawaii': 'HI', 'idaho': 'ID',\n",
    "'illinois': 'IL', 'indiana': 'IN', 'iowa': 'IA', 'kansas': 'KS', 'kentucky': 'KY', 'louisiana': 'LA',\n",
    "'maine': 'ME', 'maryland': 'MD', 'massachusetts': 'MA', 'michigan': 'MI', 'minnesota': 'MN', 'mississippi': 'MS',\n",
    "'missouri': 'MO', 'montana': 'MT', 'nebraska': 'NE', 'nevada': 'NV', 'new hampshire': 'NH', 'new Jersey': 'NJ',\n",
    "'new mexico': 'NM', 'new york': 'NY', 'north carolina': 'NC', 'north dakota': 'ND', 'ohio': 'OH', 'oklahoma': 'OK',\n",
    "'oregon': 'OR', 'pennsylvania': 'PA', 'phode island': 'RI', 'south carolina': 'SC', 'south dakota': 'SD',\n",
    "'tennessee': 'TN', 'texas': 'TX', 'utah': 'UT', 'vermont': 'VT', 'virginia': 'VA', 'washington': 'WA',\n",
    "'west virginia': 'WV', 'wisconsin': 'WI', 'wyoming': 'WY'}\n",
    "\n",
    "ac_df['STATE'] = ac_df['state'].map(us_state_abbrev)\n",
    "# ac_df.columns.values[0] = 'STATE'\n",
    "\n",
    "t_df = pd.read_csv('../data/modified/2015_state_temperatures.csv')\n",
    "\n",
    "t_df = t_df.drop(columns=['CITY','Unnamed: 0'])\n",
    "t_annual = t_df[['ANN','STATE']]\n",
    "t_annual['STATE'] = t_annual['STATE'].astype('string')\n",
    "type(t_annual['STATE'][0])\n",
    "\n",
    "\n"
   ]
  },
  {
   "cell_type": "code",
   "execution_count": 132,
   "metadata": {},
   "outputs": [],
   "source": [
    "ac_df.drop(['state'], axis = 1, inplace = True)"
   ]
  },
  {
   "cell_type": "code",
   "execution_count": 133,
   "metadata": {},
   "outputs": [],
   "source": [
    "ac_df['STATE'] = ac_df['STATE'].astype('string')"
   ]
  },
  {
   "cell_type": "code",
   "execution_count": 134,
   "metadata": {},
   "outputs": [
    {
     "name": "stdout",
     "output_type": "stream",
     "text": [
      "<class 'pandas.core.frame.DataFrame'>\n",
      "RangeIndex: 56 entries, 0 to 55\n",
      "Data columns (total 9 columns):\n",
      " #   Column                                 Non-Null Count  Dtype  \n",
      "---  ------                                 --------------  -----  \n",
      " 0   ethanol_beer_gallons_per_capita        56 non-null     float64\n",
      " 1   ethanol_wine_gallons_per_capita        56 non-null     float64\n",
      " 2   ethanol_spirit_gallons_per_capita      56 non-null     float64\n",
      " 3   ethanol_all_drinks_gallons_per_capita  56 non-null     float64\n",
      " 4   number_of_beers                        56 non-null     float64\n",
      " 5   number_of_glasses_wine                 56 non-null     float64\n",
      " 6   number_of_shots_liquor                 56 non-null     float64\n",
      " 7   number_of_drinks_total                 56 non-null     float64\n",
      " 8   STATE                                  48 non-null     string \n",
      "dtypes: float64(8), string(1)\n",
      "memory usage: 4.1 KB\n"
     ]
    }
   ],
   "source": [
    "ac_df.info()"
   ]
  },
  {
   "cell_type": "markdown",
   "metadata": {},
   "source": [
    "### Merge Dataframes"
   ]
  },
  {
   "cell_type": "code",
   "execution_count": 135,
   "metadata": {},
   "outputs": [],
   "source": [
    "left_merge = ac_df.merge(t_annual, how='left', on = 'STATE')"
   ]
  },
  {
   "cell_type": "code",
   "execution_count": 136,
   "metadata": {},
   "outputs": [
    {
     "data": {
      "text/html": [
       "<div>\n",
       "<style scoped>\n",
       "    .dataframe tbody tr th:only-of-type {\n",
       "        vertical-align: middle;\n",
       "    }\n",
       "\n",
       "    .dataframe tbody tr th {\n",
       "        vertical-align: top;\n",
       "    }\n",
       "\n",
       "    .dataframe thead th {\n",
       "        text-align: right;\n",
       "    }\n",
       "</style>\n",
       "<table border=\"1\" class=\"dataframe\">\n",
       "  <thead>\n",
       "    <tr style=\"text-align: right;\">\n",
       "      <th></th>\n",
       "      <th>ethanol_beer_gallons_per_capita</th>\n",
       "      <th>ethanol_wine_gallons_per_capita</th>\n",
       "      <th>ethanol_spirit_gallons_per_capita</th>\n",
       "      <th>ethanol_all_drinks_gallons_per_capita</th>\n",
       "      <th>number_of_beers</th>\n",
       "      <th>number_of_glasses_wine</th>\n",
       "      <th>number_of_shots_liquor</th>\n",
       "      <th>number_of_drinks_total</th>\n",
       "      <th>STATE</th>\n",
       "      <th>ANN</th>\n",
       "    </tr>\n",
       "  </thead>\n",
       "  <tbody>\n",
       "    <tr>\n",
       "      <th>0</th>\n",
       "      <td>1.11</td>\n",
       "      <td>0.26</td>\n",
       "      <td>0.64</td>\n",
       "      <td>2.01</td>\n",
       "      <td>263.11</td>\n",
       "      <td>51.60</td>\n",
       "      <td>132.88</td>\n",
       "      <td>428.80</td>\n",
       "      <td>AL</td>\n",
       "      <td>107.0</td>\n",
       "    </tr>\n",
       "    <tr>\n",
       "      <th>1</th>\n",
       "      <td>1.11</td>\n",
       "      <td>0.26</td>\n",
       "      <td>0.64</td>\n",
       "      <td>2.01</td>\n",
       "      <td>263.11</td>\n",
       "      <td>51.60</td>\n",
       "      <td>132.88</td>\n",
       "      <td>428.80</td>\n",
       "      <td>AL</td>\n",
       "      <td>106.0</td>\n",
       "    </tr>\n",
       "    <tr>\n",
       "      <th>2</th>\n",
       "      <td>1.11</td>\n",
       "      <td>0.26</td>\n",
       "      <td>0.64</td>\n",
       "      <td>2.01</td>\n",
       "      <td>263.11</td>\n",
       "      <td>51.60</td>\n",
       "      <td>132.88</td>\n",
       "      <td>428.80</td>\n",
       "      <td>AL</td>\n",
       "      <td>105.0</td>\n",
       "    </tr>\n",
       "    <tr>\n",
       "      <th>3</th>\n",
       "      <td>1.11</td>\n",
       "      <td>0.26</td>\n",
       "      <td>0.64</td>\n",
       "      <td>2.01</td>\n",
       "      <td>263.11</td>\n",
       "      <td>51.60</td>\n",
       "      <td>132.88</td>\n",
       "      <td>428.80</td>\n",
       "      <td>AL</td>\n",
       "      <td>106.0</td>\n",
       "    </tr>\n",
       "    <tr>\n",
       "      <th>4</th>\n",
       "      <td>1.11</td>\n",
       "      <td>0.53</td>\n",
       "      <td>1.20</td>\n",
       "      <td>2.84</td>\n",
       "      <td>263.11</td>\n",
       "      <td>105.18</td>\n",
       "      <td>249.15</td>\n",
       "      <td>605.87</td>\n",
       "      <td>AK</td>\n",
       "      <td>85.0</td>\n",
       "    </tr>\n",
       "    <tr>\n",
       "      <th>...</th>\n",
       "      <td>...</td>\n",
       "      <td>...</td>\n",
       "      <td>...</td>\n",
       "      <td>...</td>\n",
       "      <td>...</td>\n",
       "      <td>...</td>\n",
       "      <td>...</td>\n",
       "      <td>...</td>\n",
       "      <td>...</td>\n",
       "      <td>...</td>\n",
       "    </tr>\n",
       "    <tr>\n",
       "      <th>252</th>\n",
       "      <td>1.39</td>\n",
       "      <td>0.39</td>\n",
       "      <td>1.20</td>\n",
       "      <td>2.98</td>\n",
       "      <td>329.48</td>\n",
       "      <td>77.40</td>\n",
       "      <td>249.15</td>\n",
       "      <td>635.73</td>\n",
       "      <td>WI</td>\n",
       "      <td>103.0</td>\n",
       "    </tr>\n",
       "    <tr>\n",
       "      <th>253</th>\n",
       "      <td>1.25</td>\n",
       "      <td>0.31</td>\n",
       "      <td>1.18</td>\n",
       "      <td>2.74</td>\n",
       "      <td>296.30</td>\n",
       "      <td>61.52</td>\n",
       "      <td>245.00</td>\n",
       "      <td>584.53</td>\n",
       "      <td>WY</td>\n",
       "      <td>104.0</td>\n",
       "    </tr>\n",
       "    <tr>\n",
       "      <th>254</th>\n",
       "      <td>1.25</td>\n",
       "      <td>0.31</td>\n",
       "      <td>1.18</td>\n",
       "      <td>2.74</td>\n",
       "      <td>296.30</td>\n",
       "      <td>61.52</td>\n",
       "      <td>245.00</td>\n",
       "      <td>584.53</td>\n",
       "      <td>WY</td>\n",
       "      <td>100.0</td>\n",
       "    </tr>\n",
       "    <tr>\n",
       "      <th>255</th>\n",
       "      <td>1.25</td>\n",
       "      <td>0.31</td>\n",
       "      <td>1.18</td>\n",
       "      <td>2.74</td>\n",
       "      <td>296.30</td>\n",
       "      <td>61.52</td>\n",
       "      <td>245.00</td>\n",
       "      <td>584.53</td>\n",
       "      <td>WY</td>\n",
       "      <td>101.0</td>\n",
       "    </tr>\n",
       "    <tr>\n",
       "      <th>256</th>\n",
       "      <td>1.25</td>\n",
       "      <td>0.31</td>\n",
       "      <td>1.18</td>\n",
       "      <td>2.74</td>\n",
       "      <td>296.30</td>\n",
       "      <td>61.52</td>\n",
       "      <td>245.00</td>\n",
       "      <td>584.53</td>\n",
       "      <td>WY</td>\n",
       "      <td>107.0</td>\n",
       "    </tr>\n",
       "  </tbody>\n",
       "</table>\n",
       "<p>257 rows × 10 columns</p>\n",
       "</div>"
      ],
      "text/plain": [
       "     ethanol_beer_gallons_per_capita  ethanol_wine_gallons_per_capita  \\\n",
       "0                               1.11                             0.26   \n",
       "1                               1.11                             0.26   \n",
       "2                               1.11                             0.26   \n",
       "3                               1.11                             0.26   \n",
       "4                               1.11                             0.53   \n",
       "..                               ...                              ...   \n",
       "252                             1.39                             0.39   \n",
       "253                             1.25                             0.31   \n",
       "254                             1.25                             0.31   \n",
       "255                             1.25                             0.31   \n",
       "256                             1.25                             0.31   \n",
       "\n",
       "     ethanol_spirit_gallons_per_capita  ethanol_all_drinks_gallons_per_capita  \\\n",
       "0                                 0.64                                   2.01   \n",
       "1                                 0.64                                   2.01   \n",
       "2                                 0.64                                   2.01   \n",
       "3                                 0.64                                   2.01   \n",
       "4                                 1.20                                   2.84   \n",
       "..                                 ...                                    ...   \n",
       "252                               1.20                                   2.98   \n",
       "253                               1.18                                   2.74   \n",
       "254                               1.18                                   2.74   \n",
       "255                               1.18                                   2.74   \n",
       "256                               1.18                                   2.74   \n",
       "\n",
       "     number_of_beers  number_of_glasses_wine  number_of_shots_liquor  \\\n",
       "0             263.11                   51.60                  132.88   \n",
       "1             263.11                   51.60                  132.88   \n",
       "2             263.11                   51.60                  132.88   \n",
       "3             263.11                   51.60                  132.88   \n",
       "4             263.11                  105.18                  249.15   \n",
       "..               ...                     ...                     ...   \n",
       "252           329.48                   77.40                  249.15   \n",
       "253           296.30                   61.52                  245.00   \n",
       "254           296.30                   61.52                  245.00   \n",
       "255           296.30                   61.52                  245.00   \n",
       "256           296.30                   61.52                  245.00   \n",
       "\n",
       "     number_of_drinks_total STATE    ANN  \n",
       "0                    428.80    AL  107.0  \n",
       "1                    428.80    AL  106.0  \n",
       "2                    428.80    AL  105.0  \n",
       "3                    428.80    AL  106.0  \n",
       "4                    605.87    AK   85.0  \n",
       "..                      ...   ...    ...  \n",
       "252                  635.73    WI  103.0  \n",
       "253                  584.53    WY  104.0  \n",
       "254                  584.53    WY  100.0  \n",
       "255                  584.53    WY  101.0  \n",
       "256                  584.53    WY  107.0  \n",
       "\n",
       "[257 rows x 10 columns]"
      ]
     },
     "execution_count": 136,
     "metadata": {},
     "output_type": "execute_result"
    }
   ],
   "source": [
    "left_merge"
   ]
  },
  {
   "cell_type": "code",
   "execution_count": 152,
   "metadata": {},
   "outputs": [],
   "source": [
    "# left_merge.to_csv('../data/modified/left_merge_table.csv')"
   ]
  },
  {
   "cell_type": "code",
   "execution_count": 160,
   "metadata": {},
   "outputs": [],
   "source": [
    "mean_by_state = left_merge.groupby('STATE').mean()\n",
    "# mean_by_state.to_csv('../data/modified/left_merge_table.csv')"
   ]
  },
  {
   "cell_type": "markdown",
   "metadata": {},
   "source": [
    "### Statisical Comparison and Graphing"
   ]
  },
  {
   "cell_type": "code",
   "execution_count": 145,
   "metadata": {},
   "outputs": [],
   "source": [
    "m_state.columns\n",
    "\n",
    "# ann_min = m_state['ANN'].min\n",
    "# ann_mean = m_state['ANN'].mean\n",
    "# ann_median = m_state['ANN'].median\n",
    "# ann_max = m_state['ANN'].max\n",
    "\n",
    "# total_min = m_state['number_of_drinks_total'].min\n",
    "# total_mean = m_state['number_of_drinks_total'].mean\n",
    "# total_median = m_state['number_of_drinks_total'].median\n",
    "# total_max = m_state['number_of_drinks_total'].max\n",
    "\n",
    "\n",
    "# bgper_min = m_state['ethanol_beer_gallons_per_capita'].min\n",
    "# wgper_min = m_state['ethanol_wine_gallons_per_capita'].min\n",
    "# sgper_min = m_state['ethanol_spirit_gallons_per_capita'].min\n",
    "\n",
    "# bgper_mean = m_state['ethanol_beer_gallons_per_capita'].mean\n",
    "# wgper_mean = m_state['ethanol_wine_gallons_per_capita'].mean\n",
    "# sgper_mean = m_state['ethanol_spirit_gallons_per_capita'].mean\n",
    "\n",
    "# bgper_median = m_state['ethanol_beer_gallons_per_capita'].median\n",
    "# wgper_median = m_state['ethanol_wine_gallons_per_capita'].median\n",
    "# sgper_median = m_state['ethanol_spirit_gallons_per_capita'].median\n",
    "\n",
    "# bgper_max = m_state['ethanol_beer_gallons_per_capita'].max\n",
    "# wgper_max = m_state['ethanol_wine_gallons_per_capita'].max\n",
    "# sgper_max = m_state['ethanol_spirit_gallons_per_capita'].max\n",
    "\n"
   ]
  },
  {
   "cell_type": "markdown",
   "metadata": {},
   "source": [
    "### MannWhitneyU Test"
   ]
  },
  {
   "cell_type": "code",
   "execution_count": 154,
   "metadata": {},
   "outputs": [
    {
     "data": {
      "text/plain": [
       "MannwhitneyuResult(statistic=0.0, pvalue=1.6105904955319984e-17)"
      ]
     },
     "execution_count": 154,
     "metadata": {},
     "output_type": "execute_result"
    }
   ],
   "source": [
    "stats.mannwhitneyu(m_state['ANN'], m_state['number_of_drinks_total'])"
   ]
  },
  {
   "cell_type": "code",
   "execution_count": 169,
   "metadata": {},
   "outputs": [
    {
     "data": {
      "text/plain": [
       "(-0.23492157503745958, 0.10799623673267993)"
      ]
     },
     "execution_count": 169,
     "metadata": {},
     "output_type": "execute_result"
    }
   ],
   "source": [
    "stats.pearsonr(m_state['ANN'], m_state['ethanol_beer_gallons_per_capita']) "
   ]
  },
  {
   "cell_type": "code",
   "execution_count": 170,
   "metadata": {},
   "outputs": [
    {
     "data": {
      "text/plain": [
       "(-0.38741682778152986, 0.006518496929138399)"
      ]
     },
     "execution_count": 170,
     "metadata": {},
     "output_type": "execute_result"
    }
   ],
   "source": [
    "stats.pearsonr(m_state['ANN'], m_state['ethanol_wine_gallons_per_capita']) "
   ]
  },
  {
   "cell_type": "code",
   "execution_count": 171,
   "metadata": {},
   "outputs": [
    {
     "data": {
      "text/plain": [
       "(-0.41316564947100254, 0.0035151945593773384)"
      ]
     },
     "execution_count": 171,
     "metadata": {},
     "output_type": "execute_result"
    }
   ],
   "source": [
    "stats.pearsonr(m_state['ANN'], m_state['ethanol_spirit_gallons_per_capita']) "
   ]
  },
  {
   "cell_type": "markdown",
   "metadata": {},
   "source": [
    "### Pearsonr"
   ]
  },
  {
   "cell_type": "code",
   "execution_count": 163,
   "metadata": {},
   "outputs": [
    {
     "data": {
      "text/plain": [
       "(-0.4485023569704955, 0.0013881667201398437)"
      ]
     },
     "execution_count": 163,
     "metadata": {},
     "output_type": "execute_result"
    }
   ],
   "source": [
    "stats.pearsonr(m_state['ANN'], m_state['number_of_drinks_total']) "
   ]
  },
  {
   "cell_type": "code",
   "execution_count": 164,
   "metadata": {},
   "outputs": [
    {
     "data": {
      "text/plain": [
       "(-0.23492157503745958, 0.10799623673267993)"
      ]
     },
     "execution_count": 164,
     "metadata": {},
     "output_type": "execute_result"
    }
   ],
   "source": [
    "stats.pearsonr(m_state['ANN'], m_state['ethanol_beer_gallons_per_capita']) "
   ]
  },
  {
   "cell_type": "code",
   "execution_count": 165,
   "metadata": {},
   "outputs": [
    {
     "data": {
      "text/plain": [
       "(-0.38741682778152986, 0.006518496929138399)"
      ]
     },
     "execution_count": 165,
     "metadata": {},
     "output_type": "execute_result"
    }
   ],
   "source": [
    "stats.pearsonr(m_state['ANN'], m_state['ethanol_wine_gallons_per_capita']) "
   ]
  },
  {
   "cell_type": "code",
   "execution_count": 166,
   "metadata": {},
   "outputs": [
    {
     "data": {
      "text/plain": [
       "(-0.41316564947100254, 0.0035151945593773384)"
      ]
     },
     "execution_count": 166,
     "metadata": {},
     "output_type": "execute_result"
    }
   ],
   "source": [
    "stats.pearsonr(m_state['ANN'], m_state['ethanol_spirit_gallons_per_capita']) "
   ]
  },
  {
   "cell_type": "markdown",
   "metadata": {},
   "source": [
    "### Spearmanr"
   ]
  },
  {
   "cell_type": "code",
   "execution_count": 167,
   "metadata": {},
   "outputs": [
    {
     "data": {
      "text/plain": [
       "SpearmanrResult(correlation=-0.24577124063598266, pvalue=0.09221936942046033)"
      ]
     },
     "execution_count": 167,
     "metadata": {},
     "output_type": "execute_result"
    }
   ],
   "source": [
    "stats.spearmanr(m_state['ANN'], m_state['number_of_drinks_total']) "
   ]
  },
  {
   "cell_type": "code",
   "execution_count": 168,
   "metadata": {},
   "outputs": [
    {
     "data": {
      "text/plain": [
       "(-0.23492157503745958, 0.10799623673267993)"
      ]
     },
     "execution_count": 168,
     "metadata": {},
     "output_type": "execute_result"
    }
   ],
   "source": [
    "stats.spearmanr(m_state['ANN'], m_state['ethanol_beer_gallons_per_capita']) "
   ]
  },
  {
   "cell_type": "code",
   "execution_count": null,
   "metadata": {},
   "outputs": [],
   "source": [
    "stats.spearmanr(m_state['ANN'], m_state['ethanol_wine_gallons_per_capita']) "
   ]
  },
  {
   "cell_type": "code",
   "execution_count": null,
   "metadata": {},
   "outputs": [],
   "source": [
    "stats.spearmanr(m_state['ANN'], m_state['ethanol_spirit_gallons_per_capita']) "
   ]
  },
  {
   "cell_type": "code",
   "execution_count": null,
   "metadata": {},
   "outputs": [],
   "source": []
  },
  {
   "cell_type": "code",
   "execution_count": 139,
   "metadata": {},
   "outputs": [
    {
     "data": {
      "text/plain": [
       "<matplotlib.collections.PathCollection at 0x7f973c4a8e90>"
      ]
     },
     "execution_count": 139,
     "metadata": {},
     "output_type": "execute_result"
    },
    {
     "data": {
      "image/png": "[encoded data removed]",
      "text/plain": [
       "<Figure size 432x288 with 1 Axes>"
      ]
     },
     "metadata": {
      "needs_background": "light"
     },
     "output_type": "display_data"
    }
   ],
   "source": [
    "plt.scatter(m_state['ethanol_beer_gallons_per_capita'], m_state['ANN'])"
   ]
  },
  {
   "cell_type": "code",
   "execution_count": null,
   "metadata": {},
   "outputs": [],
   "source": []
  },
  {
   "cell_type": "code",
   "execution_count": null,
   "metadata": {},
   "outputs": [],
   "source": []
  },
  {
   "cell_type": "code",
   "execution_count": 37,
   "metadata": {},
   "outputs": [
    {
     "data": {
      "text/html": [
       "<div>\n",
       "<style scoped>\n",
       "    .dataframe tbody tr th:only-of-type {\n",
       "        vertical-align: middle;\n",
       "    }\n",
       "\n",
       "    .dataframe tbody tr th {\n",
       "        vertical-align: top;\n",
       "    }\n",
       "\n",
       "    .dataframe thead th {\n",
       "        text-align: right;\n",
       "    }\n",
       "</style>\n",
       "<table border=\"1\" class=\"dataframe\">\n",
       "  <thead>\n",
       "    <tr style=\"text-align: right;\">\n",
       "      <th></th>\n",
       "      <th>ethanol_beer_gallons_per_capita</th>\n",
       "      <th>ethanol_wine_gallons_per_capita</th>\n",
       "      <th>ethanol_spirit_gallons_per_capita</th>\n",
       "      <th>ethanol_all_drinks_gallons_per_capita</th>\n",
       "      <th>number_of_beers</th>\n",
       "      <th>number_of_glasses_wine</th>\n",
       "      <th>number_of_shots_liquor</th>\n",
       "      <th>number_of_drinks_total</th>\n",
       "      <th>ANN</th>\n",
       "    </tr>\n",
       "    <tr>\n",
       "      <th>STATE</th>\n",
       "      <th></th>\n",
       "      <th></th>\n",
       "      <th></th>\n",
       "      <th></th>\n",
       "      <th></th>\n",
       "      <th></th>\n",
       "      <th></th>\n",
       "      <th></th>\n",
       "      <th></th>\n",
       "    </tr>\n",
       "  </thead>\n",
       "  <tbody>\n",
       "    <tr>\n",
       "      <th>AK</th>\n",
       "      <td>1.11</td>\n",
       "      <td>0.53</td>\n",
       "      <td>1.20</td>\n",
       "      <td>2.84</td>\n",
       "      <td>263.11</td>\n",
       "      <td>105.18</td>\n",
       "      <td>249.15</td>\n",
       "      <td>605.87</td>\n",
       "      <td>87.550000</td>\n",
       "    </tr>\n",
       "    <tr>\n",
       "      <th>AL</th>\n",
       "      <td>1.11</td>\n",
       "      <td>0.26</td>\n",
       "      <td>0.64</td>\n",
       "      <td>2.01</td>\n",
       "      <td>263.11</td>\n",
       "      <td>51.60</td>\n",
       "      <td>132.88</td>\n",
       "      <td>428.80</td>\n",
       "      <td>106.000000</td>\n",
       "    </tr>\n",
       "    <tr>\n",
       "      <th>AR</th>\n",
       "      <td>0.97</td>\n",
       "      <td>0.22</td>\n",
       "      <td>0.65</td>\n",
       "      <td>1.83</td>\n",
       "      <td>229.93</td>\n",
       "      <td>43.66</td>\n",
       "      <td>134.96</td>\n",
       "      <td>390.40</td>\n",
       "      <td>114.500000</td>\n",
       "    </tr>\n",
       "    <tr>\n",
       "      <th>AZ</th>\n",
       "      <td>1.16</td>\n",
       "      <td>0.40</td>\n",
       "      <td>0.78</td>\n",
       "      <td>2.34</td>\n",
       "      <td>274.96</td>\n",
       "      <td>79.38</td>\n",
       "      <td>161.95</td>\n",
       "      <td>499.20</td>\n",
       "      <td>111.750000</td>\n",
       "    </tr>\n",
       "    <tr>\n",
       "      <th>CA</th>\n",
       "      <td>1.00</td>\n",
       "      <td>0.53</td>\n",
       "      <td>0.75</td>\n",
       "      <td>2.28</td>\n",
       "      <td>237.04</td>\n",
       "      <td>105.18</td>\n",
       "      <td>155.72</td>\n",
       "      <td>486.40</td>\n",
       "      <td>110.153846</td>\n",
       "    </tr>\n",
       "    <tr>\n",
       "      <th>CO</th>\n",
       "      <td>1.12</td>\n",
       "      <td>0.51</td>\n",
       "      <td>1.14</td>\n",
       "      <td>2.77</td>\n",
       "      <td>265.48</td>\n",
       "      <td>101.21</td>\n",
       "      <td>236.69</td>\n",
       "      <td>590.93</td>\n",
       "      <td>103.200000</td>\n",
       "    </tr>\n",
       "    <tr>\n",
       "      <th>CT</th>\n",
       "      <td>0.85</td>\n",
       "      <td>0.61</td>\n",
       "      <td>0.95</td>\n",
       "      <td>2.41</td>\n",
       "      <td>201.48</td>\n",
       "      <td>121.05</td>\n",
       "      <td>197.24</td>\n",
       "      <td>514.13</td>\n",
       "      <td>103.000000</td>\n",
       "    </tr>\n",
       "    <tr>\n",
       "      <th>DE</th>\n",
       "      <td>1.19</td>\n",
       "      <td>0.72</td>\n",
       "      <td>1.75</td>\n",
       "      <td>3.66</td>\n",
       "      <td>282.07</td>\n",
       "      <td>142.88</td>\n",
       "      <td>363.34</td>\n",
       "      <td>780.80</td>\n",
       "      <td>103.000000</td>\n",
       "    </tr>\n",
       "    <tr>\n",
       "      <th>FL</th>\n",
       "      <td>1.11</td>\n",
       "      <td>0.51</td>\n",
       "      <td>0.98</td>\n",
       "      <td>2.61</td>\n",
       "      <td>263.11</td>\n",
       "      <td>101.21</td>\n",
       "      <td>203.47</td>\n",
       "      <td>556.80</td>\n",
       "      <td>101.666667</td>\n",
       "    </tr>\n",
       "    <tr>\n",
       "      <th>GA</th>\n",
       "      <td>1.01</td>\n",
       "      <td>0.25</td>\n",
       "      <td>0.69</td>\n",
       "      <td>1.95</td>\n",
       "      <td>239.41</td>\n",
       "      <td>49.61</td>\n",
       "      <td>143.26</td>\n",
       "      <td>416.00</td>\n",
       "      <td>107.000000</td>\n",
       "    </tr>\n",
       "  </tbody>\n",
       "</table>\n",
       "</div>"
      ],
      "text/plain": [
       "       ethanol_beer_gallons_per_capita  ethanol_wine_gallons_per_capita  \\\n",
       "STATE                                                                     \n",
       "AK                                1.11                             0.53   \n",
       "AL                                1.11                             0.26   \n",
       "AR                                0.97                             0.22   \n",
       "AZ                                1.16                             0.40   \n",
       "CA                                1.00                             0.53   \n",
       "CO                                1.12                             0.51   \n",
       "CT                                0.85                             0.61   \n",
       "DE                                1.19                             0.72   \n",
       "FL                                1.11                             0.51   \n",
       "GA                                1.01                             0.25   \n",
       "\n",
       "       ethanol_spirit_gallons_per_capita  \\\n",
       "STATE                                      \n",
       "AK                                  1.20   \n",
       "AL                                  0.64   \n",
       "AR                                  0.65   \n",
       "AZ                                  0.78   \n",
       "CA                                  0.75   \n",
       "CO                                  1.14   \n",
       "CT                                  0.95   \n",
       "DE                                  1.75   \n",
       "FL                                  0.98   \n",
       "GA                                  0.69   \n",
       "\n",
       "       ethanol_all_drinks_gallons_per_capita  number_of_beers  \\\n",
       "STATE                                                           \n",
       "AK                                      2.84           263.11   \n",
       "AL                                      2.01           263.11   \n",
       "AR                                      1.83           229.93   \n",
       "AZ                                      2.34           274.96   \n",
       "CA                                      2.28           237.04   \n",
       "CO                                      2.77           265.48   \n",
       "CT                                      2.41           201.48   \n",
       "DE                                      3.66           282.07   \n",
       "FL                                      2.61           263.11   \n",
       "GA                                      1.95           239.41   \n",
       "\n",
       "       number_of_glasses_wine  number_of_shots_liquor  number_of_drinks_total  \\\n",
       "STATE                                                                           \n",
       "AK                     105.18                  249.15                  605.87   \n",
       "AL                      51.60                  132.88                  428.80   \n",
       "AR                      43.66                  134.96                  390.40   \n",
       "AZ                      79.38                  161.95                  499.20   \n",
       "CA                     105.18                  155.72                  486.40   \n",
       "CO                     101.21                  236.69                  590.93   \n",
       "CT                     121.05                  197.24                  514.13   \n",
       "DE                     142.88                  363.34                  780.80   \n",
       "FL                     101.21                  203.47                  556.80   \n",
       "GA                      49.61                  143.26                  416.00   \n",
       "\n",
       "              ANN  \n",
       "STATE              \n",
       "AK      87.550000  \n",
       "AL     106.000000  \n",
       "AR     114.500000  \n",
       "AZ     111.750000  \n",
       "CA     110.153846  \n",
       "CO     103.200000  \n",
       "CT     103.000000  \n",
       "DE     103.000000  \n",
       "FL     101.666667  \n",
       "GA     107.000000  "
      ]
     },
     "execution_count": 37,
     "metadata": {},
     "output_type": "execute_result"
    }
   ],
   "source": [
    "m_state = mean_by_state.copy()\n",
    "m_state.head(10)"
   ]
  },
  {
   "cell_type": "code",
   "execution_count": 81,
   "metadata": {},
   "outputs": [
    {
     "data": {
      "image/png": "[encoded data removed]",
      "text/plain": [
       "<Figure size 1152x504 with 9 Axes>"
      ]
     },
     "metadata": {
      "needs_background": "light"
     },
     "output_type": "display_data"
    }
   ],
   "source": [
    "bins = 20\n",
    "# plt.hlines('m_state[ANN].median',0,10)\n",
    "m_state[m_state <= 270].hist(bins=bins, figsize=(16,7));"
   ]
  },
  {
   "cell_type": "code",
   "execution_count": 45,
   "metadata": {},
   "outputs": [],
   "source": [
    "# m_state['number_of_drinks_total'].hist(bins = bins);"
   ]
  },
  {
   "cell_type": "code",
   "execution_count": 39,
   "metadata": {},
   "outputs": [
    {
     "data": {
      "text/plain": [
       "ethanol_beer_gallons_per_capita            1.166458\n",
       "ethanol_wine_gallons_per_capita            0.413542\n",
       "ethanol_spirit_gallons_per_capita          0.888125\n",
       "ethanol_all_drinks_gallons_per_capita      2.468333\n",
       "number_of_beers                          276.494167\n",
       "number_of_glasses_wine                    82.067292\n",
       "number_of_shots_liquor                   184.396042\n",
       "number_of_drinks_total                   526.578333\n",
       "ANN                                      105.138738\n",
       "dtype: float64"
      ]
     },
     "execution_count": 39,
     "metadata": {},
     "output_type": "execute_result"
    }
   ],
   "source": [
    "m_state.mean()"
   ]
  },
  {
   "cell_type": "code",
   "execution_count": 82,
   "metadata": {},
   "outputs": [
    {
     "data": {
      "text/html": [
       "<div>\n",
       "<style scoped>\n",
       "    .dataframe tbody tr th:only-of-type {\n",
       "        vertical-align: middle;\n",
       "    }\n",
       "\n",
       "    .dataframe tbody tr th {\n",
       "        vertical-align: top;\n",
       "    }\n",
       "\n",
       "    .dataframe thead th {\n",
       "        text-align: right;\n",
       "    }\n",
       "</style>\n",
       "<table border=\"1\" class=\"dataframe\">\n",
       "  <thead>\n",
       "    <tr style=\"text-align: right;\">\n",
       "      <th></th>\n",
       "      <th>ethanol_beer_gallons_per_capita</th>\n",
       "      <th>ethanol_wine_gallons_per_capita</th>\n",
       "      <th>ethanol_spirit_gallons_per_capita</th>\n",
       "      <th>ethanol_all_drinks_gallons_per_capita</th>\n",
       "      <th>number_of_beers</th>\n",
       "      <th>number_of_glasses_wine</th>\n",
       "      <th>number_of_shots_liquor</th>\n",
       "      <th>number_of_drinks_total</th>\n",
       "      <th>ANN</th>\n",
       "    </tr>\n",
       "    <tr>\n",
       "      <th>STATE</th>\n",
       "      <th></th>\n",
       "      <th></th>\n",
       "      <th></th>\n",
       "      <th></th>\n",
       "      <th></th>\n",
       "      <th></th>\n",
       "      <th></th>\n",
       "      <th></th>\n",
       "      <th></th>\n",
       "    </tr>\n",
       "  </thead>\n",
       "  <tbody>\n",
       "    <tr>\n",
       "      <th>AR</th>\n",
       "      <td>0.97</td>\n",
       "      <td>0.22</td>\n",
       "      <td>0.65</td>\n",
       "      <td>1.83</td>\n",
       "      <td>229.93</td>\n",
       "      <td>43.66</td>\n",
       "      <td>134.96</td>\n",
       "      <td>390.40</td>\n",
       "      <td>114.5</td>\n",
       "    </tr>\n",
       "    <tr>\n",
       "      <th>OK</th>\n",
       "      <td>1.07</td>\n",
       "      <td>0.19</td>\n",
       "      <td>0.62</td>\n",
       "      <td>1.89</td>\n",
       "      <td>253.63</td>\n",
       "      <td>37.71</td>\n",
       "      <td>128.73</td>\n",
       "      <td>403.20</td>\n",
       "      <td>113.0</td>\n",
       "    </tr>\n",
       "    <tr>\n",
       "      <th>KS</th>\n",
       "      <td>1.03</td>\n",
       "      <td>0.14</td>\n",
       "      <td>0.74</td>\n",
       "      <td>1.91</td>\n",
       "      <td>244.15</td>\n",
       "      <td>27.78</td>\n",
       "      <td>153.64</td>\n",
       "      <td>407.47</td>\n",
       "      <td>112.6</td>\n",
       "    </tr>\n",
       "    <tr>\n",
       "      <th>MO</th>\n",
       "      <td>1.17</td>\n",
       "      <td>0.39</td>\n",
       "      <td>0.97</td>\n",
       "      <td>2.53</td>\n",
       "      <td>277.33</td>\n",
       "      <td>77.40</td>\n",
       "      <td>201.39</td>\n",
       "      <td>539.73</td>\n",
       "      <td>112.0</td>\n",
       "    </tr>\n",
       "    <tr>\n",
       "      <th>SD</th>\n",
       "      <td>1.49</td>\n",
       "      <td>0.29</td>\n",
       "      <td>1.03</td>\n",
       "      <td>2.81</td>\n",
       "      <td>353.19</td>\n",
       "      <td>57.55</td>\n",
       "      <td>213.85</td>\n",
       "      <td>599.47</td>\n",
       "      <td>112.0</td>\n",
       "    </tr>\n",
       "  </tbody>\n",
       "</table>\n",
       "</div>"
      ],
      "text/plain": [
       "       ethanol_beer_gallons_per_capita  ethanol_wine_gallons_per_capita  \\\n",
       "STATE                                                                     \n",
       "AR                                0.97                             0.22   \n",
       "OK                                1.07                             0.19   \n",
       "KS                                1.03                             0.14   \n",
       "MO                                1.17                             0.39   \n",
       "SD                                1.49                             0.29   \n",
       "\n",
       "       ethanol_spirit_gallons_per_capita  \\\n",
       "STATE                                      \n",
       "AR                                  0.65   \n",
       "OK                                  0.62   \n",
       "KS                                  0.74   \n",
       "MO                                  0.97   \n",
       "SD                                  1.03   \n",
       "\n",
       "       ethanol_all_drinks_gallons_per_capita  number_of_beers  \\\n",
       "STATE                                                           \n",
       "AR                                      1.83           229.93   \n",
       "OK                                      1.89           253.63   \n",
       "KS                                      1.91           244.15   \n",
       "MO                                      2.53           277.33   \n",
       "SD                                      2.81           353.19   \n",
       "\n",
       "       number_of_glasses_wine  number_of_shots_liquor  number_of_drinks_total  \\\n",
       "STATE                                                                           \n",
       "AR                      43.66                  134.96                  390.40   \n",
       "OK                      37.71                  128.73                  403.20   \n",
       "KS                      27.78                  153.64                  407.47   \n",
       "MO                      77.40                  201.39                  539.73   \n",
       "SD                      57.55                  213.85                  599.47   \n",
       "\n",
       "         ANN  \n",
       "STATE         \n",
       "AR     114.5  \n",
       "OK     113.0  \n",
       "KS     112.6  \n",
       "MO     112.0  \n",
       "SD     112.0  "
      ]
     },
     "execution_count": 82,
     "metadata": {},
     "output_type": "execute_result"
    }
   ],
   "source": [
    "m_state.sort_values(by = 'ANN',ascending= False).head(5)"
   ]
  },
  {
   "cell_type": "code",
   "execution_count": 100,
   "metadata": {},
   "outputs": [
    {
     "name": "stderr",
     "output_type": "stream",
     "text": [
      "No handles with labels found to put in legend.\n"
     ]
    },
    {
     "data": {
      "image/png": "[encoded data removed]",
      "text/plain": [
       "<Figure size 432x288 with 1 Axes>"
      ]
     },
     "metadata": {
      "needs_background": "light"
     },
     "output_type": "display_data"
    }
   ],
   "source": [
    "m_state['ethanol_beer_gallons_per_capita'].hist(color='goldenrod', bins=20, alpha=0.5);\n",
    "m_state['ethanol_wine_gallons_per_capita'].hist(color='purple', bins=20, alpha=0.5);\n",
    "m_state['ethanol_spirit_gallons_per_capita'].hist(color='mediumslateblue', bins=20, alpha=0.5);\n",
    "m_state['ethanol_all_drinks_gallons_per_capita'].hist(color='cornflowerblue', bins=20, alpha=0.5);\n",
    "m_state['number_of_beers'].hist(color='orange', bins=20, alpha=0.5);\n",
    "m_state['number_of_glasses_wine'].hist(color='hotpink', bins=20, alpha=0.5);\n",
    "m_state['number_of_shots_liquor'].hist(color='crimson', bins=20, alpha=0.5);\n",
    "m_state['number_of_drinks_total'].hist(color='darkturquoise', bins=20, alpha=0.5);\n",
    "plt.hlines('m_state[ANN].max',0, 1000)\n",
    "ax.legend();"
   ]
  },
  {
   "cell_type": "code",
   "execution_count": 116,
   "metadata": {},
   "outputs": [
    {
     "data": {
      "image/png": "[encoded data removed]",
      "text/plain": [
       "<Figure size 432x288 with 1 Axes>"
      ]
     },
     "metadata": {
      "needs_background": "light"
     },
     "output_type": "display_data"
    }
   ],
   "source": [
    "plt.plot(m_state['ANN'].values);"
   ]
  },
  {
   "cell_type": "code",
   "execution_count": null,
   "metadata": {},
   "outputs": [],
   "source": []
  },
  {
   "cell_type": "code",
   "execution_count": 123,
   "metadata": {},
   "outputs": [
    {
     "ename": "TypeError",
     "evalue": "'DataFrame' object is not callable",
     "output_type": "error",
     "traceback": [
      "\u001b[0;31m---------------------------------------------------------------------------\u001b[0m",
      "\u001b[0;31mTypeError\u001b[0m                                 Traceback (most recent call last)",
      "\u001b[0;32m<ipython-input-123-dda168598ed6>\u001b[0m in \u001b[0;36m<module>\u001b[0;34m\u001b[0m\n\u001b[0;32m----> 1\u001b[0;31m \u001b[0mdf\u001b[0m \u001b[0;34m=\u001b[0m \u001b[0mm_state\u001b[0m\u001b[0;34m(\u001b[0m\u001b[0mm_state\u001b[0m\u001b[0;34m[\u001b[0m\u001b[0;34m'number_of_shots_liquor'\u001b[0m\u001b[0;34m]\u001b[0m\u001b[0;34m.\u001b[0m\u001b[0mvalues\u001b[0m\u001b[0;34m,\u001b[0m \u001b[0mcolumns\u001b[0m\u001b[0;34m=\u001b[0m\u001b[0;34m[\u001b[0m\u001b[0;34m'A'\u001b[0m\u001b[0;34m,\u001b[0m\u001b[0;34m'B'\u001b[0m\u001b[0;34m,\u001b[0m\u001b[0;34m'C'\u001b[0m\u001b[0;34m,\u001b[0m\u001b[0;34m'D'\u001b[0m\u001b[0;34m]\u001b[0m\u001b[0;34m)\u001b[0m\u001b[0;34m\u001b[0m\u001b[0;34m\u001b[0m\u001b[0m\n\u001b[0m\u001b[1;32m      2\u001b[0m \u001b[0mscatter_matrix\u001b[0m\u001b[0;34m(\u001b[0m\u001b[0mdf\u001b[0m\u001b[0;34m,\u001b[0m \u001b[0malpha\u001b[0m \u001b[0;34m=\u001b[0m \u001b[0;36m0.2\u001b[0m\u001b[0;34m)\u001b[0m\u001b[0;34m\u001b[0m\u001b[0;34m\u001b[0m\u001b[0m\n",
      "\u001b[0;31mTypeError\u001b[0m: 'DataFrame' object is not callable"
     ]
    }
   ],
   "source": [
    "df = m_state['number_of_shots_liquor'].values, columns=['A','B','C','D']\n",
    "scatter_matrix(df, alpha = 0.2)"
   ]
  },
  {
   "cell_type": "code",
   "execution_count": null,
   "metadata": {},
   "outputs": [],
   "source": []
  },
  {
   "cell_type": "code",
   "execution_count": null,
   "metadata": {},
   "outputs": [],
   "source": []
  },
  {
   "cell_type": "code",
   "execution_count": null,
   "metadata": {},
   "outputs": [],
   "source": []
  },
  {
   "cell_type": "code",
   "execution_count": null,
   "metadata": {},
   "outputs": [],
   "source": []
  },
  {
   "cell_type": "code",
   "execution_count": null,
   "metadata": {},
   "outputs": [],
   "source": []
  },
  {
   "cell_type": "code",
   "execution_count": null,
   "metadata": {},
   "outputs": [],
   "source": []
  },
  {
   "cell_type": "code",
   "execution_count": null,
   "metadata": {},
   "outputs": [],
   "source": []
  },
  {
   "cell_type": "code",
   "execution_count": null,
   "metadata": {},
   "outputs": [],
   "source": []
  },
  {
   "cell_type": "code",
   "execution_count": 56,
   "metadata": {},
   "outputs": [],
   "source": []
  },
  {
   "cell_type": "code",
   "execution_count": 57,
   "metadata": {},
   "outputs": [],
   "source": []
  },
  {
   "cell_type": "code",
   "execution_count": 58,
   "metadata": {},
   "outputs": [],
   "source": []
  },
  {
   "cell_type": "code",
   "execution_count": null,
   "metadata": {},
   "outputs": [],
   "source": []
  },
  {
   "cell_type": "code",
   "execution_count": 59,
   "metadata": {},
   "outputs": [],
   "source": []
  },
  {
   "cell_type": "code",
   "execution_count": null,
   "metadata": {},
   "outputs": [],
   "source": []
  },
  {
   "cell_type": "code",
   "execution_count": null,
   "metadata": {},
   "outputs": [],
   "source": []
  },
  {
   "cell_type": "code",
   "execution_count": null,
   "metadata": {},
   "outputs": [],
   "source": []
  }
 ],
 "metadata": {
  "kernelspec": {
   "display_name": "Python 3",
   "language": "python",
   "name": "python3"
  },
  "language_info": {
   "codemirror_mode": {
    "name": "ipython",
    "version": 3
   },
   "file_extension": ".py",
   "mimetype": "text/x-python",
   "name": "python",
   "nbconvert_exporter": "python",
   "pygments_lexer": "ipython3",
   "version": "3.7.7"
  }
 },
 "nbformat": 4,
 "nbformat_minor": 4
}
