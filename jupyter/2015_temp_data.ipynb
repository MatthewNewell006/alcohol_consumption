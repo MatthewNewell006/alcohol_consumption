{
 "cells": [
  {
   "cell_type": "markdown",
   "metadata": {},
   "source": [
    "### Checking Temperature in Areas Contrasted with Alcohol Consumption"
   ]
  },
  {
   "cell_type": "code",
   "execution_count": 1,
   "metadata": {},
   "outputs": [],
   "source": [
    "import pandas as pd\n",
    "import numpy as np\n",
    "import matplotlib.pyplot as plt"
   ]
  },
  {
   "cell_type": "code",
   "execution_count": 3,
   "metadata": {},
   "outputs": [],
   "source": [
    "ac_df = pd.read_csv('../data/modified/2015_states_sorted.csv')\n",
    "ac_df = ac_df.drop(columns=['Unnamed: 0','year'])\n",
    "\n",
    "ac_df = np.round(ac_df, decimals = 2)\n",
    "\n",
    "us_state_abbrev = {\n",
    "'alabama': 'AL', 'alaska': 'AK', 'arizona': 'AZ', 'arkansas': 'AR', 'california': 'CA', 'colorado': 'CO',\n",
    "'connecticut': 'CT', 'delaware': 'DE', 'florida': 'FL', 'georgia': 'GA', 'hawaii': 'HI', 'idaho': 'ID',\n",
    "'illinois': 'IL', 'indiana': 'IN', 'iowa': 'IA', 'kansas': 'KS', 'kentucky': 'KY', 'louisiana': 'LA',\n",
    "'maine': 'ME', 'maryland': 'MD', 'massachusetts': 'MA', 'michigan': 'MI', 'minnesota': 'MN', 'mississippi': 'MS',\n",
    "'missouri': 'MO', 'montana': 'MT', 'nebraska': 'NE', 'nevada': 'NV', 'new hampshire': 'NH', 'new Jersey': 'NJ',\n",
    "'new mexico': 'NM', 'new york': 'NY', 'north carolina': 'NC', 'north dakota': 'ND', 'ohio': 'OH', 'oklahoma': 'OK',\n",
    "'oregon': 'OR', 'pennsylvania': 'PA', 'phode island': 'RI', 'south carolina': 'SC', 'south dakota': 'SD',\n",
    "'tennessee': 'TN', 'texas': 'TX', 'utah': 'UT', 'vermont': 'VT', 'virginia': 'VA', 'washington': 'WA',\n",
    "'west virginia': 'WV', 'wisconsin': 'WI', 'wyoming': 'WY'}\n",
    "\n",
    "ac_df['state'] = ac_df['state'].map(us_state_abbrev)\n",
    "ac_df.columns.values[0] = 'STATE'\n",
    "ac_df.head()\n",
    "\n",
    "t_df = pd.read_csv('../data/modified/2015_state_temperatures.csv')\n",
    "\n",
    "# ac_df = ac_df.dropna()\n",
    "# # ac_df.head(10)\n",
    "\n",
    "# a_df_sort = ac_df.sort_values(by = \"number_of_drinks_total\", axis = 0, ascending = False)\n",
    "\n",
    "# t_df = t_df.drop(columns=['CITY','Unnamed: 0'])\n",
    "\n",
    "# # New DataFrame with Annual Temp by State\n",
    "# t_annual = t_df[['ANN','STATE']]\n",
    "# t_annual\n"
   ]
  },
  {
   "cell_type": "code",
   "execution_count": 54,
   "metadata": {},
   "outputs": [],
   "source": [
    "# t_cond = t_df[['FEB', 'MAY', 'AUG', 'NOV', 'STATE']]\n",
    "\n",
    "# Compress Rows / Eliminate Duplicates\n",
    "# t_comp = t_cond.groupby(['STATE']).agg('mean')\n",
    "\n",
    "# t_annual = t_annual.groupby(['STATE']).agg('mean')\n"
   ]
  },
  {
   "cell_type": "code",
   "execution_count": 55,
   "metadata": {},
   "outputs": [],
   "source": [
    "# t_annual.index\n",
    "\n",
    "# t_annual['STATE'] = t_annual.index\n",
    "\n",
    "# t_annual = t_annual.reset_index()"
   ]
  },
  {
   "cell_type": "code",
   "execution_count": null,
   "metadata": {},
   "outputs": [],
   "source": []
  },
  {
   "cell_type": "code",
   "execution_count": 56,
   "metadata": {},
   "outputs": [],
   "source": [
    "# t_comp.drop(index = 'KWAJALEIN- MARSHALL',inplace=True)\n",
    "# t_annual.drop('KWAJALEIN- MARSHALL', axis=0)\n",
    "\n",
    "# t_ann_comp = t_annual.groupby(['STATE']).agg('mean')\n",
    "# t_ann_comp.drop(index = 'KWAJALEIN- MARSHALL',inplace=True)\n",
    "# t_comp['MAY'] = t_comp['MAY'].fillna(1)\n",
    "\n",
    "# t_comp.describe()\n",
    "# t_annual.describe()\n",
    "# t_comp.describe()\n",
    "\n",
    "# ac_df['state'] = ac_df['state'].str.upper()\n",
    "# # \n",
    "# ac_df.columns.values[0] = 'STATE'\n",
    "# ac_df.head(1)\n",
    "# ac_df.merge(t_annual , on='STATE',  how='left')\n",
    "# t_annual.info"
   ]
  },
  {
   "cell_type": "code",
   "execution_count": 57,
   "metadata": {},
   "outputs": [],
   "source": [
    "# bins = 20\n",
    "# plt.hist(ac_df['number_of_drinks_total'], bins = bins);"
   ]
  },
  {
   "cell_type": "code",
   "execution_count": 58,
   "metadata": {},
   "outputs": [],
   "source": [
    "# ac_df[(ac_df['number_of_drinks_total']) <= 500].hist(bins=10,figsize=(14,10));\n",
    "# ac_df.columns"
   ]
  },
  {
   "cell_type": "code",
   "execution_count": null,
   "metadata": {},
   "outputs": [],
   "source": []
  },
  {
   "cell_type": "code",
   "execution_count": 59,
   "metadata": {},
   "outputs": [],
   "source": [
    "# df = df.drop(columns=['Unnamed: 0'])\n",
    "\n",
    "# df = np.round(df, decimals = 2)\n",
    "\n",
    "# # ac_df.head(10)\n",
    "\n",
    "# us_state_abbrev = {\n",
    "# 'alabama': 'AL', 'alaska': 'AK', 'arizona': 'AZ', 'arkansas': 'AR', 'california': 'CA', 'colorado': 'CO',\n",
    "# 'connecticut': 'CT', 'delaware': 'DE', 'florida': 'FL', 'georgia': 'GA', 'hawaii': 'HI', 'idaho': 'ID',\n",
    "# 'illinois': 'IL', 'indiana': 'IN', 'iowa': 'IA', 'kansas': 'KS', 'kentucky': 'KY', 'louisiana': 'LA',\n",
    "# 'maine': 'ME', 'maryland': 'MD', 'massachusetts': 'MA', 'michigan': 'MI', 'minnesota': 'MN', 'mississippi': 'MS',\n",
    "# 'missouri': 'MO', 'montana': 'MT', 'nebraska': 'NE', 'nevada': 'NV', 'new hampshire': 'NH', 'new Jersey': 'NJ',\n",
    "# 'new mexico': 'NM', 'new york': 'NY', 'north carolina': 'NC', 'north dakota': 'ND', 'ohio': 'OH', 'oklahoma': 'OK',\n",
    "# 'oregon': 'OR', 'pennsylvania': 'PA', 'phode island': 'RI', 'south carolina': 'SC', 'south dakota': 'SD',\n",
    "# 'tennessee': 'TN', 'texas': 'TX', 'utah': 'UT', 'vermont': 'VT', 'virginia': 'VA', 'washington': 'WA',\n",
    "# 'west virginia': 'WV', 'wisconsin': 'WI', 'wyoming': 'WY'}\n",
    "\n",
    "# df['state'] = df['state'].map(us_state_abbrev)\n",
    "\n",
    "\n",
    "# df = df.dropna()\n",
    "\n",
    "# # df.head(10)\n",
    "\n",
    "# # df.to_csv('../data/modified/2015_alcohol_stats.csv')\n",
    "# # ac_df.sort_values"
   ]
  },
  {
   "cell_type": "code",
   "execution_count": null,
   "metadata": {},
   "outputs": [],
   "source": []
  },
  {
   "cell_type": "code",
   "execution_count": null,
   "metadata": {},
   "outputs": [],
   "source": []
  },
  {
   "cell_type": "code",
   "execution_count": null,
   "metadata": {},
   "outputs": [],
   "source": []
  }
 ],
 "metadata": {
  "kernelspec": {
   "display_name": "Python 3",
   "language": "python",
   "name": "python3"
  },
  "language_info": {
   "codemirror_mode": {
    "name": "ipython",
    "version": 3
   },
   "file_extension": ".py",
   "mimetype": "text/x-python",
   "name": "python",
   "nbconvert_exporter": "python",
   "pygments_lexer": "ipython3",
   "version": "3.7.7"
  }
 },
 "nbformat": 4,
 "nbformat_minor": 4
}
