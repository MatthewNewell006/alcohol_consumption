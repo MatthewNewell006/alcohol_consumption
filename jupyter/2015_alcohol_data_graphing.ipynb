{
 "cells": [
  {
   "cell_type": "markdown",
   "metadata": {},
   "source": [
    "### Alcohol Consumption and Temperature Graphing"
   ]
  },
  {
   "cell_type": "code",
   "execution_count": 2,
   "metadata": {},
   "outputs": [],
   "source": [
    "import pandas as pd\n",
    "import numpy as np\n",
    "import matplotlib.pyplot as plt\n",
    "import matplotlib.colors as mcolors\n",
    "from cycler import cycler\n",
    "import matplotlib.pyplot as plt\n",
    "# %matplotlib inline\n",
    "plt.style.use('classic')"
   ]
  },
  {
   "cell_type": "markdown",
   "metadata": {},
   "source": [
    "### Read in File"
   ]
  },
  {
   "cell_type": "code",
   "execution_count": 3,
   "metadata": {},
   "outputs": [
    {
     "ename": "SyntaxError",
     "evalue": "positional argument follows keyword argument (<ipython-input-3-3eaf2cd78939>, line 2)",
     "output_type": "error",
     "traceback": [
      "\u001b[0;36m  File \u001b[0;32m\"<ipython-input-3-3eaf2cd78939>\"\u001b[0;36m, line \u001b[0;32m2\u001b[0m\n\u001b[0;31m    df.drop(columns=['Unnamed: 0'], inplace)\u001b[0m\n\u001b[0m                                   ^\u001b[0m\n\u001b[0;31mSyntaxError\u001b[0m\u001b[0;31m:\u001b[0m positional argument follows keyword argument\n"
     ]
    }
   ],
   "source": [
    "df = pd.read_csv('../data/modified/left_merge_table.csv')\n",
    "df.drop(columns=['Unnamed: 0'], inplace)"
   ]
  },
  {
   "cell_type": "code",
   "execution_count": null,
   "metadata": {},
   "outputs": [],
   "source": []
  },
  {
   "cell_type": "code",
   "execution_count": null,
   "metadata": {},
   "outputs": [],
   "source": [
    "df.plot.hist(stacked = True, bins=5)\n",
    "\n",
    "# plt.ylabel('Total Drinks')\n",
    "plt.xlabel('Total Drinks')\n",
    "\n",
    "plt.savefig('../img/stacked.jpg', dpi=150)\n",
    "\n",
    "plt.show();"
   ]
  },
  {
   "cell_type": "code",
   "execution_count": null,
   "metadata": {},
   "outputs": [],
   "source": []
  },
  {
   "cell_type": "code",
   "execution_count": null,
   "metadata": {},
   "outputs": [],
   "source": [
    "bs = df.loc[:,'number_of_beers']\n",
    "bs.hist(bins=20,color='orange')\n",
    "\n",
    "plt.ylabel('Temperature °')\n",
    "plt.xlabel('Number of Glasses of Beer')\n",
    "\n",
    "plt.savefig('../img/number_beer.jpg', dpi=150)\n",
    "plt.show();"
   ]
  },
  {
   "cell_type": "code",
   "execution_count": null,
   "metadata": {},
   "outputs": [],
   "source": [
    "ss = df.loc[:,'number_of_shots_liquor']\n",
    "ss.hist(bins=20,color='salmon')\n",
    "\n",
    "plt.ylabel('Temperature °')\n",
    "plt.xlabel('Number of Shots of Liquor')\n",
    "\n",
    "plt.savefig('../img/number_shots.jpg', dpi=150)\n",
    "plt.show();"
   ]
  },
  {
   "cell_type": "code",
   "execution_count": null,
   "metadata": {},
   "outputs": [],
   "source": [
    "ws = df.loc[:,'number_of_glasses_wine']\n",
    "ws.hist(bins=20,color='deeppink')\n",
    "\n",
    "plt.ylabel('Temperature °')\n",
    "plt.xlabel('Number of Glasses of Wine')\n",
    "\n",
    "plt.savefig('../img/number_beer.jpg', dpi=300)\n",
    "plt.show();"
   ]
  },
  {
   "cell_type": "code",
   "execution_count": null,
   "metadata": {},
   "outputs": [],
   "source": [
    "total = df.loc[:,'number_of_drinks_total']\n",
    "total.hist(bins=20,color='crimson',label='total_drinks')\n",
    "plt.savefig('../img/total_drinks.jpg', dpi=300)\n",
    "\n",
    "plt.ylabel('Temperature °')\n",
    "plt.xlabel('Number of Glasses Total')\n",
    "\n",
    "plt.legend()\n",
    "plt.show();"
   ]
  },
  {
   "cell_type": "code",
   "execution_count": null,
   "metadata": {},
   "outputs": [],
   "source": [
    "bs = df.loc[:,'number_of_beers'].hist(bins=8, alpha = 0.8, color='wheat', label = 'Beer')\n",
    "ss = df.loc[:,'number_of_shots_liquor'].hist(bins=15, alpha = 0.55, color = 'purple', label = 'Shots')\n",
    "ws = df.loc[:,'number_of_glasses_wine'].hist(bins=23, color='deeppink', alpha=0.35, label = 'Wine')\n",
    "# total = df.loc[:,'number_of_drinks_total'].hist(color = 'crimson', label='Total')\n",
    "\n",
    "plt.ylabel('Temperature °')\n",
    "plt.xlabel('Glasses of Alcohol')\n",
    "\n",
    "plt.legend()\n",
    "\n",
    "plt.savefig('../img/combined_drinks.jpg', dpi = 300)\n",
    "\n",
    "\n",
    "plt.show();"
   ]
  },
  {
   "cell_type": "code",
   "execution_count": null,
   "metadata": {},
   "outputs": [],
   "source": [
    "fig, ax = plt.subplots(1,1)\n",
    "# plt.figure()\n",
    "plt.title = \"Alcohol Per Capita\"\n",
    "beer = df['ethanol_beer_gallons_per_capita'].diff().hist(color='orange', bins=5,alpha = 0.8,label='beer')\n",
    "wine =df['ethanol_wine_gallons_per_capita'].diff().hist(color='yellow', bins=5, alpha = 0.55,label='wine')\n",
    "spirits = df['ethanol_spirit_gallons_per_capita'].diff().hist(color='teal', bins=5,alpha = 0.35,label='shots')\n",
    "all_drinks = df['ethanol_all_drinks_gallons_per_capita'].diff().hist(color='green', bins=5, alpha = 0.2, label = \"All Drinks / Gallons\")\n",
    "\n",
    "plt.ylabel('Difference in Amount')\n",
    "plt.xlabel('Gallons')\n",
    "plt.legend(loc='lower left')\n",
    "\n",
    "plt.savefig('../img/gallons_total.jpg', dpi = 300)\n",
    "\n",
    "\n",
    "plt.show()"
   ]
  },
  {
   "cell_type": "code",
   "execution_count": null,
   "metadata": {},
   "outputs": [],
   "source": [
    "df.describe()"
   ]
  },
  {
   "cell_type": "code",
   "execution_count": null,
   "metadata": {},
   "outputs": [],
   "source": []
  },
  {
   "cell_type": "code",
   "execution_count": null,
   "metadata": {},
   "outputs": [],
   "source": []
  }
 ],
 "metadata": {
  "kernelspec": {
   "display_name": "Python 3",
   "language": "python",
   "name": "python3"
  },
  "language_info": {
   "codemirror_mode": {
    "name": "ipython",
    "version": 3
   },
   "file_extension": ".py",
   "mimetype": "text/x-python",
   "name": "python",
   "nbconvert_exporter": "python",
   "pygments_lexer": "ipython3",
   "version": "3.7.7"
  }
 },
 "nbformat": 4,
 "nbformat_minor": 4
}
