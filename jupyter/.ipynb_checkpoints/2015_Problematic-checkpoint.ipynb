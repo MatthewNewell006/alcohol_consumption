{
 "cells": [
  {
   "cell_type": "markdown",
   "metadata": {},
   "source": [
    "### Checking Temperature in Areas Contrasted with Alcohol Consumption"
   ]
  },
  {
   "cell_type": "code",
   "execution_count": 13,
   "metadata": {},
   "outputs": [],
   "source": [
    "import pandas as pd\n",
    "import numpy as np\n",
    "import matplotlib.pyplot as plt\n",
    "import scipy.stats as stats"
   ]
  },
  {
   "cell_type": "code",
   "execution_count": 14,
   "metadata": {},
   "outputs": [
    {
     "name": "stderr",
     "output_type": "stream",
     "text": [
      "/Applications/anaconda3/lib/python3.7/site-packages/ipykernel_launcher.py:24: SettingWithCopyWarning: \n",
      "A value is trying to be set on a copy of a slice from a DataFrame.\n",
      "Try using .loc[row_indexer,col_indexer] = value instead\n",
      "\n",
      "See the caveats in the documentation: https://pandas.pydata.org/pandas-docs/stable/user_guide/indexing.html#returning-a-view-versus-a-copy\n"
     ]
    },
    {
     "data": {
      "text/plain": [
       "str"
      ]
     },
     "execution_count": 14,
     "metadata": {},
     "output_type": "execute_result"
    }
   ],
   "source": [
    "ac_df = pd.read_csv('../data/modified/2015_states_sorted.csv')\n",
    "ac_df = ac_df.drop(columns=['Unnamed: 0','year'])\n",
    "\n",
    "ac_df = np.round(ac_df, decimals = 2)\n",
    "\n",
    "us_state_abbrev = {\n",
    "'alabama': 'AL', 'alaska': 'AK', 'arizona': 'AZ', 'arkansas': 'AR', 'california': 'CA', 'colorado': 'CO',\n",
    "'connecticut': 'CT', 'delaware': 'DE', 'florida': 'FL', 'georgia': 'GA', 'hawaii': 'HI', 'idaho': 'ID',\n",
    "'illinois': 'IL', 'indiana': 'IN', 'iowa': 'IA', 'kansas': 'KS', 'kentucky': 'KY', 'louisiana': 'LA',\n",
    "'maine': 'ME', 'maryland': 'MD', 'massachusetts': 'MA', 'michigan': 'MI', 'minnesota': 'MN', 'mississippi': 'MS',\n",
    "'missouri': 'MO', 'montana': 'MT', 'nebraska': 'NE', 'nevada': 'NV', 'new hampshire': 'NH', 'new Jersey': 'NJ',\n",
    "'new mexico': 'NM', 'new york': 'NY', 'north carolina': 'NC', 'north dakota': 'ND', 'ohio': 'OH', 'oklahoma': 'OK',\n",
    "'oregon': 'OR', 'pennsylvania': 'PA', 'phode island': 'RI', 'south carolina': 'SC', 'south dakota': 'SD',\n",
    "'tennessee': 'TN', 'texas': 'TX', 'utah': 'UT', 'vermont': 'VT', 'virginia': 'VA', 'washington': 'WA',\n",
    "'west virginia': 'WV', 'wisconsin': 'WI', 'wyoming': 'WY'}\n",
    "\n",
    "ac_df['STATE'] = ac_df['state'].map(us_state_abbrev)\n",
    "# ac_df.columns.values[0] = 'STATE'\n",
    "\n",
    "t_df = pd.read_csv('../data/modified/2015_state_temperatures.csv')\n",
    "\n",
    "t_df = t_df.drop(columns=['CITY','Unnamed: 0'])\n",
    "t_annual = t_df[['ANN','STATE']]\n",
    "t_annual['STATE'] = t_annual['STATE'].astype('string')\n",
    "type(t_annual['STATE'][0])\n",
    "\n",
    "\n"
   ]
  },
  {
   "cell_type": "code",
   "execution_count": 15,
   "metadata": {},
   "outputs": [],
   "source": [
    "ac_df.drop(['state'], axis = 1, inplace = True)"
   ]
  },
  {
   "cell_type": "code",
   "execution_count": 16,
   "metadata": {},
   "outputs": [],
   "source": [
    "ac_df['STATE'] = ac_df['STATE'].astype('string')"
   ]
  },
  {
   "cell_type": "code",
   "execution_count": 17,
   "metadata": {},
   "outputs": [
    {
     "name": "stdout",
     "output_type": "stream",
     "text": [
      "<class 'pandas.core.frame.DataFrame'>\n",
      "RangeIndex: 56 entries, 0 to 55\n",
      "Data columns (total 9 columns):\n",
      " #   Column                                 Non-Null Count  Dtype  \n",
      "---  ------                                 --------------  -----  \n",
      " 0   ethanol_beer_gallons_per_capita        56 non-null     float64\n",
      " 1   ethanol_wine_gallons_per_capita        56 non-null     float64\n",
      " 2   ethanol_spirit_gallons_per_capita      56 non-null     float64\n",
      " 3   ethanol_all_drinks_gallons_per_capita  56 non-null     float64\n",
      " 4   number_of_beers                        56 non-null     float64\n",
      " 5   number_of_glasses_wine                 56 non-null     float64\n",
      " 6   number_of_shots_liquor                 56 non-null     float64\n",
      " 7   number_of_drinks_total                 56 non-null     float64\n",
      " 8   STATE                                  48 non-null     string \n",
      "dtypes: float64(8), string(1)\n",
      "memory usage: 4.1 KB\n"
     ]
    }
   ],
   "source": [
    "ac_df.info()"
   ]
  },
  {
   "cell_type": "markdown",
   "metadata": {},
   "source": [
    "### Merge Dataframes"
   ]
  },
  {
   "cell_type": "code",
   "execution_count": 18,
   "metadata": {},
   "outputs": [],
   "source": [
    "left_merge = ac_df.merge(t_annual, how='left', on = 'STATE')"
   ]
  },
  {
   "cell_type": "code",
   "execution_count": 19,
   "metadata": {},
   "outputs": [
    {
     "data": {
      "text/html": [
       "<div>\n",
       "<style scoped>\n",
       "    .dataframe tbody tr th:only-of-type {\n",
       "        vertical-align: middle;\n",
       "    }\n",
       "\n",
       "    .dataframe tbody tr th {\n",
       "        vertical-align: top;\n",
       "    }\n",
       "\n",
       "    .dataframe thead th {\n",
       "        text-align: right;\n",
       "    }\n",
       "</style>\n",
       "<table border=\"1\" class=\"dataframe\">\n",
       "  <thead>\n",
       "    <tr style=\"text-align: right;\">\n",
       "      <th></th>\n",
       "      <th>ethanol_beer_gallons_per_capita</th>\n",
       "      <th>ethanol_wine_gallons_per_capita</th>\n",
       "      <th>ethanol_spirit_gallons_per_capita</th>\n",
       "      <th>ethanol_all_drinks_gallons_per_capita</th>\n",
       "      <th>number_of_beers</th>\n",
       "      <th>number_of_glasses_wine</th>\n",
       "      <th>number_of_shots_liquor</th>\n",
       "      <th>number_of_drinks_total</th>\n",
       "      <th>STATE</th>\n",
       "      <th>ANN</th>\n",
       "    </tr>\n",
       "  </thead>\n",
       "  <tbody>\n",
       "    <tr>\n",
       "      <th>0</th>\n",
       "      <td>1.11</td>\n",
       "      <td>0.26</td>\n",
       "      <td>0.64</td>\n",
       "      <td>2.01</td>\n",
       "      <td>263.11</td>\n",
       "      <td>51.60</td>\n",
       "      <td>132.88</td>\n",
       "      <td>428.80</td>\n",
       "      <td>AL</td>\n",
       "      <td>107.0</td>\n",
       "    </tr>\n",
       "    <tr>\n",
       "      <th>1</th>\n",
       "      <td>1.11</td>\n",
       "      <td>0.26</td>\n",
       "      <td>0.64</td>\n",
       "      <td>2.01</td>\n",
       "      <td>263.11</td>\n",
       "      <td>51.60</td>\n",
       "      <td>132.88</td>\n",
       "      <td>428.80</td>\n",
       "      <td>AL</td>\n",
       "      <td>106.0</td>\n",
       "    </tr>\n",
       "    <tr>\n",
       "      <th>2</th>\n",
       "      <td>1.11</td>\n",
       "      <td>0.26</td>\n",
       "      <td>0.64</td>\n",
       "      <td>2.01</td>\n",
       "      <td>263.11</td>\n",
       "      <td>51.60</td>\n",
       "      <td>132.88</td>\n",
       "      <td>428.80</td>\n",
       "      <td>AL</td>\n",
       "      <td>105.0</td>\n",
       "    </tr>\n",
       "    <tr>\n",
       "      <th>3</th>\n",
       "      <td>1.11</td>\n",
       "      <td>0.26</td>\n",
       "      <td>0.64</td>\n",
       "      <td>2.01</td>\n",
       "      <td>263.11</td>\n",
       "      <td>51.60</td>\n",
       "      <td>132.88</td>\n",
       "      <td>428.80</td>\n",
       "      <td>AL</td>\n",
       "      <td>106.0</td>\n",
       "    </tr>\n",
       "    <tr>\n",
       "      <th>4</th>\n",
       "      <td>1.11</td>\n",
       "      <td>0.53</td>\n",
       "      <td>1.20</td>\n",
       "      <td>2.84</td>\n",
       "      <td>263.11</td>\n",
       "      <td>105.18</td>\n",
       "      <td>249.15</td>\n",
       "      <td>605.87</td>\n",
       "      <td>AK</td>\n",
       "      <td>85.0</td>\n",
       "    </tr>\n",
       "    <tr>\n",
       "      <th>...</th>\n",
       "      <td>...</td>\n",
       "      <td>...</td>\n",
       "      <td>...</td>\n",
       "      <td>...</td>\n",
       "      <td>...</td>\n",
       "      <td>...</td>\n",
       "      <td>...</td>\n",
       "      <td>...</td>\n",
       "      <td>...</td>\n",
       "      <td>...</td>\n",
       "    </tr>\n",
       "    <tr>\n",
       "      <th>252</th>\n",
       "      <td>1.39</td>\n",
       "      <td>0.39</td>\n",
       "      <td>1.20</td>\n",
       "      <td>2.98</td>\n",
       "      <td>329.48</td>\n",
       "      <td>77.40</td>\n",
       "      <td>249.15</td>\n",
       "      <td>635.73</td>\n",
       "      <td>WI</td>\n",
       "      <td>103.0</td>\n",
       "    </tr>\n",
       "    <tr>\n",
       "      <th>253</th>\n",
       "      <td>1.25</td>\n",
       "      <td>0.31</td>\n",
       "      <td>1.18</td>\n",
       "      <td>2.74</td>\n",
       "      <td>296.30</td>\n",
       "      <td>61.52</td>\n",
       "      <td>245.00</td>\n",
       "      <td>584.53</td>\n",
       "      <td>WY</td>\n",
       "      <td>104.0</td>\n",
       "    </tr>\n",
       "    <tr>\n",
       "      <th>254</th>\n",
       "      <td>1.25</td>\n",
       "      <td>0.31</td>\n",
       "      <td>1.18</td>\n",
       "      <td>2.74</td>\n",
       "      <td>296.30</td>\n",
       "      <td>61.52</td>\n",
       "      <td>245.00</td>\n",
       "      <td>584.53</td>\n",
       "      <td>WY</td>\n",
       "      <td>100.0</td>\n",
       "    </tr>\n",
       "    <tr>\n",
       "      <th>255</th>\n",
       "      <td>1.25</td>\n",
       "      <td>0.31</td>\n",
       "      <td>1.18</td>\n",
       "      <td>2.74</td>\n",
       "      <td>296.30</td>\n",
       "      <td>61.52</td>\n",
       "      <td>245.00</td>\n",
       "      <td>584.53</td>\n",
       "      <td>WY</td>\n",
       "      <td>101.0</td>\n",
       "    </tr>\n",
       "    <tr>\n",
       "      <th>256</th>\n",
       "      <td>1.25</td>\n",
       "      <td>0.31</td>\n",
       "      <td>1.18</td>\n",
       "      <td>2.74</td>\n",
       "      <td>296.30</td>\n",
       "      <td>61.52</td>\n",
       "      <td>245.00</td>\n",
       "      <td>584.53</td>\n",
       "      <td>WY</td>\n",
       "      <td>107.0</td>\n",
       "    </tr>\n",
       "  </tbody>\n",
       "</table>\n",
       "<p>257 rows × 10 columns</p>\n",
       "</div>"
      ],
      "text/plain": [
       "     ethanol_beer_gallons_per_capita  ethanol_wine_gallons_per_capita  \\\n",
       "0                               1.11                             0.26   \n",
       "1                               1.11                             0.26   \n",
       "2                               1.11                             0.26   \n",
       "3                               1.11                             0.26   \n",
       "4                               1.11                             0.53   \n",
       "..                               ...                              ...   \n",
       "252                             1.39                             0.39   \n",
       "253                             1.25                             0.31   \n",
       "254                             1.25                             0.31   \n",
       "255                             1.25                             0.31   \n",
       "256                             1.25                             0.31   \n",
       "\n",
       "     ethanol_spirit_gallons_per_capita  ethanol_all_drinks_gallons_per_capita  \\\n",
       "0                                 0.64                                   2.01   \n",
       "1                                 0.64                                   2.01   \n",
       "2                                 0.64                                   2.01   \n",
       "3                                 0.64                                   2.01   \n",
       "4                                 1.20                                   2.84   \n",
       "..                                 ...                                    ...   \n",
       "252                               1.20                                   2.98   \n",
       "253                               1.18                                   2.74   \n",
       "254                               1.18                                   2.74   \n",
       "255                               1.18                                   2.74   \n",
       "256                               1.18                                   2.74   \n",
       "\n",
       "     number_of_beers  number_of_glasses_wine  number_of_shots_liquor  \\\n",
       "0             263.11                   51.60                  132.88   \n",
       "1             263.11                   51.60                  132.88   \n",
       "2             263.11                   51.60                  132.88   \n",
       "3             263.11                   51.60                  132.88   \n",
       "4             263.11                  105.18                  249.15   \n",
       "..               ...                     ...                     ...   \n",
       "252           329.48                   77.40                  249.15   \n",
       "253           296.30                   61.52                  245.00   \n",
       "254           296.30                   61.52                  245.00   \n",
       "255           296.30                   61.52                  245.00   \n",
       "256           296.30                   61.52                  245.00   \n",
       "\n",
       "     number_of_drinks_total STATE    ANN  \n",
       "0                    428.80    AL  107.0  \n",
       "1                    428.80    AL  106.0  \n",
       "2                    428.80    AL  105.0  \n",
       "3                    428.80    AL  106.0  \n",
       "4                    605.87    AK   85.0  \n",
       "..                      ...   ...    ...  \n",
       "252                  635.73    WI  103.0  \n",
       "253                  584.53    WY  104.0  \n",
       "254                  584.53    WY  100.0  \n",
       "255                  584.53    WY  101.0  \n",
       "256                  584.53    WY  107.0  \n",
       "\n",
       "[257 rows x 10 columns]"
      ]
     },
     "execution_count": 19,
     "metadata": {},
     "output_type": "execute_result"
    }
   ],
   "source": [
    "left_merge"
   ]
  },
  {
   "cell_type": "code",
   "execution_count": 20,
   "metadata": {},
   "outputs": [],
   "source": [
    "# left_merge.to_csv('../data/modified/left_merge_table.csv')"
   ]
  },
  {
   "cell_type": "code",
   "execution_count": 21,
   "metadata": {},
   "outputs": [],
   "source": [
    "mean_by_state = left_merge.groupby('STATE').mean()\n",
    "# mean_by_state.to_csv('../data/modified/left_merge_table.csv')"
   ]
  },
  {
   "cell_type": "markdown",
   "metadata": {},
   "source": [
    "### Statisical Comparison and Graphing"
   ]
  },
  {
   "cell_type": "code",
   "execution_count": 26,
   "metadata": {},
   "outputs": [
    {
     "data": {
      "text/plain": [
       "Index(['ethanol_beer_gallons_per_capita', 'ethanol_wine_gallons_per_capita',\n",
       "       'ethanol_spirit_gallons_per_capita',\n",
       "       'ethanol_all_drinks_gallons_per_capita', 'number_of_beers',\n",
       "       'number_of_glasses_wine', 'number_of_shots_liquor',\n",
       "       'number_of_drinks_total', 'ANN'],\n",
       "      dtype='object')"
      ]
     },
     "execution_count": 26,
     "metadata": {},
     "output_type": "execute_result"
    }
   ],
   "source": [
    "m_state = mean_by_state.copy()\n",
    "m_state.head(10)\n",
    "\n",
    "m_state.columns\n",
    "\n",
    "# ann_min = m_state['ANN'].min\n",
    "# ann_mean = m_state['ANN'].mean\n",
    "# ann_median = m_state['ANN'].median\n",
    "# ann_max = m_state['ANN'].max\n",
    "\n",
    "# total_min = m_state['number_of_drinks_total'].min\n",
    "# total_mean = m_state['number_of_drinks_total'].mean\n",
    "# total_median = m_state['number_of_drinks_total'].median\n",
    "# total_max = m_state['number_of_drinks_total'].max\n",
    "\n",
    "\n",
    "# bgper_min = m_state['ethanol_beer_gallons_per_capita'].min\n",
    "# wgper_min = m_state['ethanol_wine_gallons_per_capita'].min\n",
    "# sgper_min = m_state['ethanol_spirit_gallons_per_capita'].min\n",
    "\n",
    "# bgper_mean = m_state['ethanol_beer_gallons_per_capita'].mean\n",
    "# wgper_mean = m_state['ethanol_wine_gallons_per_capita'].mean\n",
    "# sgper_mean = m_state['ethanol_spirit_gallons_per_capita'].mean\n",
    "\n",
    "# bgper_median = m_state['ethanol_beer_gallons_per_capita'].median\n",
    "# wgper_median = m_state['ethanol_wine_gallons_per_capita'].median\n",
    "# sgper_median = m_state['ethanol_spirit_gallons_per_capita'].median\n",
    "\n",
    "# bgper_max = m_state['ethanol_beer_gallons_per_capita'].max\n",
    "# wgper_max = m_state['ethanol_wine_gallons_per_capita'].max\n",
    "# sgper_max = m_state['ethanol_spirit_gallons_per_capita'].max\n",
    "\n"
   ]
  },
  {
   "cell_type": "markdown",
   "metadata": {},
   "source": [
    "### MannWhitneyU Test"
   ]
  },
  {
   "cell_type": "code",
   "execution_count": 27,
   "metadata": {},
   "outputs": [
    {
     "data": {
      "text/plain": [
       "MannwhitneyuResult(statistic=0.0, pvalue=1.6105904955319984e-17)"
      ]
     },
     "execution_count": 27,
     "metadata": {},
     "output_type": "execute_result"
    }
   ],
   "source": [
    "stats.mannwhitneyu(m_state['ANN'], m_state['number_of_drinks_total'])"
   ]
  },
  {
   "cell_type": "code",
   "execution_count": 28,
   "metadata": {},
   "outputs": [
    {
     "data": {
      "text/plain": [
       "(-0.23492157503745958, 0.10799623673267993)"
      ]
     },
     "execution_count": 28,
     "metadata": {},
     "output_type": "execute_result"
    }
   ],
   "source": [
    "stats.pearsonr(m_state['ANN'], m_state['ethanol_beer_gallons_per_capita']) "
   ]
  },
  {
   "cell_type": "code",
   "execution_count": 29,
   "metadata": {},
   "outputs": [
    {
     "data": {
      "text/plain": [
       "(-0.38741682778152986, 0.006518496929138399)"
      ]
     },
     "execution_count": 29,
     "metadata": {},
     "output_type": "execute_result"
    }
   ],
   "source": [
    "stats.pearsonr(m_state['ANN'], m_state['ethanol_wine_gallons_per_capita']) "
   ]
  },
  {
   "cell_type": "code",
   "execution_count": 30,
   "metadata": {},
   "outputs": [
    {
     "data": {
      "text/plain": [
       "(-0.41316564947100254, 0.0035151945593773384)"
      ]
     },
     "execution_count": 30,
     "metadata": {},
     "output_type": "execute_result"
    }
   ],
   "source": [
    "stats.pearsonr(m_state['ANN'], m_state['ethanol_spirit_gallons_per_capita']) "
   ]
  },
  {
   "cell_type": "markdown",
   "metadata": {},
   "source": [
    "### Pearsonr"
   ]
  },
  {
   "cell_type": "code",
   "execution_count": 31,
   "metadata": {},
   "outputs": [
    {
     "data": {
      "text/plain": [
       "(-0.4485023569704955, 0.0013881667201398437)"
      ]
     },
     "execution_count": 31,
     "metadata": {},
     "output_type": "execute_result"
    }
   ],
   "source": [
    "stats.pearsonr(m_state['ANN'], m_state['number_of_drinks_total']) "
   ]
  },
  {
   "cell_type": "code",
   "execution_count": 32,
   "metadata": {},
   "outputs": [
    {
     "data": {
      "text/plain": [
       "(-0.23492157503745958, 0.10799623673267993)"
      ]
     },
     "execution_count": 32,
     "metadata": {},
     "output_type": "execute_result"
    }
   ],
   "source": [
    "stats.pearsonr(m_state['ANN'], m_state['ethanol_beer_gallons_per_capita']) "
   ]
  },
  {
   "cell_type": "code",
   "execution_count": 33,
   "metadata": {},
   "outputs": [
    {
     "data": {
      "text/plain": [
       "(-0.38741682778152986, 0.006518496929138399)"
      ]
     },
     "execution_count": 33,
     "metadata": {},
     "output_type": "execute_result"
    }
   ],
   "source": [
    "stats.pearsonr(m_state['ANN'], m_state['ethanol_wine_gallons_per_capita']) "
   ]
  },
  {
   "cell_type": "code",
   "execution_count": 34,
   "metadata": {},
   "outputs": [
    {
     "data": {
      "text/plain": [
       "(-0.41316564947100254, 0.0035151945593773384)"
      ]
     },
     "execution_count": 34,
     "metadata": {},
     "output_type": "execute_result"
    }
   ],
   "source": [
    "stats.pearsonr(m_state['ANN'], m_state['ethanol_spirit_gallons_per_capita']) "
   ]
  },
  {
   "cell_type": "markdown",
   "metadata": {},
   "source": [
    "### Spearmanr"
   ]
  },
  {
   "cell_type": "code",
   "execution_count": 35,
   "metadata": {},
   "outputs": [
    {
     "data": {
      "text/plain": [
       "SpearmanrResult(correlation=-0.24577124063598266, pvalue=0.09221936942046033)"
      ]
     },
     "execution_count": 35,
     "metadata": {},
     "output_type": "execute_result"
    }
   ],
   "source": [
    "stats.spearmanr(m_state['ANN'], m_state['number_of_drinks_total']) "
   ]
  },
  {
   "cell_type": "code",
   "execution_count": 36,
   "metadata": {},
   "outputs": [
    {
     "data": {
      "text/plain": [
       "SpearmanrResult(correlation=-0.06824353772969358, pvalue=0.6448846750823399)"
      ]
     },
     "execution_count": 36,
     "metadata": {},
     "output_type": "execute_result"
    }
   ],
   "source": [
    "stats.spearmanr(m_state['ANN'], m_state['ethanol_beer_gallons_per_capita']) "
   ]
  },
  {
   "cell_type": "code",
   "execution_count": 37,
   "metadata": {},
   "outputs": [
    {
     "data": {
      "text/plain": [
       "SpearmanrResult(correlation=-0.4141200157720395, pvalue=0.003432453092660785)"
      ]
     },
     "execution_count": 37,
     "metadata": {},
     "output_type": "execute_result"
    }
   ],
   "source": [
    "stats.spearmanr(m_state['ANN'], m_state['ethanol_wine_gallons_per_capita']) "
   ]
  },
  {
   "cell_type": "code",
   "execution_count": 38,
   "metadata": {},
   "outputs": [
    {
     "data": {
      "text/plain": [
       "SpearmanrResult(correlation=-0.19530677103268032, pvalue=0.1834162907770079)"
      ]
     },
     "execution_count": 38,
     "metadata": {},
     "output_type": "execute_result"
    }
   ],
   "source": [
    "stats.spearmanr(m_state['ANN'], m_state['ethanol_spirit_gallons_per_capita']) "
   ]
  },
  {
   "cell_type": "markdown",
   "metadata": {},
   "source": [
    "### Scatter Plots"
   ]
  },
  {
   "cell_type": "code",
   "execution_count": null,
   "metadata": {},
   "outputs": [],
   "source": []
  },
  {
   "cell_type": "code",
   "execution_count": 39,
   "metadata": {},
   "outputs": [
    {
     "data": {
      "text/plain": [
       "<matplotlib.collections.PathCollection at 0x7fc46fcb2310>"
      ]
     },
     "execution_count": 39,
     "metadata": {},
     "output_type": "execute_result"
    },
    {
     "data": {
      "image/png": "[encoded data removed]",
      "text/plain": [
       "<Figure size 432x288 with 1 Axes>"
      ]
     },
     "metadata": {
      "needs_background": "light"
     },
     "output_type": "display_data"
    }
   ],
   "source": [
    "plt.scatter(m_state['ethanol_beer_gallons_per_capita'], m_state['ANN'])"
   ]
  },
  {
   "cell_type": "code",
   "execution_count": null,
   "metadata": {},
   "outputs": [],
   "source": []
  },
  {
   "cell_type": "code",
   "execution_count": null,
   "metadata": {},
   "outputs": [],
   "source": []
  },
  {
   "cell_type": "code",
   "execution_count": null,
   "metadata": {},
   "outputs": [],
   "source": []
  },
  {
   "cell_type": "code",
   "execution_count": null,
   "metadata": {},
   "outputs": [],
   "source": [
    "bins = 20\n",
    "# plt.hlines('m_state[ANN].median',0,10)\n",
    "m_state[m_state <= 270].hist(bins=bins, figsize=(16,7));"
   ]
  },
  {
   "cell_type": "code",
   "execution_count": null,
   "metadata": {},
   "outputs": [],
   "source": [
    "# m_state['number_of_drinks_total'].hist(bins = bins);"
   ]
  },
  {
   "cell_type": "code",
   "execution_count": null,
   "metadata": {},
   "outputs": [],
   "source": [
    "m_state.mean()"
   ]
  },
  {
   "cell_type": "code",
   "execution_count": null,
   "metadata": {},
   "outputs": [],
   "source": [
    "m_state.sort_values(by = 'ANN',ascending= False).head(5)"
   ]
  },
  {
   "cell_type": "code",
   "execution_count": null,
   "metadata": {},
   "outputs": [],
   "source": [
    "m_state['ethanol_beer_gallons_per_capita'].hist(color='goldenrod', bins=20, alpha=0.5);\n",
    "m_state['ethanol_wine_gallons_per_capita'].hist(color='purple', bins=20, alpha=0.5);\n",
    "m_state['ethanol_spirit_gallons_per_capita'].hist(color='mediumslateblue', bins=20, alpha=0.5);\n",
    "m_state['ethanol_all_drinks_gallons_per_capita'].hist(color='cornflowerblue', bins=20, alpha=0.5);\n",
    "m_state['number_of_beers'].hist(color='orange', bins=20, alpha=0.5);\n",
    "m_state['number_of_glasses_wine'].hist(color='hotpink', bins=20, alpha=0.5);\n",
    "m_state['number_of_shots_liquor'].hist(color='crimson', bins=20, alpha=0.5);\n",
    "m_state['number_of_drinks_total'].hist(color='darkturquoise', bins=20, alpha=0.5);\n",
    "plt.hlines('m_state[ANN].max',0, 1000)\n",
    "ax.legend();"
   ]
  },
  {
   "cell_type": "code",
   "execution_count": null,
   "metadata": {},
   "outputs": [],
   "source": [
    "np.random.seed(19680801)\n",
    "\n",
    "# example data\n",
    "mu = m_state['ANN'].mean()  # mean of distribution\n",
    "sigma = m_state['ANN'].std()  # standard deviation of distribution\n",
    "x = mu + sigma * np.random.randn(437)\n",
    "\n",
    "num_bins = 50\n",
    "\n",
    "fig, ax = plt.subplots()\n",
    "\n",
    "# the histogram of the data\n",
    "n, bins, patches = ax.hist(x, num_bins, density=True)\n",
    "\n",
    "# add a 'best fit' line\n",
    "y = ((1 / (np.sqrt(2 * np.pi) * sigma)) *\n",
    "     np.exp(-0.5 * (1 / sigma * (bins - mu))**2))\n",
    "ax.plot(bins, y, '--')\n",
    "ax.set_xlabel('Smarts')\n",
    "ax.set_ylabel('Probability density')\n",
    "ax.set_title(r'Histogram of Annual Mean: $\\mu=105.1$, $\\sigma=5.55$')\n",
    "\n",
    "# Tweak spacing to prevent clipping of ylabel\n",
    "fig.tight_layout()\n",
    "plt.show()"
   ]
  },
  {
   "cell_type": "code",
   "execution_count": null,
   "metadata": {},
   "outputs": [],
   "source": []
  },
  {
   "cell_type": "code",
   "execution_count": null,
   "metadata": {},
   "outputs": [],
   "source": [
    "# df = m_state['number_of_shots_liquor'].values, columns=['A','B','C','D']\n",
    "# scatter_matrix(df, alpha = 0.2)"
   ]
  },
  {
   "cell_type": "code",
   "execution_count": null,
   "metadata": {},
   "outputs": [],
   "source": []
  },
  {
   "cell_type": "code",
   "execution_count": 11,
   "metadata": {},
   "outputs": [
    {
     "ename": "NameError",
     "evalue": "name 'm_state' is not defined",
     "output_type": "error",
     "traceback": [
      "\u001b[0;31m---------------------------------------------------------------------------\u001b[0m",
      "\u001b[0;31mNameError\u001b[0m                                 Traceback (most recent call last)",
      "\u001b[0;32m<ipython-input-11-423f92238646>\u001b[0m in \u001b[0;36m<module>\u001b[0;34m\u001b[0m\n\u001b[0;32m----> 1\u001b[0;31m \u001b[0mm_state\u001b[0m\u001b[0;34m[\u001b[0m\u001b[0;34m'ANN'\u001b[0m\u001b[0;34m]\u001b[0m\u001b[0;34m.\u001b[0m\u001b[0mmean\u001b[0m\u001b[0;34m\u001b[0m\u001b[0;34m\u001b[0m\u001b[0m\n\u001b[0m",
      "\u001b[0;31mNameError\u001b[0m: name 'm_state' is not defined"
     ]
    }
   ],
   "source": [
    "m_state['ANN'].mean"
   ]
  },
  {
   "cell_type": "code",
   "execution_count": 12,
   "metadata": {},
   "outputs": [
    {
     "ename": "NameError",
     "evalue": "name 'm_state' is not defined",
     "output_type": "error",
     "traceback": [
      "\u001b[0;31m---------------------------------------------------------------------------\u001b[0m",
      "\u001b[0;31mNameError\u001b[0m                                 Traceback (most recent call last)",
      "\u001b[0;32m<ipython-input-12-7133f6310c8d>\u001b[0m in \u001b[0;36m<module>\u001b[0;34m\u001b[0m\n\u001b[0;32m----> 1\u001b[0;31m \u001b[0mm_state\u001b[0m\u001b[0;34m[\u001b[0m\u001b[0;34m'ANN'\u001b[0m\u001b[0;34m]\u001b[0m\u001b[0;34m.\u001b[0m\u001b[0mmean\u001b[0m\u001b[0;34m(\u001b[0m\u001b[0;34m)\u001b[0m\u001b[0;34m\u001b[0m\u001b[0;34m\u001b[0m\u001b[0m\n\u001b[0m",
      "\u001b[0;31mNameError\u001b[0m: name 'm_state' is not defined"
     ]
    }
   ],
   "source": [
    "m_state['ANN'].mean()"
   ]
  },
  {
   "cell_type": "code",
   "execution_count": null,
   "metadata": {},
   "outputs": [],
   "source": []
  },
  {
   "cell_type": "code",
   "execution_count": null,
   "metadata": {},
   "outputs": [],
   "source": []
  },
  {
   "cell_type": "code",
   "execution_count": null,
   "metadata": {},
   "outputs": [],
   "source": []
  },
  {
   "cell_type": "code",
   "execution_count": null,
   "metadata": {},
   "outputs": [],
   "source": []
  },
  {
   "cell_type": "code",
   "execution_count": null,
   "metadata": {},
   "outputs": [],
   "source": []
  },
  {
   "cell_type": "code",
   "execution_count": null,
   "metadata": {},
   "outputs": [],
   "source": []
  },
  {
   "cell_type": "code",
   "execution_count": null,
   "metadata": {},
   "outputs": [],
   "source": []
  },
  {
   "cell_type": "code",
   "execution_count": null,
   "metadata": {},
   "outputs": [],
   "source": []
  },
  {
   "cell_type": "code",
   "execution_count": null,
   "metadata": {},
   "outputs": [],
   "source": []
  },
  {
   "cell_type": "code",
   "execution_count": null,
   "metadata": {},
   "outputs": [],
   "source": []
  },
  {
   "cell_type": "code",
   "execution_count": null,
   "metadata": {},
   "outputs": [],
   "source": []
  },
  {
   "cell_type": "code",
   "execution_count": null,
   "metadata": {},
   "outputs": [],
   "source": []
  },
  {
   "cell_type": "code",
   "execution_count": null,
   "metadata": {},
   "outputs": [],
   "source": []
  }
 ],
 "metadata": {
  "kernelspec": {
   "display_name": "Python 3",
   "language": "python",
   "name": "python3"
  },
  "language_info": {
   "codemirror_mode": {
    "name": "ipython",
    "version": 3
   },
   "file_extension": ".py",
   "mimetype": "text/x-python",
   "name": "python",
   "nbconvert_exporter": "python",
   "pygments_lexer": "ipython3",
   "version": "3.7.7"
  }
 },
 "nbformat": 4,
 "nbformat_minor": 4
}
