{
 "cells": [
  {
   "cell_type": "markdown",
   "metadata": {},
   "source": [
    "### Analysis: 2015 Alcohol Consumption and Annual Temperature"
   ]
  },
  {
   "cell_type": "code",
   "execution_count": 81,
   "metadata": {},
   "outputs": [],
   "source": [
    "import pandas as pd\n",
    "import numpy as np\n",
    "import matplotlib.pyplot as plt\n",
    "import scipy.stats as stats"
   ]
  },
  {
   "cell_type": "code",
   "execution_count": 82,
   "metadata": {},
   "outputs": [
    {
     "name": "stdout",
     "output_type": "stream",
     "text": [
      "<class 'pandas.core.frame.DataFrame'>\n",
      "Int64Index: 249 entries, 0 to 256\n",
      "Data columns (total 11 columns):\n",
      " #   Column                                 Non-Null Count  Dtype  \n",
      "---  ------                                 --------------  -----  \n",
      " 0   Unnamed: 0                             249 non-null    int64  \n",
      " 1   ethanol_beer_gallons_per_capita        249 non-null    float64\n",
      " 2   ethanol_wine_gallons_per_capita        249 non-null    float64\n",
      " 3   ethanol_spirit_gallons_per_capita      249 non-null    float64\n",
      " 4   ethanol_all_drinks_gallons_per_capita  249 non-null    float64\n",
      " 5   number_of_beers                        249 non-null    float64\n",
      " 6   number_of_glasses_wine                 249 non-null    float64\n",
      " 7   number_of_shots_liquor                 249 non-null    float64\n",
      " 8   number_of_drinks_total                 249 non-null    float64\n",
      " 9   STATE                                  249 non-null    object \n",
      " 10  ANN                                    249 non-null    float64\n",
      "dtypes: float64(9), int64(1), object(1)\n",
      "memory usage: 23.3+ KB\n"
     ]
    }
   ],
   "source": [
    "df = pd.read_csv('../data/modified/left_merge_table.csv')\n",
    "df.dropna(how='any', inplace=True)\n",
    "df.info()"
   ]
  },
  {
   "cell_type": "markdown",
   "metadata": {},
   "source": [
    "### Statisical Comparison and Graphing"
   ]
  },
  {
   "cell_type": "code",
   "execution_count": 83,
   "metadata": {},
   "outputs": [
    {
     "name": "stdout",
     "output_type": "stream",
     "text": [
      "<class 'pandas.core.frame.DataFrame'>\n",
      "Int64Index: 249 entries, 0 to 256\n",
      "Data columns (total 11 columns):\n",
      " #   Column                                 Non-Null Count  Dtype  \n",
      "---  ------                                 --------------  -----  \n",
      " 0   Unnamed: 0                             249 non-null    int64  \n",
      " 1   ethanol_beer_gallons_per_capita        249 non-null    float64\n",
      " 2   ethanol_wine_gallons_per_capita        249 non-null    float64\n",
      " 3   ethanol_spirit_gallons_per_capita      249 non-null    float64\n",
      " 4   ethanol_all_drinks_gallons_per_capita  249 non-null    float64\n",
      " 5   number_of_beers                        249 non-null    float64\n",
      " 6   number_of_glasses_wine                 249 non-null    float64\n",
      " 7   number_of_shots_liquor                 249 non-null    float64\n",
      " 8   number_of_drinks_total                 249 non-null    float64\n",
      " 9   STATE                                  249 non-null    object \n",
      " 10  ANN                                    249 non-null    float64\n",
      "dtypes: float64(9), int64(1), object(1)\n",
      "memory usage: 23.3+ KB\n"
     ]
    },
    {
     "data": {
      "text/html": [
       "<div>\n",
       "<style scoped>\n",
       "    .dataframe tbody tr th:only-of-type {\n",
       "        vertical-align: middle;\n",
       "    }\n",
       "\n",
       "    .dataframe tbody tr th {\n",
       "        vertical-align: top;\n",
       "    }\n",
       "\n",
       "    .dataframe thead th {\n",
       "        text-align: right;\n",
       "    }\n",
       "</style>\n",
       "<table border=\"1\" class=\"dataframe\">\n",
       "  <thead>\n",
       "    <tr style=\"text-align: right;\">\n",
       "      <th></th>\n",
       "      <th>Unnamed: 0</th>\n",
       "      <th>ethanol_beer_gallons_per_capita</th>\n",
       "      <th>ethanol_wine_gallons_per_capita</th>\n",
       "      <th>ethanol_spirit_gallons_per_capita</th>\n",
       "      <th>ethanol_all_drinks_gallons_per_capita</th>\n",
       "      <th>number_of_beers</th>\n",
       "      <th>number_of_glasses_wine</th>\n",
       "      <th>number_of_shots_liquor</th>\n",
       "      <th>number_of_drinks_total</th>\n",
       "      <th>ANN</th>\n",
       "    </tr>\n",
       "  </thead>\n",
       "  <tbody>\n",
       "    <tr>\n",
       "      <th>count</th>\n",
       "      <td>249.000000</td>\n",
       "      <td>249.000000</td>\n",
       "      <td>249.000000</td>\n",
       "      <td>249.000000</td>\n",
       "      <td>249.000000</td>\n",
       "      <td>249.000000</td>\n",
       "      <td>249.000000</td>\n",
       "      <td>249.000000</td>\n",
       "      <td>249.000000</td>\n",
       "      <td>249.000000</td>\n",
       "    </tr>\n",
       "    <tr>\n",
       "      <th>mean</th>\n",
       "      <td>126.626506</td>\n",
       "      <td>1.165542</td>\n",
       "      <td>0.411888</td>\n",
       "      <td>0.872008</td>\n",
       "      <td>2.449799</td>\n",
       "      <td>276.277269</td>\n",
       "      <td>81.738996</td>\n",
       "      <td>181.049920</td>\n",
       "      <td>522.624538</td>\n",
       "      <td>104.493976</td>\n",
       "    </tr>\n",
       "    <tr>\n",
       "      <th>std</th>\n",
       "      <td>74.354216</td>\n",
       "      <td>0.183961</td>\n",
       "      <td>0.163764</td>\n",
       "      <td>0.234254</td>\n",
       "      <td>0.426966</td>\n",
       "      <td>43.605633</td>\n",
       "      <td>32.498892</td>\n",
       "      <td>48.636768</td>\n",
       "      <td>91.086137</td>\n",
       "      <td>7.703225</td>\n",
       "    </tr>\n",
       "    <tr>\n",
       "      <th>min</th>\n",
       "      <td>0.000000</td>\n",
       "      <td>0.650000</td>\n",
       "      <td>0.110000</td>\n",
       "      <td>0.470000</td>\n",
       "      <td>1.400000</td>\n",
       "      <td>154.070000</td>\n",
       "      <td>21.830000</td>\n",
       "      <td>97.580000</td>\n",
       "      <td>298.670000</td>\n",
       "      <td>66.000000</td>\n",
       "    </tr>\n",
       "    <tr>\n",
       "      <th>25%</th>\n",
       "      <td>63.000000</td>\n",
       "      <td>1.010000</td>\n",
       "      <td>0.300000</td>\n",
       "      <td>0.700000</td>\n",
       "      <td>2.190000</td>\n",
       "      <td>239.410000</td>\n",
       "      <td>59.530000</td>\n",
       "      <td>145.340000</td>\n",
       "      <td>467.200000</td>\n",
       "      <td>102.000000</td>\n",
       "    </tr>\n",
       "    <tr>\n",
       "      <th>50%</th>\n",
       "      <td>126.000000</td>\n",
       "      <td>1.120000</td>\n",
       "      <td>0.400000</td>\n",
       "      <td>0.780000</td>\n",
       "      <td>2.280000</td>\n",
       "      <td>265.480000</td>\n",
       "      <td>79.380000</td>\n",
       "      <td>161.950000</td>\n",
       "      <td>486.400000</td>\n",
       "      <td>105.000000</td>\n",
       "    </tr>\n",
       "    <tr>\n",
       "      <th>75%</th>\n",
       "      <td>190.000000</td>\n",
       "      <td>1.280000</td>\n",
       "      <td>0.530000</td>\n",
       "      <td>0.980000</td>\n",
       "      <td>2.730000</td>\n",
       "      <td>303.410000</td>\n",
       "      <td>105.180000</td>\n",
       "      <td>203.470000</td>\n",
       "      <td>582.400000</td>\n",
       "      <td>109.000000</td>\n",
       "    </tr>\n",
       "    <tr>\n",
       "      <th>max</th>\n",
       "      <td>256.000000</td>\n",
       "      <td>1.870000</td>\n",
       "      <td>1.140000</td>\n",
       "      <td>1.950000</td>\n",
       "      <td>4.700000</td>\n",
       "      <td>443.260000</td>\n",
       "      <td>226.230000</td>\n",
       "      <td>404.870000</td>\n",
       "      <td>1002.670000</td>\n",
       "      <td>122.000000</td>\n",
       "    </tr>\n",
       "  </tbody>\n",
       "</table>\n",
       "</div>"
      ],
      "text/plain": [
       "       Unnamed: 0  ethanol_beer_gallons_per_capita  \\\n",
       "count  249.000000                       249.000000   \n",
       "mean   126.626506                         1.165542   \n",
       "std     74.354216                         0.183961   \n",
       "min      0.000000                         0.650000   \n",
       "25%     63.000000                         1.010000   \n",
       "50%    126.000000                         1.120000   \n",
       "75%    190.000000                         1.280000   \n",
       "max    256.000000                         1.870000   \n",
       "\n",
       "       ethanol_wine_gallons_per_capita  ethanol_spirit_gallons_per_capita  \\\n",
       "count                       249.000000                         249.000000   \n",
       "mean                          0.411888                           0.872008   \n",
       "std                           0.163764                           0.234254   \n",
       "min                           0.110000                           0.470000   \n",
       "25%                           0.300000                           0.700000   \n",
       "50%                           0.400000                           0.780000   \n",
       "75%                           0.530000                           0.980000   \n",
       "max                           1.140000                           1.950000   \n",
       "\n",
       "       ethanol_all_drinks_gallons_per_capita  number_of_beers  \\\n",
       "count                             249.000000       249.000000   \n",
       "mean                                2.449799       276.277269   \n",
       "std                                 0.426966        43.605633   \n",
       "min                                 1.400000       154.070000   \n",
       "25%                                 2.190000       239.410000   \n",
       "50%                                 2.280000       265.480000   \n",
       "75%                                 2.730000       303.410000   \n",
       "max                                 4.700000       443.260000   \n",
       "\n",
       "       number_of_glasses_wine  number_of_shots_liquor  number_of_drinks_total  \\\n",
       "count              249.000000              249.000000              249.000000   \n",
       "mean                81.738996              181.049920              522.624538   \n",
       "std                 32.498892               48.636768               91.086137   \n",
       "min                 21.830000               97.580000              298.670000   \n",
       "25%                 59.530000              145.340000              467.200000   \n",
       "50%                 79.380000              161.950000              486.400000   \n",
       "75%                105.180000              203.470000              582.400000   \n",
       "max                226.230000              404.870000             1002.670000   \n",
       "\n",
       "              ANN  \n",
       "count  249.000000  \n",
       "mean   104.493976  \n",
       "std      7.703225  \n",
       "min     66.000000  \n",
       "25%    102.000000  \n",
       "50%    105.000000  \n",
       "75%    109.000000  \n",
       "max    122.000000  "
      ]
     },
     "execution_count": 83,
     "metadata": {},
     "output_type": "execute_result"
    }
   ],
   "source": [
    "df.info()\n",
    "df.describe()"
   ]
  },
  {
   "cell_type": "markdown",
   "metadata": {},
   "source": [
    "### MannWhitneyU Test"
   ]
  },
  {
   "cell_type": "code",
   "execution_count": 84,
   "metadata": {},
   "outputs": [
    {
     "data": {
      "text/plain": [
       "'MannWhitneyU Results: Number of Beers: MannwhitneyuResult(statistic=0.0, pvalue=1.955263257631872e-83);   Number of Glasses Wine:MannwhitneyuResult(statistic=14136.0, pvalue=3.939313034921851e-26);    Number of ShotsMannwhitneyuResult(statistic=929.0, pvalue=1.2869623103039633e-78);    Total Drinks: MannwhitneyuResult(statistic=0.0, pvalue=2.0344285545615244e-83);'"
      ]
     },
     "execution_count": 84,
     "metadata": {},
     "output_type": "execute_result"
    }
   ],
   "source": [
    "u_beers = stats.mannwhitneyu(df['ANN'], df['number_of_beers'])\n",
    "u_wine = stats.mannwhitneyu(df['ANN'], df['number_of_glasses_wine'])\n",
    "u_shots = stats.mannwhitneyu(df['ANN'], df['number_of_shots_liquor'])\n",
    "u_total = stats.mannwhitneyu(df['ANN'], df['number_of_drinks_total'])\n",
    "\n",
    "u_results = (f'MannWhitneyU Results: Number of Beers: {u_beers};   Number of Glasses Wine:{u_wine};    Number of Shots{u_shots};    Total Drinks: {u_total};')\n",
    "u_results"
   ]
  },
  {
   "cell_type": "markdown",
   "metadata": {},
   "source": [
    "### Pearsonr"
   ]
  },
  {
   "cell_type": "code",
   "execution_count": 85,
   "metadata": {},
   "outputs": [
    {
     "data": {
      "text/plain": [
       "'Pearsonr Results: Number of Beers: (0.03879235442721353, 0.5423373090312318);   Number of Glasses Wine:(-0.28972604526774554, 3.337259516630482e-06);    Number of Shots(-0.4066398894076336, 2.4714372269605796e-11);    Total Drinks: (-0.3182628401611133, 2.884092681348871e-07);'"
      ]
     },
     "execution_count": 85,
     "metadata": {},
     "output_type": "execute_result"
    }
   ],
   "source": [
    "p_beers = stats.pearsonr(df['ANN'], df['number_of_beers'])\n",
    "p_wine = stats.pearsonr(df['ANN'], df['number_of_glasses_wine'])\n",
    "p_shots = stats.pearsonr(df['ANN'], df['number_of_shots_liquor'])\n",
    "p_total = stats.pearsonr(df['ANN'], df['number_of_drinks_total'])\n",
    "\n",
    "p_results = (f'Pearsonr Results: Number of Beers: {p_beers};   Number of Glasses Wine:{p_wine};    Number of Shots{p_shots};    Total Drinks: {p_total};')\n",
    "p_results"
   ]
  },
  {
   "cell_type": "markdown",
   "metadata": {},
   "source": [
    "### Spearmanr"
   ]
  },
  {
   "cell_type": "code",
   "execution_count": 94,
   "metadata": {},
   "outputs": [
    {
     "data": {
      "text/plain": [
       "'Spearmanr Results: Number of Beers: SpearmanrResult(correlation=0.11799328357017054, pvalue=0.06302242402319819);   Number of Glasses Wine:SpearmanrResult(correlation=-0.339638537681751, pvalue=3.869617173537449e-08);    Number of ShotsSpearmanrResult(correlation=-0.3008408600008164, pvalue=1.32615598730314e-06);    Total Drinks: SpearmanrResult(correlation=-0.22470174841968737, pvalue=0.0003519710919161753);'"
      ]
     },
     "execution_count": 94,
     "metadata": {},
     "output_type": "execute_result"
    }
   ],
   "source": [
    "s_beers_gal = stats.spearmanr(df['ANN'], df['ethanol_beer_gallons_per_capita'])\n",
    "s_wine_gal = stats.spearmanr(df['ANN'], df['ethanol_wine_gallons_per_capita'])\n",
    "s_shots_gal = stats.spearmanr(df['ANN'], df['ethanol_spirit_gallons_per_capita'])\n",
    "s_total_gal = stats.spearmanr(df['ANN'], df['ethanol_all_drinks_gallons_per_capita']) \n",
    "\n",
    "p_results = (f'Spearmanr Results: Number of Beers: {s_beers_gal};   Number of Glasses Wine:{s_wine_gal};    Number of Shots{s_shots_gal};    Total Drinks: {s_total_gal};')\n",
    "p_results"
   ]
  },
  {
   "cell_type": "markdown",
   "metadata": {},
   "source": [
    "### Categorical Plotting Stat Tests"
   ]
  },
  {
   "cell_type": "code",
   "execution_count": null,
   "metadata": {},
   "outputs": [],
   "source": []
  },
  {
   "cell_type": "markdown",
   "metadata": {},
   "source": [
    "### Scatter Plots"
   ]
  },
  {
   "cell_type": "code",
   "execution_count": 100,
   "metadata": {},
   "outputs": [
    {
     "name": "stderr",
     "output_type": "stream",
     "text": [
      "No handles with labels found to put in legend.\n"
     ]
    },
    {
     "data": {
      "image/png": "[encoded data removed]",
      "text/plain": [
       "<Figure size 432x288 with 1 Axes>"
      ]
     },
     "metadata": {
      "needs_background": "light"
     },
     "output_type": "display_data"
    }
   ],
   "source": [
    "plt.scatter(df['ethanol_beer_gallons_per_capita'], df['ANN'])\n",
    "plt.scatter(df['ethanol_wine_gallons_per_capita'], df['ANN'])\n",
    "plt.scatter(df['ethanol_spirit_gallons_per_capita'], df['ANN'])\n",
    "plt.scatter(df['ethanol_all_drinks_gallons_per_capita'], df['ANN'])\n",
    "plt.xlabel('Annual')\n",
    "plt.ylabel('Amount in Gallons')\n",
    "\n",
    "plt.legend()\n",
    "plt.show()"
   ]
  },
  {
   "cell_type": "code",
   "execution_count": null,
   "metadata": {},
   "outputs": [],
   "source": []
  }
 ],
 "metadata": {
  "kernelspec": {
   "display_name": "Python 3",
   "language": "python",
   "name": "python3"
  },
  "language_info": {
   "codemirror_mode": {
    "name": "ipython",
    "version": 3
   },
   "file_extension": ".py",
   "mimetype": "text/x-python",
   "name": "python",
   "nbconvert_exporter": "python",
   "pygments_lexer": "ipython3",
   "version": "3.7.7"
  }
 },
 "nbformat": 4,
 "nbformat_minor": 4
}
