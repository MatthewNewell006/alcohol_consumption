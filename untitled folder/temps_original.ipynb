{
 "metadata": {
  "language_info": {
   "codemirror_mode": {
    "name": "ipython",
    "version": 3
   },
   "file_extension": ".py",
   "mimetype": "text/x-python",
   "name": "python",
   "nbconvert_exporter": "python",
   "pygments_lexer": "ipython3",
   "version": 3
  },
  "orig_nbformat": 2,
  "kernelspec": {
   "name": "python_defaultSpec_1595346464897",
   "display_name": "Python 3.7.7 64-bit ('base': conda)"
  }
 },
 "nbformat": 4,
 "nbformat_minor": 2,
 "cells": [
  {
   "cell_type": "code",
   "execution_count": 10,
   "metadata": {},
   "outputs": [],
   "source": [
    "import pandas as pd\n",
    "import numpy as np\n",
    "import matplotlib.pyplot as plt\n",
    "import matplotlib.colors as mcolors\n",
    "from cycler import cycler\n",
    "import matplotlib.pyplot as plt\n",
    "import re"
   ]
  },
  {
   "cell_type": "code",
   "execution_count": 11,
   "metadata": {},
   "outputs": [],
   "source": [
    "temp_df = pd.read_excel('data/Highest temperature on record through 2015 by US City.xlsx')"
   ]
  },
  {
   "cell_type": "code",
   "execution_count": 12,
   "metadata": {},
   "outputs": [
    {
     "output_type": "execute_result",
     "data": {
      "text/plain": "                          CITY  JAN  FEB  MAR  APR    MAY  JUN  JUL  AUG  SEP  \\\n0                BIRMINGHAM,AL   81   83   89   92   99.0  106  107  105  102   \n1                HUNTSVILLE,AL   77   83   88   92   96.0  106  105  105  101   \n2                    MOBILE,AL   84   84   89   94  100.0  103  104  105   99   \n3                MONTGOMERY,AL   83   85   89   94   98.0  105  105  106  101   \n4                 ANCHORAGE,AK   50   49   51   69   77.0   85   84   82   73   \n..                         ...  ...  ...  ...  ...    ...  ...  ...  ...  ...   \n258   PAGO PAGO- AMER SAMOA,PC   95   96   95   95   93.0   95   91   92   92   \n259   POHNPEI- CAROLINE IS.,PC   94   96   94   94   94.0   94   95   97   96   \n260  CHUUK- E. CAROLINE IS.,PC   94   95   96   94   93.0   93   92   96   93   \n261     YAP- W CAROLINE IS.,PC   94   96   93   96   96.0   97   94   95   96   \n262                SAN JUAN,PR   92   96   96   97   96.0   97   95   97   97   \n\n     OCT  NOV  DEC  ANN  \n0     94   85   80  107  \n1     91   84   79  106  \n2     93   87   81  105  \n3    100   88   85  106  \n4     64   54   48   85  \n..   ...  ...  ...  ...  \n258   94   95   94   96  \n259   95   98   95   98  \n260   92   91   93   96  \n261   96   94   94   97  \n262   98   96   94   98  \n\n[263 rows x 14 columns]",
      "text/html": "<div>\n<style scoped>\n    .dataframe tbody tr th:only-of-type {\n        vertical-align: middle;\n    }\n\n    .dataframe tbody tr th {\n        vertical-align: top;\n    }\n\n    .dataframe thead th {\n        text-align: right;\n    }\n</style>\n<table border=\"1\" class=\"dataframe\">\n  <thead>\n    <tr style=\"text-align: right;\">\n      <th></th>\n      <th>CITY</th>\n      <th>JAN</th>\n      <th>FEB</th>\n      <th>MAR</th>\n      <th>APR</th>\n      <th>MAY</th>\n      <th>JUN</th>\n      <th>JUL</th>\n      <th>AUG</th>\n      <th>SEP</th>\n      <th>OCT</th>\n      <th>NOV</th>\n      <th>DEC</th>\n      <th>ANN</th>\n    </tr>\n  </thead>\n  <tbody>\n    <tr>\n      <th>0</th>\n      <td>BIRMINGHAM,AL</td>\n      <td>81</td>\n      <td>83</td>\n      <td>89</td>\n      <td>92</td>\n      <td>99.0</td>\n      <td>106</td>\n      <td>107</td>\n      <td>105</td>\n      <td>102</td>\n      <td>94</td>\n      <td>85</td>\n      <td>80</td>\n      <td>107</td>\n    </tr>\n    <tr>\n      <th>1</th>\n      <td>HUNTSVILLE,AL</td>\n      <td>77</td>\n      <td>83</td>\n      <td>88</td>\n      <td>92</td>\n      <td>96.0</td>\n      <td>106</td>\n      <td>105</td>\n      <td>105</td>\n      <td>101</td>\n      <td>91</td>\n      <td>84</td>\n      <td>79</td>\n      <td>106</td>\n    </tr>\n    <tr>\n      <th>2</th>\n      <td>MOBILE,AL</td>\n      <td>84</td>\n      <td>84</td>\n      <td>89</td>\n      <td>94</td>\n      <td>100.0</td>\n      <td>103</td>\n      <td>104</td>\n      <td>105</td>\n      <td>99</td>\n      <td>93</td>\n      <td>87</td>\n      <td>81</td>\n      <td>105</td>\n    </tr>\n    <tr>\n      <th>3</th>\n      <td>MONTGOMERY,AL</td>\n      <td>83</td>\n      <td>85</td>\n      <td>89</td>\n      <td>94</td>\n      <td>98.0</td>\n      <td>105</td>\n      <td>105</td>\n      <td>106</td>\n      <td>101</td>\n      <td>100</td>\n      <td>88</td>\n      <td>85</td>\n      <td>106</td>\n    </tr>\n    <tr>\n      <th>4</th>\n      <td>ANCHORAGE,AK</td>\n      <td>50</td>\n      <td>49</td>\n      <td>51</td>\n      <td>69</td>\n      <td>77.0</td>\n      <td>85</td>\n      <td>84</td>\n      <td>82</td>\n      <td>73</td>\n      <td>64</td>\n      <td>54</td>\n      <td>48</td>\n      <td>85</td>\n    </tr>\n    <tr>\n      <th>...</th>\n      <td>...</td>\n      <td>...</td>\n      <td>...</td>\n      <td>...</td>\n      <td>...</td>\n      <td>...</td>\n      <td>...</td>\n      <td>...</td>\n      <td>...</td>\n      <td>...</td>\n      <td>...</td>\n      <td>...</td>\n      <td>...</td>\n      <td>...</td>\n    </tr>\n    <tr>\n      <th>258</th>\n      <td>PAGO PAGO- AMER SAMOA,PC</td>\n      <td>95</td>\n      <td>96</td>\n      <td>95</td>\n      <td>95</td>\n      <td>93.0</td>\n      <td>95</td>\n      <td>91</td>\n      <td>92</td>\n      <td>92</td>\n      <td>94</td>\n      <td>95</td>\n      <td>94</td>\n      <td>96</td>\n    </tr>\n    <tr>\n      <th>259</th>\n      <td>POHNPEI- CAROLINE IS.,PC</td>\n      <td>94</td>\n      <td>96</td>\n      <td>94</td>\n      <td>94</td>\n      <td>94.0</td>\n      <td>94</td>\n      <td>95</td>\n      <td>97</td>\n      <td>96</td>\n      <td>95</td>\n      <td>98</td>\n      <td>95</td>\n      <td>98</td>\n    </tr>\n    <tr>\n      <th>260</th>\n      <td>CHUUK- E. CAROLINE IS.,PC</td>\n      <td>94</td>\n      <td>95</td>\n      <td>96</td>\n      <td>94</td>\n      <td>93.0</td>\n      <td>93</td>\n      <td>92</td>\n      <td>96</td>\n      <td>93</td>\n      <td>92</td>\n      <td>91</td>\n      <td>93</td>\n      <td>96</td>\n    </tr>\n    <tr>\n      <th>261</th>\n      <td>YAP- W CAROLINE IS.,PC</td>\n      <td>94</td>\n      <td>96</td>\n      <td>93</td>\n      <td>96</td>\n      <td>96.0</td>\n      <td>97</td>\n      <td>94</td>\n      <td>95</td>\n      <td>96</td>\n      <td>96</td>\n      <td>94</td>\n      <td>94</td>\n      <td>97</td>\n    </tr>\n    <tr>\n      <th>262</th>\n      <td>SAN JUAN,PR</td>\n      <td>92</td>\n      <td>96</td>\n      <td>96</td>\n      <td>97</td>\n      <td>96.0</td>\n      <td>97</td>\n      <td>95</td>\n      <td>97</td>\n      <td>97</td>\n      <td>98</td>\n      <td>96</td>\n      <td>94</td>\n      <td>98</td>\n    </tr>\n  </tbody>\n</table>\n<p>263 rows × 14 columns</p>\n</div>"
     },
     "metadata": {},
     "execution_count": 12
    }
   ],
   "source": [
    "temp_df"
   ]
  },
  {
   "cell_type": "code",
   "execution_count": 13,
   "metadata": {},
   "outputs": [],
   "source": [
    "temp_df['STATE'] = temp_df['CITY'].apply(lambda x: x.split(',')[-1])"
   ]
  },
  {
   "cell_type": "code",
   "execution_count": 14,
   "metadata": {},
   "outputs": [
    {
     "output_type": "execute_result",
     "data": {
      "text/plain": "                          CITY  JAN  FEB  MAR  APR    MAY  JUN  JUL  AUG  SEP  \\\n0                BIRMINGHAM,AL   81   83   89   92   99.0  106  107  105  102   \n1                HUNTSVILLE,AL   77   83   88   92   96.0  106  105  105  101   \n2                    MOBILE,AL   84   84   89   94  100.0  103  104  105   99   \n3                MONTGOMERY,AL   83   85   89   94   98.0  105  105  106  101   \n4                 ANCHORAGE,AK   50   49   51   69   77.0   85   84   82   73   \n..                         ...  ...  ...  ...  ...    ...  ...  ...  ...  ...   \n258   PAGO PAGO- AMER SAMOA,PC   95   96   95   95   93.0   95   91   92   92   \n259   POHNPEI- CAROLINE IS.,PC   94   96   94   94   94.0   94   95   97   96   \n260  CHUUK- E. CAROLINE IS.,PC   94   95   96   94   93.0   93   92   96   93   \n261     YAP- W CAROLINE IS.,PC   94   96   93   96   96.0   97   94   95   96   \n262                SAN JUAN,PR   92   96   96   97   96.0   97   95   97   97   \n\n     OCT  NOV  DEC  ANN STATE  \n0     94   85   80  107    AL  \n1     91   84   79  106    AL  \n2     93   87   81  105    AL  \n3    100   88   85  106    AL  \n4     64   54   48   85    AK  \n..   ...  ...  ...  ...   ...  \n258   94   95   94   96    PC  \n259   95   98   95   98    PC  \n260   92   91   93   96    PC  \n261   96   94   94   97    PC  \n262   98   96   94   98    PR  \n\n[263 rows x 15 columns]",
      "text/html": "<div>\n<style scoped>\n    .dataframe tbody tr th:only-of-type {\n        vertical-align: middle;\n    }\n\n    .dataframe tbody tr th {\n        vertical-align: top;\n    }\n\n    .dataframe thead th {\n        text-align: right;\n    }\n</style>\n<table border=\"1\" class=\"dataframe\">\n  <thead>\n    <tr style=\"text-align: right;\">\n      <th></th>\n      <th>CITY</th>\n      <th>JAN</th>\n      <th>FEB</th>\n      <th>MAR</th>\n      <th>APR</th>\n      <th>MAY</th>\n      <th>JUN</th>\n      <th>JUL</th>\n      <th>AUG</th>\n      <th>SEP</th>\n      <th>OCT</th>\n      <th>NOV</th>\n      <th>DEC</th>\n      <th>ANN</th>\n      <th>STATE</th>\n    </tr>\n  </thead>\n  <tbody>\n    <tr>\n      <th>0</th>\n      <td>BIRMINGHAM,AL</td>\n      <td>81</td>\n      <td>83</td>\n      <td>89</td>\n      <td>92</td>\n      <td>99.0</td>\n      <td>106</td>\n      <td>107</td>\n      <td>105</td>\n      <td>102</td>\n      <td>94</td>\n      <td>85</td>\n      <td>80</td>\n      <td>107</td>\n      <td>AL</td>\n    </tr>\n    <tr>\n      <th>1</th>\n      <td>HUNTSVILLE,AL</td>\n      <td>77</td>\n      <td>83</td>\n      <td>88</td>\n      <td>92</td>\n      <td>96.0</td>\n      <td>106</td>\n      <td>105</td>\n      <td>105</td>\n      <td>101</td>\n      <td>91</td>\n      <td>84</td>\n      <td>79</td>\n      <td>106</td>\n      <td>AL</td>\n    </tr>\n    <tr>\n      <th>2</th>\n      <td>MOBILE,AL</td>\n      <td>84</td>\n      <td>84</td>\n      <td>89</td>\n      <td>94</td>\n      <td>100.0</td>\n      <td>103</td>\n      <td>104</td>\n      <td>105</td>\n      <td>99</td>\n      <td>93</td>\n      <td>87</td>\n      <td>81</td>\n      <td>105</td>\n      <td>AL</td>\n    </tr>\n    <tr>\n      <th>3</th>\n      <td>MONTGOMERY,AL</td>\n      <td>83</td>\n      <td>85</td>\n      <td>89</td>\n      <td>94</td>\n      <td>98.0</td>\n      <td>105</td>\n      <td>105</td>\n      <td>106</td>\n      <td>101</td>\n      <td>100</td>\n      <td>88</td>\n      <td>85</td>\n      <td>106</td>\n      <td>AL</td>\n    </tr>\n    <tr>\n      <th>4</th>\n      <td>ANCHORAGE,AK</td>\n      <td>50</td>\n      <td>49</td>\n      <td>51</td>\n      <td>69</td>\n      <td>77.0</td>\n      <td>85</td>\n      <td>84</td>\n      <td>82</td>\n      <td>73</td>\n      <td>64</td>\n      <td>54</td>\n      <td>48</td>\n      <td>85</td>\n      <td>AK</td>\n    </tr>\n    <tr>\n      <th>...</th>\n      <td>...</td>\n      <td>...</td>\n      <td>...</td>\n      <td>...</td>\n      <td>...</td>\n      <td>...</td>\n      <td>...</td>\n      <td>...</td>\n      <td>...</td>\n      <td>...</td>\n      <td>...</td>\n      <td>...</td>\n      <td>...</td>\n      <td>...</td>\n      <td>...</td>\n    </tr>\n    <tr>\n      <th>258</th>\n      <td>PAGO PAGO- AMER SAMOA,PC</td>\n      <td>95</td>\n      <td>96</td>\n      <td>95</td>\n      <td>95</td>\n      <td>93.0</td>\n      <td>95</td>\n      <td>91</td>\n      <td>92</td>\n      <td>92</td>\n      <td>94</td>\n      <td>95</td>\n      <td>94</td>\n      <td>96</td>\n      <td>PC</td>\n    </tr>\n    <tr>\n      <th>259</th>\n      <td>POHNPEI- CAROLINE IS.,PC</td>\n      <td>94</td>\n      <td>96</td>\n      <td>94</td>\n      <td>94</td>\n      <td>94.0</td>\n      <td>94</td>\n      <td>95</td>\n      <td>97</td>\n      <td>96</td>\n      <td>95</td>\n      <td>98</td>\n      <td>95</td>\n      <td>98</td>\n      <td>PC</td>\n    </tr>\n    <tr>\n      <th>260</th>\n      <td>CHUUK- E. CAROLINE IS.,PC</td>\n      <td>94</td>\n      <td>95</td>\n      <td>96</td>\n      <td>94</td>\n      <td>93.0</td>\n      <td>93</td>\n      <td>92</td>\n      <td>96</td>\n      <td>93</td>\n      <td>92</td>\n      <td>91</td>\n      <td>93</td>\n      <td>96</td>\n      <td>PC</td>\n    </tr>\n    <tr>\n      <th>261</th>\n      <td>YAP- W CAROLINE IS.,PC</td>\n      <td>94</td>\n      <td>96</td>\n      <td>93</td>\n      <td>96</td>\n      <td>96.0</td>\n      <td>97</td>\n      <td>94</td>\n      <td>95</td>\n      <td>96</td>\n      <td>96</td>\n      <td>94</td>\n      <td>94</td>\n      <td>97</td>\n      <td>PC</td>\n    </tr>\n    <tr>\n      <th>262</th>\n      <td>SAN JUAN,PR</td>\n      <td>92</td>\n      <td>96</td>\n      <td>96</td>\n      <td>97</td>\n      <td>96.0</td>\n      <td>97</td>\n      <td>95</td>\n      <td>97</td>\n      <td>97</td>\n      <td>98</td>\n      <td>96</td>\n      <td>94</td>\n      <td>98</td>\n      <td>PR</td>\n    </tr>\n  </tbody>\n</table>\n<p>263 rows × 15 columns</p>\n</div>"
     },
     "metadata": {},
     "execution_count": 14
    }
   ],
   "source": [
    "temp_df"
   ]
  },
  {
   "cell_type": "code",
   "execution_count": 15,
   "metadata": {
    "tags": []
   },
   "outputs": [
    {
     "output_type": "stream",
     "name": "stdout",
     "text": "index                STATE         ANN\n0       0                   AK   87.550000\n1       1                   AL  106.000000\n2       2                   AR  114.500000\n3       3                   AZ  111.750000\n4       4                   CA  110.153846\n5       5                   CO  103.200000\n6       6                   CT  103.000000\n7       7                   DC  105.000000\n8       8                   DE  103.000000\n9       9                   FL  101.666667\n10     10                   GA  107.000000\n11     11                   HI   94.250000\n12     12                   IA  105.500000\n13     13                   ID  110.000000\n14     14                   IL  106.000000\n15     15                   IN  106.750000\n16     16                   KS  112.600000\n17     17  KWAJALEIN- MARSHALL   97.000000\n18     18                   KY  106.500000\n19     19                   LA  105.750000\n20     20                   MA  101.000000\n21     21                   MD  106.000000\n22     22                   ME   99.500000\n23     23                   MI  102.250000\n24     24                   MN  103.200000\n25     25                   MO  112.000000\n26     26                   MS  107.000000\n27     27                   MT  107.142857\n28     28                   NC  102.166667\n29     29                   ND  108.000000\n30     30                   NE  111.142857\n31     31                   NH   87.000000\n32     32                   NJ  107.000000\n33     33                   NM  108.666667\n34     34                   NV  108.400000\n35     35                   NY  100.333333\n36     36                   OH  102.875000\n37     37                   OK  113.000000\n38     38                   OR  106.375000\n39     39                   PA  102.714286\n40     40                   PC   96.142857\n41     41                   PR   98.000000\n42     42                   RI  104.000000\n43     43                   SC  106.666667\n44     44                   SD  112.000000\n45     45                   TN  106.166667\n46     46                   TX  111.055556\n47     47                   UT  107.000000\n48     48                   VA  104.000000\n49     49                   VT  101.000000\n50     50                   WA  106.333333\n51     51                   WI  104.750000\n52     52                   WV  100.750000\n53     53                   WY  103.000000\n"
    }
   ],
   "source": [
    "ann_mean = temp_df.groupby('STATE', as_index=False)['ANN'].agg('mean').reset_index()\n",
    "print(ann_mean)"
   ]
  },
  {
   "cell_type": "code",
   "execution_count": 17,
   "metadata": {
    "tags": []
   },
   "outputs": [
    {
     "output_type": "stream",
     "name": "stdout",
     "text": "STATE         ANN\n0                    AK   87.550000\n1                    AL  106.000000\n2                    AR  114.500000\n3                    AZ  111.750000\n4                    CA  110.153846\n5                    CO  103.200000\n6                    CT  103.000000\n7                    DC  105.000000\n8                    DE  103.000000\n9                    FL  101.666667\n10                   GA  107.000000\n11                   HI   94.250000\n12                   IA  105.500000\n13                   ID  110.000000\n14                   IL  106.000000\n15                   IN  106.750000\n16                   KS  112.600000\n17  KWAJALEIN- MARSHALL   97.000000\n18                   KY  106.500000\n19                   LA  105.750000\n20                   MA  101.000000\n21                   MD  106.000000\n22                   ME   99.500000\n23                   MI  102.250000\n24                   MN  103.200000\n25                   MO  112.000000\n26                   MS  107.000000\n27                   MT  107.142857\n28                   NC  102.166667\n29                   ND  108.000000\n30                   NE  111.142857\n31                   NH   87.000000\n32                   NJ  107.000000\n33                   NM  108.666667\n34                   NV  108.400000\n35                   NY  100.333333\n36                   OH  102.875000\n37                   OK  113.000000\n38                   OR  106.375000\n39                   PA  102.714286\n40                   PC   96.142857\n41                   PR   98.000000\n42                   RI  104.000000\n43                   SC  106.666667\n44                   SD  112.000000\n45                   TN  106.166667\n46                   TX  111.055556\n47                   UT  107.000000\n48                   VA  104.000000\n49                   VT  101.000000\n50                   WA  106.333333\n51                   WI  104.750000\n52                   WV  100.750000\n53                   WY  103.000000\n"
    }
   ],
   "source": [
    "ann_mean = temp_df.groupby('STATE', as_index=False)['ANN'].agg('mean')\n",
    "print(ann_mean)"
   ]
  },
  {
   "cell_type": "code",
   "execution_count": 18,
   "metadata": {},
   "outputs": [
    {
     "output_type": "execute_result",
     "data": {
      "text/plain": "                  STATE         ANN\n0                    AK   87.550000\n1                    AL  106.000000\n2                    AR  114.500000\n3                    AZ  111.750000\n4                    CA  110.153846\n5                    CO  103.200000\n6                    CT  103.000000\n7                    DC  105.000000\n8                    DE  103.000000\n9                    FL  101.666667\n10                   GA  107.000000\n11                   HI   94.250000\n12                   IA  105.500000\n13                   ID  110.000000\n14                   IL  106.000000\n15                   IN  106.750000\n16                   KS  112.600000\n17  KWAJALEIN- MARSHALL   97.000000\n18                   KY  106.500000\n19                   LA  105.750000\n20                   MA  101.000000\n21                   MD  106.000000\n22                   ME   99.500000\n23                   MI  102.250000\n24                   MN  103.200000\n25                   MO  112.000000\n26                   MS  107.000000\n27                   MT  107.142857\n28                   NC  102.166667\n29                   ND  108.000000\n30                   NE  111.142857\n31                   NH   87.000000\n32                   NJ  107.000000\n33                   NM  108.666667\n34                   NV  108.400000\n35                   NY  100.333333\n36                   OH  102.875000\n37                   OK  113.000000\n38                   OR  106.375000\n39                   PA  102.714286\n40                   PC   96.142857\n41                   PR   98.000000\n42                   RI  104.000000\n43                   SC  106.666667\n44                   SD  112.000000\n45                   TN  106.166667\n46                   TX  111.055556\n47                   UT  107.000000\n48                   VA  104.000000\n49                   VT  101.000000\n50                   WA  106.333333\n51                   WI  104.750000\n52                   WV  100.750000\n53                   WY  103.000000",
      "text/html": "<div>\n<style scoped>\n    .dataframe tbody tr th:only-of-type {\n        vertical-align: middle;\n    }\n\n    .dataframe tbody tr th {\n        vertical-align: top;\n    }\n\n    .dataframe thead th {\n        text-align: right;\n    }\n</style>\n<table border=\"1\" class=\"dataframe\">\n  <thead>\n    <tr style=\"text-align: right;\">\n      <th></th>\n      <th>STATE</th>\n      <th>ANN</th>\n    </tr>\n  </thead>\n  <tbody>\n    <tr>\n      <th>0</th>\n      <td>AK</td>\n      <td>87.550000</td>\n    </tr>\n    <tr>\n      <th>1</th>\n      <td>AL</td>\n      <td>106.000000</td>\n    </tr>\n    <tr>\n      <th>2</th>\n      <td>AR</td>\n      <td>114.500000</td>\n    </tr>\n    <tr>\n      <th>3</th>\n      <td>AZ</td>\n      <td>111.750000</td>\n    </tr>\n    <tr>\n      <th>4</th>\n      <td>CA</td>\n      <td>110.153846</td>\n    </tr>\n    <tr>\n      <th>5</th>\n      <td>CO</td>\n      <td>103.200000</td>\n    </tr>\n    <tr>\n      <th>6</th>\n      <td>CT</td>\n      <td>103.000000</td>\n    </tr>\n    <tr>\n      <th>7</th>\n      <td>DC</td>\n      <td>105.000000</td>\n    </tr>\n    <tr>\n      <th>8</th>\n      <td>DE</td>\n      <td>103.000000</td>\n    </tr>\n    <tr>\n      <th>9</th>\n      <td>FL</td>\n      <td>101.666667</td>\n    </tr>\n    <tr>\n      <th>10</th>\n      <td>GA</td>\n      <td>107.000000</td>\n    </tr>\n    <tr>\n      <th>11</th>\n      <td>HI</td>\n      <td>94.250000</td>\n    </tr>\n    <tr>\n      <th>12</th>\n      <td>IA</td>\n      <td>105.500000</td>\n    </tr>\n    <tr>\n      <th>13</th>\n      <td>ID</td>\n      <td>110.000000</td>\n    </tr>\n    <tr>\n      <th>14</th>\n      <td>IL</td>\n      <td>106.000000</td>\n    </tr>\n    <tr>\n      <th>15</th>\n      <td>IN</td>\n      <td>106.750000</td>\n    </tr>\n    <tr>\n      <th>16</th>\n      <td>KS</td>\n      <td>112.600000</td>\n    </tr>\n    <tr>\n      <th>17</th>\n      <td>KWAJALEIN- MARSHALL</td>\n      <td>97.000000</td>\n    </tr>\n    <tr>\n      <th>18</th>\n      <td>KY</td>\n      <td>106.500000</td>\n    </tr>\n    <tr>\n      <th>19</th>\n      <td>LA</td>\n      <td>105.750000</td>\n    </tr>\n    <tr>\n      <th>20</th>\n      <td>MA</td>\n      <td>101.000000</td>\n    </tr>\n    <tr>\n      <th>21</th>\n      <td>MD</td>\n      <td>106.000000</td>\n    </tr>\n    <tr>\n      <th>22</th>\n      <td>ME</td>\n      <td>99.500000</td>\n    </tr>\n    <tr>\n      <th>23</th>\n      <td>MI</td>\n      <td>102.250000</td>\n    </tr>\n    <tr>\n      <th>24</th>\n      <td>MN</td>\n      <td>103.200000</td>\n    </tr>\n    <tr>\n      <th>25</th>\n      <td>MO</td>\n      <td>112.000000</td>\n    </tr>\n    <tr>\n      <th>26</th>\n      <td>MS</td>\n      <td>107.000000</td>\n    </tr>\n    <tr>\n      <th>27</th>\n      <td>MT</td>\n      <td>107.142857</td>\n    </tr>\n    <tr>\n      <th>28</th>\n      <td>NC</td>\n      <td>102.166667</td>\n    </tr>\n    <tr>\n      <th>29</th>\n      <td>ND</td>\n      <td>108.000000</td>\n    </tr>\n    <tr>\n      <th>30</th>\n      <td>NE</td>\n      <td>111.142857</td>\n    </tr>\n    <tr>\n      <th>31</th>\n      <td>NH</td>\n      <td>87.000000</td>\n    </tr>\n    <tr>\n      <th>32</th>\n      <td>NJ</td>\n      <td>107.000000</td>\n    </tr>\n    <tr>\n      <th>33</th>\n      <td>NM</td>\n      <td>108.666667</td>\n    </tr>\n    <tr>\n      <th>34</th>\n      <td>NV</td>\n      <td>108.400000</td>\n    </tr>\n    <tr>\n      <th>35</th>\n      <td>NY</td>\n      <td>100.333333</td>\n    </tr>\n    <tr>\n      <th>36</th>\n      <td>OH</td>\n      <td>102.875000</td>\n    </tr>\n    <tr>\n      <th>37</th>\n      <td>OK</td>\n      <td>113.000000</td>\n    </tr>\n    <tr>\n      <th>38</th>\n      <td>OR</td>\n      <td>106.375000</td>\n    </tr>\n    <tr>\n      <th>39</th>\n      <td>PA</td>\n      <td>102.714286</td>\n    </tr>\n    <tr>\n      <th>40</th>\n      <td>PC</td>\n      <td>96.142857</td>\n    </tr>\n    <tr>\n      <th>41</th>\n      <td>PR</td>\n      <td>98.000000</td>\n    </tr>\n    <tr>\n      <th>42</th>\n      <td>RI</td>\n      <td>104.000000</td>\n    </tr>\n    <tr>\n      <th>43</th>\n      <td>SC</td>\n      <td>106.666667</td>\n    </tr>\n    <tr>\n      <th>44</th>\n      <td>SD</td>\n      <td>112.000000</td>\n    </tr>\n    <tr>\n      <th>45</th>\n      <td>TN</td>\n      <td>106.166667</td>\n    </tr>\n    <tr>\n      <th>46</th>\n      <td>TX</td>\n      <td>111.055556</td>\n    </tr>\n    <tr>\n      <th>47</th>\n      <td>UT</td>\n      <td>107.000000</td>\n    </tr>\n    <tr>\n      <th>48</th>\n      <td>VA</td>\n      <td>104.000000</td>\n    </tr>\n    <tr>\n      <th>49</th>\n      <td>VT</td>\n      <td>101.000000</td>\n    </tr>\n    <tr>\n      <th>50</th>\n      <td>WA</td>\n      <td>106.333333</td>\n    </tr>\n    <tr>\n      <th>51</th>\n      <td>WI</td>\n      <td>104.750000</td>\n    </tr>\n    <tr>\n      <th>52</th>\n      <td>WV</td>\n      <td>100.750000</td>\n    </tr>\n    <tr>\n      <th>53</th>\n      <td>WY</td>\n      <td>103.000000</td>\n    </tr>\n  </tbody>\n</table>\n</div>"
     },
     "metadata": {},
     "execution_count": 18
    }
   ],
   "source": [
    "ann_mean.reset_index(drop = True)"
   ]
  },
  {
   "cell_type": "code",
   "execution_count": 19,
   "metadata": {
    "tags": []
   },
   "outputs": [
    {
     "output_type": "stream",
     "name": "stdout",
     "text": "<class 'pandas.core.frame.DataFrame'>\nInt64Index: 54 entries, 0 to 53\nData columns (total 2 columns):\n #   Column  Non-Null Count  Dtype  \n---  ------  --------------  -----  \n 0   STATE   54 non-null     object \n 1   ANN     54 non-null     float64\ndtypes: float64(1), object(1)\nmemory usage: 3.8+ KB\n"
    }
   ],
   "source": [
    "ann_mean.info()"
   ]
  },
  {
   "cell_type": "code",
   "execution_count": 20,
   "metadata": {},
   "outputs": [
    {
     "output_type": "execute_result",
     "data": {
      "text/plain": "                  STATE         ANN\n0                    AK   87.550000\n1                    AL  106.000000\n2                    AR  114.500000\n3                    AZ  111.750000\n4                    CA  110.153846\n5                    CO  103.200000\n6                    CT  103.000000\n7                    DC  105.000000\n8                    DE  103.000000\n9                    FL  101.666667\n10                   GA  107.000000\n11                   HI   94.250000\n12                   IA  105.500000\n13                   ID  110.000000\n14                   IL  106.000000\n15                   IN  106.750000\n16                   KS  112.600000\n17  KWAJALEIN- MARSHALL   97.000000\n18                   KY  106.500000\n19                   LA  105.750000\n20                   MA  101.000000\n21                   MD  106.000000\n22                   ME   99.500000\n23                   MI  102.250000\n24                   MN  103.200000\n25                   MO  112.000000\n26                   MS  107.000000\n27                   MT  107.142857\n28                   NC  102.166667\n29                   ND  108.000000\n30                   NE  111.142857\n31                   NH   87.000000\n32                   NJ  107.000000\n33                   NM  108.666667\n34                   NV  108.400000\n35                   NY  100.333333\n36                   OH  102.875000\n37                   OK  113.000000\n38                   OR  106.375000\n39                   PA  102.714286\n40                   PC   96.142857\n41                   PR   98.000000\n42                   RI  104.000000\n43                   SC  106.666667\n44                   SD  112.000000\n45                   TN  106.166667\n46                   TX  111.055556\n47                   UT  107.000000\n48                   VA  104.000000\n49                   VT  101.000000\n50                   WA  106.333333\n51                   WI  104.750000\n52                   WV  100.750000\n53                   WY  103.000000",
      "text/html": "<div>\n<style scoped>\n    .dataframe tbody tr th:only-of-type {\n        vertical-align: middle;\n    }\n\n    .dataframe tbody tr th {\n        vertical-align: top;\n    }\n\n    .dataframe thead th {\n        text-align: right;\n    }\n</style>\n<table border=\"1\" class=\"dataframe\">\n  <thead>\n    <tr style=\"text-align: right;\">\n      <th></th>\n      <th>STATE</th>\n      <th>ANN</th>\n    </tr>\n  </thead>\n  <tbody>\n    <tr>\n      <th>0</th>\n      <td>AK</td>\n      <td>87.550000</td>\n    </tr>\n    <tr>\n      <th>1</th>\n      <td>AL</td>\n      <td>106.000000</td>\n    </tr>\n    <tr>\n      <th>2</th>\n      <td>AR</td>\n      <td>114.500000</td>\n    </tr>\n    <tr>\n      <th>3</th>\n      <td>AZ</td>\n      <td>111.750000</td>\n    </tr>\n    <tr>\n      <th>4</th>\n      <td>CA</td>\n      <td>110.153846</td>\n    </tr>\n    <tr>\n      <th>5</th>\n      <td>CO</td>\n      <td>103.200000</td>\n    </tr>\n    <tr>\n      <th>6</th>\n      <td>CT</td>\n      <td>103.000000</td>\n    </tr>\n    <tr>\n      <th>7</th>\n      <td>DC</td>\n      <td>105.000000</td>\n    </tr>\n    <tr>\n      <th>8</th>\n      <td>DE</td>\n      <td>103.000000</td>\n    </tr>\n    <tr>\n      <th>9</th>\n      <td>FL</td>\n      <td>101.666667</td>\n    </tr>\n    <tr>\n      <th>10</th>\n      <td>GA</td>\n      <td>107.000000</td>\n    </tr>\n    <tr>\n      <th>11</th>\n      <td>HI</td>\n      <td>94.250000</td>\n    </tr>\n    <tr>\n      <th>12</th>\n      <td>IA</td>\n      <td>105.500000</td>\n    </tr>\n    <tr>\n      <th>13</th>\n      <td>ID</td>\n      <td>110.000000</td>\n    </tr>\n    <tr>\n      <th>14</th>\n      <td>IL</td>\n      <td>106.000000</td>\n    </tr>\n    <tr>\n      <th>15</th>\n      <td>IN</td>\n      <td>106.750000</td>\n    </tr>\n    <tr>\n      <th>16</th>\n      <td>KS</td>\n      <td>112.600000</td>\n    </tr>\n    <tr>\n      <th>17</th>\n      <td>KWAJALEIN- MARSHALL</td>\n      <td>97.000000</td>\n    </tr>\n    <tr>\n      <th>18</th>\n      <td>KY</td>\n      <td>106.500000</td>\n    </tr>\n    <tr>\n      <th>19</th>\n      <td>LA</td>\n      <td>105.750000</td>\n    </tr>\n    <tr>\n      <th>20</th>\n      <td>MA</td>\n      <td>101.000000</td>\n    </tr>\n    <tr>\n      <th>21</th>\n      <td>MD</td>\n      <td>106.000000</td>\n    </tr>\n    <tr>\n      <th>22</th>\n      <td>ME</td>\n      <td>99.500000</td>\n    </tr>\n    <tr>\n      <th>23</th>\n      <td>MI</td>\n      <td>102.250000</td>\n    </tr>\n    <tr>\n      <th>24</th>\n      <td>MN</td>\n      <td>103.200000</td>\n    </tr>\n    <tr>\n      <th>25</th>\n      <td>MO</td>\n      <td>112.000000</td>\n    </tr>\n    <tr>\n      <th>26</th>\n      <td>MS</td>\n      <td>107.000000</td>\n    </tr>\n    <tr>\n      <th>27</th>\n      <td>MT</td>\n      <td>107.142857</td>\n    </tr>\n    <tr>\n      <th>28</th>\n      <td>NC</td>\n      <td>102.166667</td>\n    </tr>\n    <tr>\n      <th>29</th>\n      <td>ND</td>\n      <td>108.000000</td>\n    </tr>\n    <tr>\n      <th>30</th>\n      <td>NE</td>\n      <td>111.142857</td>\n    </tr>\n    <tr>\n      <th>31</th>\n      <td>NH</td>\n      <td>87.000000</td>\n    </tr>\n    <tr>\n      <th>32</th>\n      <td>NJ</td>\n      <td>107.000000</td>\n    </tr>\n    <tr>\n      <th>33</th>\n      <td>NM</td>\n      <td>108.666667</td>\n    </tr>\n    <tr>\n      <th>34</th>\n      <td>NV</td>\n      <td>108.400000</td>\n    </tr>\n    <tr>\n      <th>35</th>\n      <td>NY</td>\n      <td>100.333333</td>\n    </tr>\n    <tr>\n      <th>36</th>\n      <td>OH</td>\n      <td>102.875000</td>\n    </tr>\n    <tr>\n      <th>37</th>\n      <td>OK</td>\n      <td>113.000000</td>\n    </tr>\n    <tr>\n      <th>38</th>\n      <td>OR</td>\n      <td>106.375000</td>\n    </tr>\n    <tr>\n      <th>39</th>\n      <td>PA</td>\n      <td>102.714286</td>\n    </tr>\n    <tr>\n      <th>40</th>\n      <td>PC</td>\n      <td>96.142857</td>\n    </tr>\n    <tr>\n      <th>41</th>\n      <td>PR</td>\n      <td>98.000000</td>\n    </tr>\n    <tr>\n      <th>42</th>\n      <td>RI</td>\n      <td>104.000000</td>\n    </tr>\n    <tr>\n      <th>43</th>\n      <td>SC</td>\n      <td>106.666667</td>\n    </tr>\n    <tr>\n      <th>44</th>\n      <td>SD</td>\n      <td>112.000000</td>\n    </tr>\n    <tr>\n      <th>45</th>\n      <td>TN</td>\n      <td>106.166667</td>\n    </tr>\n    <tr>\n      <th>46</th>\n      <td>TX</td>\n      <td>111.055556</td>\n    </tr>\n    <tr>\n      <th>47</th>\n      <td>UT</td>\n      <td>107.000000</td>\n    </tr>\n    <tr>\n      <th>48</th>\n      <td>VA</td>\n      <td>104.000000</td>\n    </tr>\n    <tr>\n      <th>49</th>\n      <td>VT</td>\n      <td>101.000000</td>\n    </tr>\n    <tr>\n      <th>50</th>\n      <td>WA</td>\n      <td>106.333333</td>\n    </tr>\n    <tr>\n      <th>51</th>\n      <td>WI</td>\n      <td>104.750000</td>\n    </tr>\n    <tr>\n      <th>52</th>\n      <td>WV</td>\n      <td>100.750000</td>\n    </tr>\n    <tr>\n      <th>53</th>\n      <td>WY</td>\n      <td>103.000000</td>\n    </tr>\n  </tbody>\n</table>\n</div>"
     },
     "metadata": {},
     "execution_count": 20
    }
   ],
   "source": [
    "ann_mean"
   ]
  },
  {
   "cell_type": "code",
   "execution_count": null,
   "metadata": {},
   "outputs": [],
   "source": []
  }
 ]
}