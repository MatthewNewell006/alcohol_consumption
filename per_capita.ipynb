{
 "cells": [
  {
   "cell_type": "code",
   "execution_count": 4,
   "metadata": {},
   "outputs": [],
   "source": [
    "import pandas as pd\n",
    "import numpy as np\n",
    "import matplotlib.pyplot as plt\n",
    "import matplotlib.colors as mcolors\n",
    "from cycler import cycler\n",
    "import matplotlib.pyplot as plt"
   ]
  },
  {
   "cell_type": "code",
   "execution_count": 5,
   "metadata": {},
   "outputs": [],
   "source": [
    "pc_df = pd.read_csv('data/apparent_per_capita_alcohol_consumption_1977_2018.csv', delimiter=None)"
   ]
  },
  {
   "cell_type": "code",
   "execution_count": 6,
   "metadata": {},
   "outputs": [
    {
     "data": {
      "text/html": [
       "<div>\n",
       "<style scoped>\n",
       "    .dataframe tbody tr th:only-of-type {\n",
       "        vertical-align: middle;\n",
       "    }\n",
       "\n",
       "    .dataframe tbody tr th {\n",
       "        vertical-align: top;\n",
       "    }\n",
       "\n",
       "    .dataframe thead th {\n",
       "        text-align: right;\n",
       "    }\n",
       "</style>\n",
       "<table border=\"1\" class=\"dataframe\">\n",
       "  <thead>\n",
       "    <tr style=\"text-align: right;\">\n",
       "      <th></th>\n",
       "      <th>state</th>\n",
       "      <th>year</th>\n",
       "      <th>ethanol_beer_gallons_per_capita</th>\n",
       "      <th>ethanol_wine_gallons_per_capita</th>\n",
       "      <th>ethanol_spirit_gallons_per_capita</th>\n",
       "      <th>ethanol_all_drinks_gallons_per_capita</th>\n",
       "      <th>number_of_beers</th>\n",
       "      <th>number_of_glasses_wine</th>\n",
       "      <th>number_of_shots_liquor</th>\n",
       "      <th>number_of_drinks_total</th>\n",
       "    </tr>\n",
       "  </thead>\n",
       "  <tbody>\n",
       "    <tr>\n",
       "      <th>0</th>\n",
       "      <td>alabama</td>\n",
       "      <td>2018</td>\n",
       "      <td>1.04</td>\n",
       "      <td>0.26</td>\n",
       "      <td>0.69</td>\n",
       "      <td>1.99</td>\n",
       "      <td>246.518519</td>\n",
       "      <td>51.596899</td>\n",
       "      <td>143.260341</td>\n",
       "      <td>424.533333</td>\n",
       "    </tr>\n",
       "    <tr>\n",
       "      <th>1</th>\n",
       "      <td>alabama</td>\n",
       "      <td>2017</td>\n",
       "      <td>1.07</td>\n",
       "      <td>0.26</td>\n",
       "      <td>0.67</td>\n",
       "      <td>1.99</td>\n",
       "      <td>253.629630</td>\n",
       "      <td>51.596899</td>\n",
       "      <td>139.107867</td>\n",
       "      <td>424.533333</td>\n",
       "    </tr>\n",
       "    <tr>\n",
       "      <th>2</th>\n",
       "      <td>alabama</td>\n",
       "      <td>2016</td>\n",
       "      <td>1.09</td>\n",
       "      <td>0.26</td>\n",
       "      <td>0.65</td>\n",
       "      <td>2.01</td>\n",
       "      <td>258.370370</td>\n",
       "      <td>51.596899</td>\n",
       "      <td>134.955393</td>\n",
       "      <td>428.800000</td>\n",
       "    </tr>\n",
       "    <tr>\n",
       "      <th>3</th>\n",
       "      <td>alabama</td>\n",
       "      <td>2015</td>\n",
       "      <td>1.11</td>\n",
       "      <td>0.26</td>\n",
       "      <td>0.64</td>\n",
       "      <td>2.01</td>\n",
       "      <td>263.111111</td>\n",
       "      <td>51.596899</td>\n",
       "      <td>132.879157</td>\n",
       "      <td>428.800000</td>\n",
       "    </tr>\n",
       "    <tr>\n",
       "      <th>4</th>\n",
       "      <td>alabama</td>\n",
       "      <td>2014</td>\n",
       "      <td>1.13</td>\n",
       "      <td>0.25</td>\n",
       "      <td>0.62</td>\n",
       "      <td>2.00</td>\n",
       "      <td>267.851852</td>\n",
       "      <td>49.612403</td>\n",
       "      <td>128.726683</td>\n",
       "      <td>426.666667</td>\n",
       "    </tr>\n",
       "    <tr>\n",
       "      <th>...</th>\n",
       "      <td>...</td>\n",
       "      <td>...</td>\n",
       "      <td>...</td>\n",
       "      <td>...</td>\n",
       "      <td>...</td>\n",
       "      <td>...</td>\n",
       "      <td>...</td>\n",
       "      <td>...</td>\n",
       "      <td>...</td>\n",
       "      <td>...</td>\n",
       "    </tr>\n",
       "    <tr>\n",
       "      <th>2347</th>\n",
       "      <td>us total</td>\n",
       "      <td>1981</td>\n",
       "      <td>1.39</td>\n",
       "      <td>0.35</td>\n",
       "      <td>1.02</td>\n",
       "      <td>2.76</td>\n",
       "      <td>329.481481</td>\n",
       "      <td>69.457364</td>\n",
       "      <td>211.776156</td>\n",
       "      <td>588.800000</td>\n",
       "    </tr>\n",
       "    <tr>\n",
       "      <th>2348</th>\n",
       "      <td>us total</td>\n",
       "      <td>1980</td>\n",
       "      <td>1.37</td>\n",
       "      <td>0.34</td>\n",
       "      <td>1.04</td>\n",
       "      <td>2.75</td>\n",
       "      <td>324.740741</td>\n",
       "      <td>67.472868</td>\n",
       "      <td>215.928629</td>\n",
       "      <td>586.666667</td>\n",
       "    </tr>\n",
       "    <tr>\n",
       "      <th>2349</th>\n",
       "      <td>us total</td>\n",
       "      <td>1979</td>\n",
       "      <td>1.34</td>\n",
       "      <td>0.31</td>\n",
       "      <td>1.04</td>\n",
       "      <td>2.70</td>\n",
       "      <td>317.629630</td>\n",
       "      <td>61.519380</td>\n",
       "      <td>215.928629</td>\n",
       "      <td>576.000000</td>\n",
       "    </tr>\n",
       "    <tr>\n",
       "      <th>2350</th>\n",
       "      <td>us total</td>\n",
       "      <td>1978</td>\n",
       "      <td>1.30</td>\n",
       "      <td>0.30</td>\n",
       "      <td>1.05</td>\n",
       "      <td>2.66</td>\n",
       "      <td>308.148148</td>\n",
       "      <td>59.534884</td>\n",
       "      <td>218.004866</td>\n",
       "      <td>567.466667</td>\n",
       "    </tr>\n",
       "    <tr>\n",
       "      <th>2351</th>\n",
       "      <td>us total</td>\n",
       "      <td>1977</td>\n",
       "      <td>1.27</td>\n",
       "      <td>0.29</td>\n",
       "      <td>1.04</td>\n",
       "      <td>2.60</td>\n",
       "      <td>301.037037</td>\n",
       "      <td>57.550388</td>\n",
       "      <td>215.928629</td>\n",
       "      <td>554.666667</td>\n",
       "    </tr>\n",
       "  </tbody>\n",
       "</table>\n",
       "<p>2352 rows × 10 columns</p>\n",
       "</div>"
      ],
      "text/plain": [
       "         state  year  ethanol_beer_gallons_per_capita  \\\n",
       "0      alabama  2018                             1.04   \n",
       "1      alabama  2017                             1.07   \n",
       "2      alabama  2016                             1.09   \n",
       "3      alabama  2015                             1.11   \n",
       "4      alabama  2014                             1.13   \n",
       "...        ...   ...                              ...   \n",
       "2347  us total  1981                             1.39   \n",
       "2348  us total  1980                             1.37   \n",
       "2349  us total  1979                             1.34   \n",
       "2350  us total  1978                             1.30   \n",
       "2351  us total  1977                             1.27   \n",
       "\n",
       "      ethanol_wine_gallons_per_capita  ethanol_spirit_gallons_per_capita  \\\n",
       "0                                0.26                               0.69   \n",
       "1                                0.26                               0.67   \n",
       "2                                0.26                               0.65   \n",
       "3                                0.26                               0.64   \n",
       "4                                0.25                               0.62   \n",
       "...                               ...                                ...   \n",
       "2347                             0.35                               1.02   \n",
       "2348                             0.34                               1.04   \n",
       "2349                             0.31                               1.04   \n",
       "2350                             0.30                               1.05   \n",
       "2351                             0.29                               1.04   \n",
       "\n",
       "      ethanol_all_drinks_gallons_per_capita  number_of_beers  \\\n",
       "0                                      1.99       246.518519   \n",
       "1                                      1.99       253.629630   \n",
       "2                                      2.01       258.370370   \n",
       "3                                      2.01       263.111111   \n",
       "4                                      2.00       267.851852   \n",
       "...                                     ...              ...   \n",
       "2347                                   2.76       329.481481   \n",
       "2348                                   2.75       324.740741   \n",
       "2349                                   2.70       317.629630   \n",
       "2350                                   2.66       308.148148   \n",
       "2351                                   2.60       301.037037   \n",
       "\n",
       "      number_of_glasses_wine  number_of_shots_liquor  number_of_drinks_total  \n",
       "0                  51.596899              143.260341              424.533333  \n",
       "1                  51.596899              139.107867              424.533333  \n",
       "2                  51.596899              134.955393              428.800000  \n",
       "3                  51.596899              132.879157              428.800000  \n",
       "4                  49.612403              128.726683              426.666667  \n",
       "...                      ...                     ...                     ...  \n",
       "2347               69.457364              211.776156              588.800000  \n",
       "2348               67.472868              215.928629              586.666667  \n",
       "2349               61.519380              215.928629              576.000000  \n",
       "2350               59.534884              218.004866              567.466667  \n",
       "2351               57.550388              215.928629              554.666667  \n",
       "\n",
       "[2352 rows x 10 columns]"
      ]
     },
     "execution_count": 6,
     "metadata": {},
     "output_type": "execute_result"
    }
   ],
   "source": [
    "pc_df"
   ]
  },
  {
   "cell_type": "code",
   "execution_count": 9,
   "metadata": {},
   "outputs": [
    {
     "name": "stdout",
     "output_type": "stream",
     "text": [
      "<class 'pandas.core.frame.DataFrame'>\n",
      "RangeIndex: 2352 entries, 0 to 2351\n",
      "Data columns (total 10 columns):\n",
      " #   Column                                 Non-Null Count  Dtype  \n",
      "---  ------                                 --------------  -----  \n",
      " 0   state                                  2352 non-null   object \n",
      " 1   year                                   2352 non-null   int64  \n",
      " 2   ethanol_beer_gallons_per_capita        2352 non-null   float64\n",
      " 3   ethanol_wine_gallons_per_capita        2352 non-null   float64\n",
      " 4   ethanol_spirit_gallons_per_capita      2352 non-null   float64\n",
      " 5   ethanol_all_drinks_gallons_per_capita  2352 non-null   float64\n",
      " 6   number_of_beers                        2352 non-null   float64\n",
      " 7   number_of_glasses_wine                 2352 non-null   float64\n",
      " 8   number_of_shots_liquor                 2352 non-null   float64\n",
      " 9   number_of_drinks_total                 2352 non-null   float64\n",
      "dtypes: float64(8), int64(1), object(1)\n",
      "memory usage: 183.9+ KB\n"
     ]
    }
   ],
   "source": [
    "pc_df.info()"
   ]
  },
  {
   "cell_type": "code",
   "execution_count": 10,
   "metadata": {},
   "outputs": [
    {
     "data": {
      "text/html": [
       "<div>\n",
       "<style scoped>\n",
       "    .dataframe tbody tr th:only-of-type {\n",
       "        vertical-align: middle;\n",
       "    }\n",
       "\n",
       "    .dataframe tbody tr th {\n",
       "        vertical-align: top;\n",
       "    }\n",
       "\n",
       "    .dataframe thead th {\n",
       "        text-align: right;\n",
       "    }\n",
       "</style>\n",
       "<table border=\"1\" class=\"dataframe\">\n",
       "  <thead>\n",
       "    <tr style=\"text-align: right;\">\n",
       "      <th></th>\n",
       "      <th>year</th>\n",
       "      <th>ethanol_beer_gallons_per_capita</th>\n",
       "      <th>ethanol_wine_gallons_per_capita</th>\n",
       "      <th>ethanol_spirit_gallons_per_capita</th>\n",
       "      <th>ethanol_all_drinks_gallons_per_capita</th>\n",
       "      <th>number_of_beers</th>\n",
       "      <th>number_of_glasses_wine</th>\n",
       "      <th>number_of_shots_liquor</th>\n",
       "      <th>number_of_drinks_total</th>\n",
       "    </tr>\n",
       "  </thead>\n",
       "  <tbody>\n",
       "    <tr>\n",
       "      <th>count</th>\n",
       "      <td>2352.000000</td>\n",
       "      <td>2352.000000</td>\n",
       "      <td>2352.000000</td>\n",
       "      <td>2352.000000</td>\n",
       "      <td>2352.000000</td>\n",
       "      <td>2352.000000</td>\n",
       "      <td>2352.000000</td>\n",
       "      <td>2352.000000</td>\n",
       "      <td>2352.000000</td>\n",
       "    </tr>\n",
       "    <tr>\n",
       "      <th>mean</th>\n",
       "      <td>1997.500000</td>\n",
       "      <td>1.279269</td>\n",
       "      <td>0.346144</td>\n",
       "      <td>0.850391</td>\n",
       "      <td>2.476063</td>\n",
       "      <td>303.234064</td>\n",
       "      <td>68.692085</td>\n",
       "      <td>176.561343</td>\n",
       "      <td>528.226757</td>\n",
       "    </tr>\n",
       "    <tr>\n",
       "      <th>std</th>\n",
       "      <td>12.123496</td>\n",
       "      <td>0.228744</td>\n",
       "      <td>0.182142</td>\n",
       "      <td>0.347001</td>\n",
       "      <td>0.609605</td>\n",
       "      <td>54.220899</td>\n",
       "      <td>36.145971</td>\n",
       "      <td>72.045606</td>\n",
       "      <td>130.049158</td>\n",
       "    </tr>\n",
       "    <tr>\n",
       "      <th>min</th>\n",
       "      <td>1977.000000</td>\n",
       "      <td>0.580000</td>\n",
       "      <td>0.080000</td>\n",
       "      <td>0.360000</td>\n",
       "      <td>1.190000</td>\n",
       "      <td>137.481481</td>\n",
       "      <td>15.875969</td>\n",
       "      <td>74.744526</td>\n",
       "      <td>253.866667</td>\n",
       "    </tr>\n",
       "    <tr>\n",
       "      <th>25%</th>\n",
       "      <td>1987.000000</td>\n",
       "      <td>1.120000</td>\n",
       "      <td>0.210000</td>\n",
       "      <td>0.650000</td>\n",
       "      <td>2.130000</td>\n",
       "      <td>265.481481</td>\n",
       "      <td>41.674419</td>\n",
       "      <td>134.955393</td>\n",
       "      <td>454.400000</td>\n",
       "    </tr>\n",
       "    <tr>\n",
       "      <th>50%</th>\n",
       "      <td>1997.500000</td>\n",
       "      <td>1.270000</td>\n",
       "      <td>0.310000</td>\n",
       "      <td>0.770000</td>\n",
       "      <td>2.360000</td>\n",
       "      <td>301.037037</td>\n",
       "      <td>61.519380</td>\n",
       "      <td>159.870235</td>\n",
       "      <td>503.466667</td>\n",
       "    </tr>\n",
       "    <tr>\n",
       "      <th>75%</th>\n",
       "      <td>2008.000000</td>\n",
       "      <td>1.400000</td>\n",
       "      <td>0.450000</td>\n",
       "      <td>0.960000</td>\n",
       "      <td>2.700000</td>\n",
       "      <td>331.851852</td>\n",
       "      <td>89.302326</td>\n",
       "      <td>199.318735</td>\n",
       "      <td>576.000000</td>\n",
       "    </tr>\n",
       "    <tr>\n",
       "      <th>max</th>\n",
       "      <td>2018.000000</td>\n",
       "      <td>2.170000</td>\n",
       "      <td>1.210000</td>\n",
       "      <td>3.560000</td>\n",
       "      <td>6.320000</td>\n",
       "      <td>514.370370</td>\n",
       "      <td>240.124031</td>\n",
       "      <td>739.140308</td>\n",
       "      <td>1348.266667</td>\n",
       "    </tr>\n",
       "  </tbody>\n",
       "</table>\n",
       "</div>"
      ],
      "text/plain": [
       "              year  ethanol_beer_gallons_per_capita  \\\n",
       "count  2352.000000                      2352.000000   \n",
       "mean   1997.500000                         1.279269   \n",
       "std      12.123496                         0.228744   \n",
       "min    1977.000000                         0.580000   \n",
       "25%    1987.000000                         1.120000   \n",
       "50%    1997.500000                         1.270000   \n",
       "75%    2008.000000                         1.400000   \n",
       "max    2018.000000                         2.170000   \n",
       "\n",
       "       ethanol_wine_gallons_per_capita  ethanol_spirit_gallons_per_capita  \\\n",
       "count                      2352.000000                        2352.000000   \n",
       "mean                          0.346144                           0.850391   \n",
       "std                           0.182142                           0.347001   \n",
       "min                           0.080000                           0.360000   \n",
       "25%                           0.210000                           0.650000   \n",
       "50%                           0.310000                           0.770000   \n",
       "75%                           0.450000                           0.960000   \n",
       "max                           1.210000                           3.560000   \n",
       "\n",
       "       ethanol_all_drinks_gallons_per_capita  number_of_beers  \\\n",
       "count                            2352.000000      2352.000000   \n",
       "mean                                2.476063       303.234064   \n",
       "std                                 0.609605        54.220899   \n",
       "min                                 1.190000       137.481481   \n",
       "25%                                 2.130000       265.481481   \n",
       "50%                                 2.360000       301.037037   \n",
       "75%                                 2.700000       331.851852   \n",
       "max                                 6.320000       514.370370   \n",
       "\n",
       "       number_of_glasses_wine  number_of_shots_liquor  number_of_drinks_total  \n",
       "count             2352.000000             2352.000000             2352.000000  \n",
       "mean                68.692085              176.561343              528.226757  \n",
       "std                 36.145971               72.045606              130.049158  \n",
       "min                 15.875969               74.744526              253.866667  \n",
       "25%                 41.674419              134.955393              454.400000  \n",
       "50%                 61.519380              159.870235              503.466667  \n",
       "75%                 89.302326              199.318735              576.000000  \n",
       "max                240.124031              739.140308             1348.266667  "
      ]
     },
     "execution_count": 10,
     "metadata": {},
     "output_type": "execute_result"
    }
   ],
   "source": [
    "pc_df.describe()"
   ]
  },
  {
   "cell_type": "code",
   "execution_count": 99,
   "metadata": {},
   "outputs": [
    {
     "name": "stdout",
     "output_type": "stream",
     "text": [
      "ethanol_all_drinks_gallons_per_capita\n",
      "ethanol_beer_gallons_per_capita\n",
      "ethanol_spirit_gallons_per_capita\n",
      "ethanol_wine_gallons_per_capita\n",
      "number_of_beers\n",
      "number_of_drinks_total\n",
      "number_of_glasses_wine\n",
      "number_of_shots_liquor\n",
      "state\n",
      "year\n"
     ]
    }
   ],
   "source": [
    "for cols in sorted(pc_df):\n",
    "    print(cols)"
   ]
  },
  {
   "cell_type": "code",
   "execution_count": 100,
   "metadata": {},
   "outputs": [
    {
     "data": {
      "image/png": "[encoded data removed]",
      "text/plain": [
       "<Figure size 432x288 with 1 Axes>"
      ]
     },
     "metadata": {
      "needs_background": "light"
     },
     "output_type": "display_data"
    }
   ],
   "source": [
    "bg.diff().hist(color='goldenrod', bins=10, alpha=0.5);\n",
    "wg.diff().hist(color='purple', bins=10, alpha=0.5);\n",
    "sg.diff().hist(color='mediumslateblue', bins=10, alpha=0.5);\n",
    "dg.diff().hist(color='cornflowerblue', bins=10, alpha=0.5);\n",
    "num_b.diff().hist(color='orange', bins=10, alpha=0.5);\n",
    "num_w.diff().hist(color='hotpink', bins=10, alpha=0.5);\n",
    "sl.diff().hist(color='crimson', bins=10, alpha=0.5);\n",
    "num_dt.diff().hist(color='darkturquoise', bins=10, alpha=0.5);"
   ]
  },
  {
   "cell_type": "code",
   "execution_count": 101,
   "metadata": {},
   "outputs": [
    {
     "data": {
      "image/png": "[encoded data removed]",
      "text/plain": [
       "<Figure size 432x288 with 1 Axes>"
      ]
     },
     "metadata": {
      "needs_background": "light"
     },
     "output_type": "display_data"
    }
   ],
   "source": [
    "bg = pc_df['ethanol_beer_gallons_per_capita']\n",
    "bg.diff().hist(color='goldenrod', bins=15);"
   ]
  },
  {
   "cell_type": "code",
   "execution_count": 102,
   "metadata": {},
   "outputs": [
    {
     "data": {
      "image/png": "[encoded data removed]",
      "text/plain": [
       "<Figure size 432x288 with 1 Axes>"
      ]
     },
     "metadata": {
      "needs_background": "light"
     },
     "output_type": "display_data"
    }
   ],
   "source": [
    "wg = pc_df['ethanol_wine_gallons_per_capita']\n",
    "wg.diff().hist(color='purple', bins=15);"
   ]
  },
  {
   "cell_type": "code",
   "execution_count": 103,
   "metadata": {},
   "outputs": [
    {
     "data": {
      "image/png": "[encoded data removed]",
      "text/plain": [
       "<Figure size 432x288 with 1 Axes>"
      ]
     },
     "metadata": {
      "needs_background": "light"
     },
     "output_type": "display_data"
    }
   ],
   "source": [
    "sg = pc_df['ethanol_spirit_gallons_per_capita']\n",
    "sg.diff().hist(color='mediumslateblue', bins=15);"
   ]
  },
  {
   "cell_type": "code",
   "execution_count": 104,
   "metadata": {},
   "outputs": [
    {
     "data": {
      "image/png": "[encoded data removed]",
      "text/plain": [
       "<Figure size 432x288 with 1 Axes>"
      ]
     },
     "metadata": {
      "needs_background": "light"
     },
     "output_type": "display_data"
    }
   ],
   "source": [
    "dg = pc_df['ethanol_all_drinks_gallons_per_capita']\n",
    "dg.diff().hist(color='cornflowerblue', bins=15);"
   ]
  },
  {
   "cell_type": "code",
   "execution_count": 105,
   "metadata": {},
   "outputs": [
    {
     "data": {
      "image/png": "[encoded data removed]",
      "text/plain": [
       "<Figure size 432x288 with 1 Axes>"
      ]
     },
     "metadata": {
      "needs_background": "light"
     },
     "output_type": "display_data"
    }
   ],
   "source": [
    "num_b = pc_df['number_of_beers']\n",
    "num_b.diff().hist(color='orange', bins=15);"
   ]
  },
  {
   "cell_type": "code",
   "execution_count": 106,
   "metadata": {},
   "outputs": [
    {
     "data": {
      "image/png": "[encoded data removed]",
      "text/plain": [
       "<Figure size 432x288 with 1 Axes>"
      ]
     },
     "metadata": {
      "needs_background": "light"
     },
     "output_type": "display_data"
    }
   ],
   "source": [
    "num_w = pc_df['number_of_glasses_wine']\n",
    "num_w.diff().hist(color='hotpink', bins=15);"
   ]
  },
  {
   "cell_type": "code",
   "execution_count": 107,
   "metadata": {},
   "outputs": [
    {
     "data": {
      "image/png": "[encoded data removed]",
      "text/plain": [
       "<Figure size 432x288 with 1 Axes>"
      ]
     },
     "metadata": {
      "needs_background": "light"
     },
     "output_type": "display_data"
    }
   ],
   "source": [
    "sl = pc_df['number_of_shots_liquor']\n",
    "sl.diff().hist(color='crimson', bins=15);"
   ]
  },
  {
   "cell_type": "code",
   "execution_count": 108,
   "metadata": {},
   "outputs": [
    {
     "data": {
      "image/png": "[encoded data removed]",
      "text/plain": [
       "<Figure size 432x288 with 1 Axes>"
      ]
     },
     "metadata": {
      "needs_background": "light"
     },
     "output_type": "display_data"
    }
   ],
   "source": [
    "num_dt = pc_df['number_of_drinks_total']\n",
    "num_dt.diff().hist(color='darkturquoise', bins=15);"
   ]
  },
  {
   "cell_type": "code",
   "execution_count": 124,
   "metadata": {},
   "outputs": [
    {
     "data": {
      "image/png": "[encoded data removed]",
      "text/plain": [
       "<Figure size 432x288 with 1 Axes>"
      ]
     },
     "metadata": {
      "needs_background": "light"
     },
     "output_type": "display_data"
    }
   ],
   "source": [
    "pc_df['ethanol_beer_gallons_per_capita'].hist(color='goldenrod', bins=5, alpha=0.5);\n",
    "pc_df['ethanol_wine_gallons_per_capita'].hist(color='purple', bins=5, alpha=0.5);\n",
    "pc_df['ethanol_spirit_gallons_per_capita'].hist(color='mediumslateblue', bins=5, alpha=0.5);\n",
    "pc_df['ethanol_all_drinks_gallons_per_capita'].hist(color='cornflowerblue', bins=5, alpha=0.5);\n",
    "pc_df['number_of_beers'].hist(color='orange', bins=5, alpha=0.5);\n",
    "pc_df['number_of_glasses_wine'].hist(color='hotpink', bins=5, alpha=0.5);\n",
    "pc_df['number_of_shots_liquor'].hist(color='crimson', bins=5, alpha=0.5);\n",
    "pc_df['number_of_drinks_total'].hist(color='darkturquoise', bins=5, alpha=0.5);"
   ]
  },
  {
   "cell_type": "code",
   "execution_count": null,
   "metadata": {},
   "outputs": [],
   "source": []
  },
  {
   "cell_type": "code",
   "execution_count": null,
   "metadata": {},
   "outputs": [],
   "source": []
  },
  {
   "cell_type": "code",
   "execution_count": null,
   "metadata": {},
   "outputs": [],
   "source": []
  },
  {
   "cell_type": "code",
   "execution_count": null,
   "metadata": {},
   "outputs": [],
   "source": []
  },
  {
   "cell_type": "code",
   "execution_count": 110,
   "metadata": {},
   "outputs": [],
   "source": [
    "# bg.diff().hist(color='goldenrod', bins=10, alpha=0.5);\n",
    "# wg.diff().hist(color='purple', bins=10, alpha=0.5);\n",
    "# sg.diff().hist(color='mediumslateblue', bins=10, alpha=0.5);\n",
    "# dg.diff().hist(color='cornflowerblue', bins=10, alpha=0.5);\n",
    "# num_b.diff().hist(color='orange', bins=10, alpha=0.5);\n",
    "# num_w.diff().hist(color='hotpink', bins=10, alpha=0.5);\n",
    "# sl.diff().hist(color='crimson', bins=10, alpha=0.5);\n",
    "# num_dt.diff().hist(color='darkturquoise', bins=10, alpha=0.5);"
   ]
  },
  {
   "cell_type": "code",
   "execution_count": null,
   "metadata": {},
   "outputs": [],
   "source": []
  },
  {
   "cell_type": "code",
   "execution_count": null,
   "metadata": {},
   "outputs": [],
   "source": []
  }
 ],
 "metadata": {
  "kernelspec": {
   "display_name": "Python 3",
   "language": "python",
   "name": "python3"
  },
  "language_info": {
   "codemirror_mode": {
    "name": "ipython",
    "version": 3
   },
   "file_extension": ".py",
   "mimetype": "text/x-python",
   "name": "python",
   "nbconvert_exporter": "python",
   "pygments_lexer": "ipython3",
   "version": "3.8.3"
  }
 },
 "nbformat": 4,
 "nbformat_minor": 4
}
