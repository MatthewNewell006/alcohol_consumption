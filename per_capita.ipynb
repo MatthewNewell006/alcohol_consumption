{
 "cells": [
  {
   "cell_type": "code",
   "execution_count": 23,
   "metadata": {},
   "outputs": [],
   "source": [
    "import pandas as pd\n",
    "import numpy as np\n",
    "import matplotlib.pyplot as plt\n",
    "import matplotlib.colors as mcolors\n",
    "from cycler import cycler\n",
    "import matplotlib.pyplot as plt"
   ]
  },
  {
   "cell_type": "code",
   "execution_count": 24,
   "metadata": {},
   "outputs": [],
   "source": [
    "pc_db = pd.read_csv('data/apparent_per_capita_alcohol_consumption_1977_2018.csv', delimiter=None)"
   ]
  },
  {
   "cell_type": "code",
   "execution_count": 25,
   "metadata": {},
   "outputs": [
    {
     "output_type": "execute_result",
     "data": {
      "text/plain": "     state  year  ethanol_beer_gallons_per_capita  \\\n0  alabama  2018                             1.04   \n1  alabama  2017                             1.07   \n2  alabama  2016                             1.09   \n3  alabama  2015                             1.11   \n4  alabama  2014                             1.13   \n5  alabama  2013                             1.14   \n6  alabama  2012                             1.16   \n7  alabama  2011                             1.16   \n8  alabama  2010                             1.17   \n9  alabama  2009                             1.19   \n\n   ethanol_wine_gallons_per_capita  ethanol_spirit_gallons_per_capita  \\\n0                             0.26                               0.69   \n1                             0.26                               0.67   \n2                             0.26                               0.65   \n3                             0.26                               0.64   \n4                             0.25                               0.62   \n5                             0.25                               0.60   \n6                             0.24                               0.60   \n7                             0.24                               0.59   \n8                             0.23                               0.58   \n9                             0.22                               0.57   \n\n   ethanol_all_drinks_gallons_per_capita  number_of_beers  \\\n0                                   1.99       246.518519   \n1                                   1.99       253.629630   \n2                                   2.01       258.370370   \n3                                   2.01       263.111111   \n4                                   2.00       267.851852   \n5                                   1.99       270.222222   \n6                                   2.00       274.962963   \n7                                   1.98       274.962963   \n8                                   1.98       277.333333   \n9                                   1.98       282.074074   \n\n   number_of_glasses_wine  number_of_shots_liquor  number_of_drinks_total  \n0               51.596899              143.260341              424.533333  \n1               51.596899              139.107867              424.533333  \n2               51.596899              134.955393              428.800000  \n3               51.596899              132.879157              428.800000  \n4               49.612403              128.726683              426.666667  \n5               49.612403              124.574209              424.533333  \n6               47.627907              124.574209              426.666667  \n7               47.627907              122.497972              422.400000  \n8               45.643411              120.421736              422.400000  \n9               43.658915              118.345499              422.400000  ",
      "text/html": "<div>\n<style scoped>\n    .dataframe tbody tr th:only-of-type {\n        vertical-align: middle;\n    }\n\n    .dataframe tbody tr th {\n        vertical-align: top;\n    }\n\n    .dataframe thead th {\n        text-align: right;\n    }\n</style>\n<table border=\"1\" class=\"dataframe\">\n  <thead>\n    <tr style=\"text-align: right;\">\n      <th></th>\n      <th>state</th>\n      <th>year</th>\n      <th>ethanol_beer_gallons_per_capita</th>\n      <th>ethanol_wine_gallons_per_capita</th>\n      <th>ethanol_spirit_gallons_per_capita</th>\n      <th>ethanol_all_drinks_gallons_per_capita</th>\n      <th>number_of_beers</th>\n      <th>number_of_glasses_wine</th>\n      <th>number_of_shots_liquor</th>\n      <th>number_of_drinks_total</th>\n    </tr>\n  </thead>\n  <tbody>\n    <tr>\n      <th>0</th>\n      <td>alabama</td>\n      <td>2018</td>\n      <td>1.04</td>\n      <td>0.26</td>\n      <td>0.69</td>\n      <td>1.99</td>\n      <td>246.518519</td>\n      <td>51.596899</td>\n      <td>143.260341</td>\n      <td>424.533333</td>\n    </tr>\n    <tr>\n      <th>1</th>\n      <td>alabama</td>\n      <td>2017</td>\n      <td>1.07</td>\n      <td>0.26</td>\n      <td>0.67</td>\n      <td>1.99</td>\n      <td>253.629630</td>\n      <td>51.596899</td>\n      <td>139.107867</td>\n      <td>424.533333</td>\n    </tr>\n    <tr>\n      <th>2</th>\n      <td>alabama</td>\n      <td>2016</td>\n      <td>1.09</td>\n      <td>0.26</td>\n      <td>0.65</td>\n      <td>2.01</td>\n      <td>258.370370</td>\n      <td>51.596899</td>\n      <td>134.955393</td>\n      <td>428.800000</td>\n    </tr>\n    <tr>\n      <th>3</th>\n      <td>alabama</td>\n      <td>2015</td>\n      <td>1.11</td>\n      <td>0.26</td>\n      <td>0.64</td>\n      <td>2.01</td>\n      <td>263.111111</td>\n      <td>51.596899</td>\n      <td>132.879157</td>\n      <td>428.800000</td>\n    </tr>\n    <tr>\n      <th>4</th>\n      <td>alabama</td>\n      <td>2014</td>\n      <td>1.13</td>\n      <td>0.25</td>\n      <td>0.62</td>\n      <td>2.00</td>\n      <td>267.851852</td>\n      <td>49.612403</td>\n      <td>128.726683</td>\n      <td>426.666667</td>\n    </tr>\n    <tr>\n      <th>5</th>\n      <td>alabama</td>\n      <td>2013</td>\n      <td>1.14</td>\n      <td>0.25</td>\n      <td>0.60</td>\n      <td>1.99</td>\n      <td>270.222222</td>\n      <td>49.612403</td>\n      <td>124.574209</td>\n      <td>424.533333</td>\n    </tr>\n    <tr>\n      <th>6</th>\n      <td>alabama</td>\n      <td>2012</td>\n      <td>1.16</td>\n      <td>0.24</td>\n      <td>0.60</td>\n      <td>2.00</td>\n      <td>274.962963</td>\n      <td>47.627907</td>\n      <td>124.574209</td>\n      <td>426.666667</td>\n    </tr>\n    <tr>\n      <th>7</th>\n      <td>alabama</td>\n      <td>2011</td>\n      <td>1.16</td>\n      <td>0.24</td>\n      <td>0.59</td>\n      <td>1.98</td>\n      <td>274.962963</td>\n      <td>47.627907</td>\n      <td>122.497972</td>\n      <td>422.400000</td>\n    </tr>\n    <tr>\n      <th>8</th>\n      <td>alabama</td>\n      <td>2010</td>\n      <td>1.17</td>\n      <td>0.23</td>\n      <td>0.58</td>\n      <td>1.98</td>\n      <td>277.333333</td>\n      <td>45.643411</td>\n      <td>120.421736</td>\n      <td>422.400000</td>\n    </tr>\n    <tr>\n      <th>9</th>\n      <td>alabama</td>\n      <td>2009</td>\n      <td>1.19</td>\n      <td>0.22</td>\n      <td>0.57</td>\n      <td>1.98</td>\n      <td>282.074074</td>\n      <td>43.658915</td>\n      <td>118.345499</td>\n      <td>422.400000</td>\n    </tr>\n  </tbody>\n</table>\n</div>"
     },
     "metadata": {},
     "execution_count": 25
    }
   ],
   "source": [
    "pc_db.head(10)"
   ]
  },
  {
   "cell_type": "code",
   "execution_count": 26,
   "metadata": {
    "tags": []
   },
   "outputs": [
    {
     "output_type": "stream",
     "name": "stdout",
     "text": "<class 'pandas.core.frame.DataFrame'>\nRangeIndex: 2352 entries, 0 to 2351\nData columns (total 10 columns):\n #   Column                                 Non-Null Count  Dtype  \n---  ------                                 --------------  -----  \n 0   state                                  2352 non-null   object \n 1   year                                   2352 non-null   int64  \n 2   ethanol_beer_gallons_per_capita        2352 non-null   float64\n 3   ethanol_wine_gallons_per_capita        2352 non-null   float64\n 4   ethanol_spirit_gallons_per_capita      2352 non-null   float64\n 5   ethanol_all_drinks_gallons_per_capita  2352 non-null   float64\n 6   number_of_beers                        2352 non-null   float64\n 7   number_of_glasses_wine                 2352 non-null   float64\n 8   number_of_shots_liquor                 2352 non-null   float64\n 9   number_of_drinks_total                 2352 non-null   float64\ndtypes: float64(8), int64(1), object(1)\nmemory usage: 183.9+ KB\n"
    }
   ],
   "source": [
    "pc_db.info()"
   ]
  },
  {
   "cell_type": "code",
   "execution_count": 27,
   "metadata": {},
   "outputs": [
    {
     "output_type": "execute_result",
     "data": {
      "text/plain": "              year  ethanol_beer_gallons_per_capita  \\\ncount  2352.000000                      2352.000000   \nmean   1997.500000                         1.279269   \nstd      12.123496                         0.228744   \nmin    1977.000000                         0.580000   \n25%    1987.000000                         1.120000   \n50%    1997.500000                         1.270000   \n75%    2008.000000                         1.400000   \nmax    2018.000000                         2.170000   \n\n       ethanol_wine_gallons_per_capita  ethanol_spirit_gallons_per_capita  \\\ncount                      2352.000000                        2352.000000   \nmean                          0.346144                           0.850391   \nstd                           0.182142                           0.347001   \nmin                           0.080000                           0.360000   \n25%                           0.210000                           0.650000   \n50%                           0.310000                           0.770000   \n75%                           0.450000                           0.960000   \nmax                           1.210000                           3.560000   \n\n       ethanol_all_drinks_gallons_per_capita  number_of_beers  \\\ncount                            2352.000000      2352.000000   \nmean                                2.476063       303.234064   \nstd                                 0.609605        54.220899   \nmin                                 1.190000       137.481481   \n25%                                 2.130000       265.481481   \n50%                                 2.360000       301.037037   \n75%                                 2.700000       331.851852   \nmax                                 6.320000       514.370370   \n\n       number_of_glasses_wine  number_of_shots_liquor  number_of_drinks_total  \ncount             2352.000000             2352.000000             2352.000000  \nmean                68.692085              176.561343              528.226757  \nstd                 36.145971               72.045606              130.049158  \nmin                 15.875969               74.744526              253.866667  \n25%                 41.674419              134.955393              454.400000  \n50%                 61.519380              159.870235              503.466667  \n75%                 89.302326              199.318735              576.000000  \nmax                240.124031              739.140308             1348.266667  ",
      "text/html": "<div>\n<style scoped>\n    .dataframe tbody tr th:only-of-type {\n        vertical-align: middle;\n    }\n\n    .dataframe tbody tr th {\n        vertical-align: top;\n    }\n\n    .dataframe thead th {\n        text-align: right;\n    }\n</style>\n<table border=\"1\" class=\"dataframe\">\n  <thead>\n    <tr style=\"text-align: right;\">\n      <th></th>\n      <th>year</th>\n      <th>ethanol_beer_gallons_per_capita</th>\n      <th>ethanol_wine_gallons_per_capita</th>\n      <th>ethanol_spirit_gallons_per_capita</th>\n      <th>ethanol_all_drinks_gallons_per_capita</th>\n      <th>number_of_beers</th>\n      <th>number_of_glasses_wine</th>\n      <th>number_of_shots_liquor</th>\n      <th>number_of_drinks_total</th>\n    </tr>\n  </thead>\n  <tbody>\n    <tr>\n      <th>count</th>\n      <td>2352.000000</td>\n      <td>2352.000000</td>\n      <td>2352.000000</td>\n      <td>2352.000000</td>\n      <td>2352.000000</td>\n      <td>2352.000000</td>\n      <td>2352.000000</td>\n      <td>2352.000000</td>\n      <td>2352.000000</td>\n    </tr>\n    <tr>\n      <th>mean</th>\n      <td>1997.500000</td>\n      <td>1.279269</td>\n      <td>0.346144</td>\n      <td>0.850391</td>\n      <td>2.476063</td>\n      <td>303.234064</td>\n      <td>68.692085</td>\n      <td>176.561343</td>\n      <td>528.226757</td>\n    </tr>\n    <tr>\n      <th>std</th>\n      <td>12.123496</td>\n      <td>0.228744</td>\n      <td>0.182142</td>\n      <td>0.347001</td>\n      <td>0.609605</td>\n      <td>54.220899</td>\n      <td>36.145971</td>\n      <td>72.045606</td>\n      <td>130.049158</td>\n    </tr>\n    <tr>\n      <th>min</th>\n      <td>1977.000000</td>\n      <td>0.580000</td>\n      <td>0.080000</td>\n      <td>0.360000</td>\n      <td>1.190000</td>\n      <td>137.481481</td>\n      <td>15.875969</td>\n      <td>74.744526</td>\n      <td>253.866667</td>\n    </tr>\n    <tr>\n      <th>25%</th>\n      <td>1987.000000</td>\n      <td>1.120000</td>\n      <td>0.210000</td>\n      <td>0.650000</td>\n      <td>2.130000</td>\n      <td>265.481481</td>\n      <td>41.674419</td>\n      <td>134.955393</td>\n      <td>454.400000</td>\n    </tr>\n    <tr>\n      <th>50%</th>\n      <td>1997.500000</td>\n      <td>1.270000</td>\n      <td>0.310000</td>\n      <td>0.770000</td>\n      <td>2.360000</td>\n      <td>301.037037</td>\n      <td>61.519380</td>\n      <td>159.870235</td>\n      <td>503.466667</td>\n    </tr>\n    <tr>\n      <th>75%</th>\n      <td>2008.000000</td>\n      <td>1.400000</td>\n      <td>0.450000</td>\n      <td>0.960000</td>\n      <td>2.700000</td>\n      <td>331.851852</td>\n      <td>89.302326</td>\n      <td>199.318735</td>\n      <td>576.000000</td>\n    </tr>\n    <tr>\n      <th>max</th>\n      <td>2018.000000</td>\n      <td>2.170000</td>\n      <td>1.210000</td>\n      <td>3.560000</td>\n      <td>6.320000</td>\n      <td>514.370370</td>\n      <td>240.124031</td>\n      <td>739.140308</td>\n      <td>1348.266667</td>\n    </tr>\n  </tbody>\n</table>\n</div>"
     },
     "metadata": {},
     "execution_count": 27
    }
   ],
   "source": [
    "pc_db.describe()"
   ]
  },
  {
   "cell_type": "code",
   "execution_count": 28,
   "metadata": {
    "tags": []
   },
   "outputs": [
    {
     "output_type": "stream",
     "name": "stdout",
     "text": "ethanol_all_drinks_gallons_per_capita\nethanol_beer_gallons_per_capita\nethanol_spirit_gallons_per_capita\nethanol_wine_gallons_per_capita\nnumber_of_beers\nnumber_of_drinks_total\nnumber_of_glasses_wine\nnumber_of_shots_liquor\nstate\nyear\n"
    }
   ],
   "source": [
    "for cols in sorted(pc_db):\n",
    "    print(cols)"
   ]
  },
  {
   "cell_type": "code",
   "execution_count": 29,
   "metadata": {
    "tags": []
   },
   "outputs": [
    {
     "output_type": "execute_result",
     "data": {
      "text/plain": "Index(['state', 'year', 'ethanol_beer_gallons_per_capita',\n       'ethanol_wine_gallons_per_capita', 'ethanol_spirit_gallons_per_capita',\n       'ethanol_all_drinks_gallons_per_capita', 'number_of_beers',\n       'number_of_glasses_wine', 'number_of_shots_liquor',\n       'number_of_drinks_total'],\n      dtype='object')"
     },
     "metadata": {},
     "execution_count": 29
    }
   ],
   "source": [
    "pc_db.columns"
   ]
  },
  {
   "cell_type": "code",
   "execution_count": 30,
   "metadata": {},
   "outputs": [],
   "source": [
    "df = pc_db[pc_db.loc[:, 'year']== 2015]"
   ]
  },
  {
   "cell_type": "code",
   "execution_count": 31,
   "metadata": {
    "tags": []
   },
   "outputs": [
    {
     "output_type": "stream",
     "name": "stdout",
     "text": "<class 'pandas.core.frame.DataFrame'>\nInt64Index: 56 entries, 3 to 2313\nData columns (total 10 columns):\n #   Column                                 Non-Null Count  Dtype  \n---  ------                                 --------------  -----  \n 0   state                                  56 non-null     object \n 1   year                                   56 non-null     int64  \n 2   ethanol_beer_gallons_per_capita        56 non-null     float64\n 3   ethanol_wine_gallons_per_capita        56 non-null     float64\n 4   ethanol_spirit_gallons_per_capita      56 non-null     float64\n 5   ethanol_all_drinks_gallons_per_capita  56 non-null     float64\n 6   number_of_beers                        56 non-null     float64\n 7   number_of_glasses_wine                 56 non-null     float64\n 8   number_of_shots_liquor                 56 non-null     float64\n 9   number_of_drinks_total                 56 non-null     float64\ndtypes: float64(8), int64(1), object(1)\nmemory usage: 4.8+ KB\n"
    }
   ],
   "source": [
    "df.info()"
   ]
  },
  {
   "cell_type": "code",
   "execution_count": 32,
   "metadata": {},
   "outputs": [],
   "source": [
    "sdf = df.sort_values('number_of_drinks_total', ascending = False)"
   ]
  },
  {
   "cell_type": "code",
   "execution_count": 33,
   "metadata": {},
   "outputs": [
    {
     "output_type": "execute_result",
     "data": {
      "text/plain": "                     state  year  ethanol_beer_gallons_per_capita  \\\n1221         new hampshire  2015                             1.87   \n339   district of columbia  2015                             1.14   \n297               delaware  2015                             1.19   \n1179                nevada  2015                             1.39   \n1431          north dakota  2015                             1.58   \n1095               montana  2015                             1.63   \n1893               vermont  2015                             1.57   \n2061             wisconsin  2015                             1.39   \n507                  idaho  2015                             0.94   \n45                  alaska  2015                             1.11   \n\n      ethanol_wine_gallons_per_capita  ethanol_spirit_gallons_per_capita  \\\n1221                             0.88                               1.95   \n339                              1.02                               1.67   \n297                              0.72                               1.75   \n1179                             0.66                               1.30   \n1431                             0.35                               1.33   \n1095                             0.50                               0.96   \n1893                             0.78                               0.73   \n2061                             0.39                               1.20   \n507                              1.14                               0.79   \n45                               0.53                               1.20   \n\n      ethanol_all_drinks_gallons_per_capita  number_of_beers  \\\n1221                                   4.70       443.259259   \n339                                    3.82       270.222222   \n297                                    3.66       282.074074   \n1179                                   3.35       329.481481   \n1431                                   3.26       374.518519   \n1095                                   3.09       386.370370   \n1893                                   3.08       372.148148   \n2061                                   2.98       329.481481   \n507                                    2.87       222.814815   \n45                                     2.84       263.111111   \n\n      number_of_glasses_wine  number_of_shots_liquor  number_of_drinks_total  \n1221              174.635659              404.866180             1002.666667  \n339               202.418605              346.731549              814.933333  \n297               142.883721              363.341444              780.800000  \n1179              130.976744              269.910787              714.666667  \n1431               69.457364              276.139497              695.466667  \n1095               99.224806              199.318735              659.200000  \n1893              154.790698              151.565288              657.066667  \n2061               77.395349              249.148418              635.733333  \n507               226.232558              164.022709              612.266667  \n45                105.178295              249.148418              605.866667  ",
      "text/html": "<div>\n<style scoped>\n    .dataframe tbody tr th:only-of-type {\n        vertical-align: middle;\n    }\n\n    .dataframe tbody tr th {\n        vertical-align: top;\n    }\n\n    .dataframe thead th {\n        text-align: right;\n    }\n</style>\n<table border=\"1\" class=\"dataframe\">\n  <thead>\n    <tr style=\"text-align: right;\">\n      <th></th>\n      <th>state</th>\n      <th>year</th>\n      <th>ethanol_beer_gallons_per_capita</th>\n      <th>ethanol_wine_gallons_per_capita</th>\n      <th>ethanol_spirit_gallons_per_capita</th>\n      <th>ethanol_all_drinks_gallons_per_capita</th>\n      <th>number_of_beers</th>\n      <th>number_of_glasses_wine</th>\n      <th>number_of_shots_liquor</th>\n      <th>number_of_drinks_total</th>\n    </tr>\n  </thead>\n  <tbody>\n    <tr>\n      <th>1221</th>\n      <td>new hampshire</td>\n      <td>2015</td>\n      <td>1.87</td>\n      <td>0.88</td>\n      <td>1.95</td>\n      <td>4.70</td>\n      <td>443.259259</td>\n      <td>174.635659</td>\n      <td>404.866180</td>\n      <td>1002.666667</td>\n    </tr>\n    <tr>\n      <th>339</th>\n      <td>district of columbia</td>\n      <td>2015</td>\n      <td>1.14</td>\n      <td>1.02</td>\n      <td>1.67</td>\n      <td>3.82</td>\n      <td>270.222222</td>\n      <td>202.418605</td>\n      <td>346.731549</td>\n      <td>814.933333</td>\n    </tr>\n    <tr>\n      <th>297</th>\n      <td>delaware</td>\n      <td>2015</td>\n      <td>1.19</td>\n      <td>0.72</td>\n      <td>1.75</td>\n      <td>3.66</td>\n      <td>282.074074</td>\n      <td>142.883721</td>\n      <td>363.341444</td>\n      <td>780.800000</td>\n    </tr>\n    <tr>\n      <th>1179</th>\n      <td>nevada</td>\n      <td>2015</td>\n      <td>1.39</td>\n      <td>0.66</td>\n      <td>1.30</td>\n      <td>3.35</td>\n      <td>329.481481</td>\n      <td>130.976744</td>\n      <td>269.910787</td>\n      <td>714.666667</td>\n    </tr>\n    <tr>\n      <th>1431</th>\n      <td>north dakota</td>\n      <td>2015</td>\n      <td>1.58</td>\n      <td>0.35</td>\n      <td>1.33</td>\n      <td>3.26</td>\n      <td>374.518519</td>\n      <td>69.457364</td>\n      <td>276.139497</td>\n      <td>695.466667</td>\n    </tr>\n    <tr>\n      <th>1095</th>\n      <td>montana</td>\n      <td>2015</td>\n      <td>1.63</td>\n      <td>0.50</td>\n      <td>0.96</td>\n      <td>3.09</td>\n      <td>386.370370</td>\n      <td>99.224806</td>\n      <td>199.318735</td>\n      <td>659.200000</td>\n    </tr>\n    <tr>\n      <th>1893</th>\n      <td>vermont</td>\n      <td>2015</td>\n      <td>1.57</td>\n      <td>0.78</td>\n      <td>0.73</td>\n      <td>3.08</td>\n      <td>372.148148</td>\n      <td>154.790698</td>\n      <td>151.565288</td>\n      <td>657.066667</td>\n    </tr>\n    <tr>\n      <th>2061</th>\n      <td>wisconsin</td>\n      <td>2015</td>\n      <td>1.39</td>\n      <td>0.39</td>\n      <td>1.20</td>\n      <td>2.98</td>\n      <td>329.481481</td>\n      <td>77.395349</td>\n      <td>249.148418</td>\n      <td>635.733333</td>\n    </tr>\n    <tr>\n      <th>507</th>\n      <td>idaho</td>\n      <td>2015</td>\n      <td>0.94</td>\n      <td>1.14</td>\n      <td>0.79</td>\n      <td>2.87</td>\n      <td>222.814815</td>\n      <td>226.232558</td>\n      <td>164.022709</td>\n      <td>612.266667</td>\n    </tr>\n    <tr>\n      <th>45</th>\n      <td>alaska</td>\n      <td>2015</td>\n      <td>1.11</td>\n      <td>0.53</td>\n      <td>1.20</td>\n      <td>2.84</td>\n      <td>263.111111</td>\n      <td>105.178295</td>\n      <td>249.148418</td>\n      <td>605.866667</td>\n    </tr>\n  </tbody>\n</table>\n</div>"
     },
     "metadata": {},
     "execution_count": 33
    }
   ],
   "source": [
    "sdf.head(10)"
   ]
  },
  {
   "cell_type": "code",
   "execution_count": 34,
   "metadata": {},
   "outputs": [],
   "source": [
    "sdf2 = df.sort_values(['number_of_drinks_total', 'ethanol_all_drinks_gallons_per_capita'], ascending = [0,0])"
   ]
  },
  {
   "cell_type": "code",
   "execution_count": 35,
   "metadata": {},
   "outputs": [
    {
     "output_type": "execute_result",
     "data": {
      "text/plain": "                     state  year  ethanol_beer_gallons_per_capita  \\\n1221         new hampshire  2015                             1.87   \n339   district of columbia  2015                             1.14   \n297               delaware  2015                             1.19   \n1179                nevada  2015                             1.39   \n1431          north dakota  2015                             1.58   \n1095               montana  2015                             1.63   \n1893               vermont  2015                             1.57   \n2061             wisconsin  2015                             1.39   \n507                  idaho  2015                             0.94   \n45                  alaska  2015                             1.11   \n\n      ethanol_wine_gallons_per_capita  ethanol_spirit_gallons_per_capita  \\\n1221                             0.88                               1.95   \n339                              1.02                               1.67   \n297                              0.72                               1.75   \n1179                             0.66                               1.30   \n1431                             0.35                               1.33   \n1095                             0.50                               0.96   \n1893                             0.78                               0.73   \n2061                             0.39                               1.20   \n507                              1.14                               0.79   \n45                               0.53                               1.20   \n\n      ethanol_all_drinks_gallons_per_capita  number_of_beers  \\\n1221                                   4.70       443.259259   \n339                                    3.82       270.222222   \n297                                    3.66       282.074074   \n1179                                   3.35       329.481481   \n1431                                   3.26       374.518519   \n1095                                   3.09       386.370370   \n1893                                   3.08       372.148148   \n2061                                   2.98       329.481481   \n507                                    2.87       222.814815   \n45                                     2.84       263.111111   \n\n      number_of_glasses_wine  number_of_shots_liquor  number_of_drinks_total  \n1221              174.635659              404.866180             1002.666667  \n339               202.418605              346.731549              814.933333  \n297               142.883721              363.341444              780.800000  \n1179              130.976744              269.910787              714.666667  \n1431               69.457364              276.139497              695.466667  \n1095               99.224806              199.318735              659.200000  \n1893              154.790698              151.565288              657.066667  \n2061               77.395349              249.148418              635.733333  \n507               226.232558              164.022709              612.266667  \n45                105.178295              249.148418              605.866667  ",
      "text/html": "<div>\n<style scoped>\n    .dataframe tbody tr th:only-of-type {\n        vertical-align: middle;\n    }\n\n    .dataframe tbody tr th {\n        vertical-align: top;\n    }\n\n    .dataframe thead th {\n        text-align: right;\n    }\n</style>\n<table border=\"1\" class=\"dataframe\">\n  <thead>\n    <tr style=\"text-align: right;\">\n      <th></th>\n      <th>state</th>\n      <th>year</th>\n      <th>ethanol_beer_gallons_per_capita</th>\n      <th>ethanol_wine_gallons_per_capita</th>\n      <th>ethanol_spirit_gallons_per_capita</th>\n      <th>ethanol_all_drinks_gallons_per_capita</th>\n      <th>number_of_beers</th>\n      <th>number_of_glasses_wine</th>\n      <th>number_of_shots_liquor</th>\n      <th>number_of_drinks_total</th>\n    </tr>\n  </thead>\n  <tbody>\n    <tr>\n      <th>1221</th>\n      <td>new hampshire</td>\n      <td>2015</td>\n      <td>1.87</td>\n      <td>0.88</td>\n      <td>1.95</td>\n      <td>4.70</td>\n      <td>443.259259</td>\n      <td>174.635659</td>\n      <td>404.866180</td>\n      <td>1002.666667</td>\n    </tr>\n    <tr>\n      <th>339</th>\n      <td>district of columbia</td>\n      <td>2015</td>\n      <td>1.14</td>\n      <td>1.02</td>\n      <td>1.67</td>\n      <td>3.82</td>\n      <td>270.222222</td>\n      <td>202.418605</td>\n      <td>346.731549</td>\n      <td>814.933333</td>\n    </tr>\n    <tr>\n      <th>297</th>\n      <td>delaware</td>\n      <td>2015</td>\n      <td>1.19</td>\n      <td>0.72</td>\n      <td>1.75</td>\n      <td>3.66</td>\n      <td>282.074074</td>\n      <td>142.883721</td>\n      <td>363.341444</td>\n      <td>780.800000</td>\n    </tr>\n    <tr>\n      <th>1179</th>\n      <td>nevada</td>\n      <td>2015</td>\n      <td>1.39</td>\n      <td>0.66</td>\n      <td>1.30</td>\n      <td>3.35</td>\n      <td>329.481481</td>\n      <td>130.976744</td>\n      <td>269.910787</td>\n      <td>714.666667</td>\n    </tr>\n    <tr>\n      <th>1431</th>\n      <td>north dakota</td>\n      <td>2015</td>\n      <td>1.58</td>\n      <td>0.35</td>\n      <td>1.33</td>\n      <td>3.26</td>\n      <td>374.518519</td>\n      <td>69.457364</td>\n      <td>276.139497</td>\n      <td>695.466667</td>\n    </tr>\n    <tr>\n      <th>1095</th>\n      <td>montana</td>\n      <td>2015</td>\n      <td>1.63</td>\n      <td>0.50</td>\n      <td>0.96</td>\n      <td>3.09</td>\n      <td>386.370370</td>\n      <td>99.224806</td>\n      <td>199.318735</td>\n      <td>659.200000</td>\n    </tr>\n    <tr>\n      <th>1893</th>\n      <td>vermont</td>\n      <td>2015</td>\n      <td>1.57</td>\n      <td>0.78</td>\n      <td>0.73</td>\n      <td>3.08</td>\n      <td>372.148148</td>\n      <td>154.790698</td>\n      <td>151.565288</td>\n      <td>657.066667</td>\n    </tr>\n    <tr>\n      <th>2061</th>\n      <td>wisconsin</td>\n      <td>2015</td>\n      <td>1.39</td>\n      <td>0.39</td>\n      <td>1.20</td>\n      <td>2.98</td>\n      <td>329.481481</td>\n      <td>77.395349</td>\n      <td>249.148418</td>\n      <td>635.733333</td>\n    </tr>\n    <tr>\n      <th>507</th>\n      <td>idaho</td>\n      <td>2015</td>\n      <td>0.94</td>\n      <td>1.14</td>\n      <td>0.79</td>\n      <td>2.87</td>\n      <td>222.814815</td>\n      <td>226.232558</td>\n      <td>164.022709</td>\n      <td>612.266667</td>\n    </tr>\n    <tr>\n      <th>45</th>\n      <td>alaska</td>\n      <td>2015</td>\n      <td>1.11</td>\n      <td>0.53</td>\n      <td>1.20</td>\n      <td>2.84</td>\n      <td>263.111111</td>\n      <td>105.178295</td>\n      <td>249.148418</td>\n      <td>605.866667</td>\n    </tr>\n  </tbody>\n</table>\n</div>"
     },
     "metadata": {},
     "execution_count": 35
    }
   ],
   "source": [
    "sdf2.head(10)"
   ]
  },
  {
   "cell_type": "code",
   "execution_count": 36,
   "metadata": {},
   "outputs": [],
   "source": [
    "total_drinks_per_state = sdf2[['state', 'number_of_drinks_total']]"
   ]
  },
  {
   "cell_type": "code",
   "execution_count": 37,
   "metadata": {},
   "outputs": [
    {
     "output_type": "execute_result",
     "data": {
      "text/plain": "                     state  number_of_drinks_total\n1221         new hampshire             1002.666667\n339   district of columbia              814.933333\n297               delaware              780.800000\n1179                nevada              714.666667\n1431          north dakota              695.466667\n1095               montana              659.200000\n1893               vermont              657.066667\n2061             wisconsin              635.733333\n507                  idaho              612.266667\n45                  alaska              605.866667",
      "text/html": "<div>\n<style scoped>\n    .dataframe tbody tr th:only-of-type {\n        vertical-align: middle;\n    }\n\n    .dataframe tbody tr th {\n        vertical-align: top;\n    }\n\n    .dataframe thead th {\n        text-align: right;\n    }\n</style>\n<table border=\"1\" class=\"dataframe\">\n  <thead>\n    <tr style=\"text-align: right;\">\n      <th></th>\n      <th>state</th>\n      <th>number_of_drinks_total</th>\n    </tr>\n  </thead>\n  <tbody>\n    <tr>\n      <th>1221</th>\n      <td>new hampshire</td>\n      <td>1002.666667</td>\n    </tr>\n    <tr>\n      <th>339</th>\n      <td>district of columbia</td>\n      <td>814.933333</td>\n    </tr>\n    <tr>\n      <th>297</th>\n      <td>delaware</td>\n      <td>780.800000</td>\n    </tr>\n    <tr>\n      <th>1179</th>\n      <td>nevada</td>\n      <td>714.666667</td>\n    </tr>\n    <tr>\n      <th>1431</th>\n      <td>north dakota</td>\n      <td>695.466667</td>\n    </tr>\n    <tr>\n      <th>1095</th>\n      <td>montana</td>\n      <td>659.200000</td>\n    </tr>\n    <tr>\n      <th>1893</th>\n      <td>vermont</td>\n      <td>657.066667</td>\n    </tr>\n    <tr>\n      <th>2061</th>\n      <td>wisconsin</td>\n      <td>635.733333</td>\n    </tr>\n    <tr>\n      <th>507</th>\n      <td>idaho</td>\n      <td>612.266667</td>\n    </tr>\n    <tr>\n      <th>45</th>\n      <td>alaska</td>\n      <td>605.866667</td>\n    </tr>\n  </tbody>\n</table>\n</div>"
     },
     "metadata": {},
     "execution_count": 37
    }
   ],
   "source": [
    "total_drinks_per_state.head(10)"
   ]
  },
  {
   "cell_type": "code",
   "execution_count": 146,
   "metadata": {},
   "outputs": [],
   "source": []
  },
  {
   "cell_type": "code",
   "execution_count": 148,
   "metadata": {},
   "outputs": [],
   "source": []
  },
  {
   "cell_type": "code",
   "execution_count": null,
   "metadata": {},
   "outputs": [],
   "source": []
  }
 ],
 "metadata": {
  "kernelspec": {
   "display_name": "Python 3",
   "language": "python",
   "name": "python3"
  },
  "language_info": {
   "codemirror_mode": {
    "name": "ipython",
    "version": 3
   },
   "file_extension": ".py",
   "mimetype": "text/x-python",
   "name": "python",
   "nbconvert_exporter": "python",
   "pygments_lexer": "ipython3",
   "version": "3.8.3"
  }
 },
 "nbformat": 4,
 "nbformat_minor": 4
}